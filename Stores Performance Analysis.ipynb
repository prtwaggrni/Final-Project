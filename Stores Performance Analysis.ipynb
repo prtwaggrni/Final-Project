{
 "cells": [
  {
   "cell_type": "markdown",
   "id": "3168c457-82cd-4b14-b2d0-b9153dfa251f",
   "metadata": {},
   "source": [
    "# Konten "
   ]
  },
  {
   "cell_type": "markdown",
   "id": "98253991-8176-4417-a783-aac92530c4b0",
   "metadata": {},
   "source": [
    "1. Proyek Overview\n",
    "2. Tujuan Proyek\n",
    "3. Import library dan data\n",
    "4. Praproses data\n",
    "   - 4.1 Missing value\n",
    "   - 4.2 Duplicates\n",
    "   - 4.3 Data type\n",
    "   - 4.4 Writing standard\n",
    "5. Eksplorasi data analisis\n",
    "    - 5.1 Purchase\n",
    "    - 5.2 Revenue\n",
    "    - 5.3 Loyalty Program\n",
    "    - 5.4 Shop \n",
    "    - 5.5 Item\n",
    "6. Hypothesis testing\n",
    "7. Kesimpulan\n",
    "8. Rekomendasi"
   ]
  },
  {
   "cell_type": "markdown",
   "id": "49f478ab-1280-4a53-bb5a-8506751194df",
   "metadata": {},
   "source": [
    "# Proyek Overview"
   ]
  },
  {
   "cell_type": "markdown",
   "id": "79f2ee42-e88d-432f-bb4a-f086805c0fc1",
   "metadata": {},
   "source": [
    "Dalam proyek ini saya bekerja sebagai analis junior di toko ritel bahan bangunan yang dikenal sebagai 'Home World'. Analisis ini dimaksudkan untuk memberikan informasi kepada pengelola toko, pemilik dan investor mengenai kinerja toko. Lebih lanjut berdasarkan informasi tersebut akan diberikan beberapa rekomendasi mengenai apa yang dapat dilakukan untuk mengatasi permasalahan yang dihadapi atau bahkan menciptakan peluang pembangunan.\n",
    "\n",
    "Dataset yang tersedia berisi data tentang pembelian yang dilakukan di retailer atau retailer bahan bangunan “Home World”. Bisnis mengklasifikasikan pelanggannya berdasarkan kartu loyalitas. Selain itu, pelanggan dapat menjadi anggota program loyalitas toko dengan biaya $20 per bulan. Keuntungan yang akan diterima anggota antara lain diskon, informasi penawaran khusus terlebih dahulu, dan banyak hadiah.\n",
    "\n",
    "Ada dua set data yang disediakan retail_dataset_us dan product_codes_us.\n",
    "\n",
    "retail_dataset_us.csv berisi:\n",
    "\n",
    "- purchaseId — ID pembelian pelanggan\n",
    "- item_ID — ID produk\n",
    "- tanggal pembelian — tanggal pembelian pelanggan\n",
    "- Kuantitas — jumlah item yang dibeli\n",
    "- CustomerID — ID akun pelanggan\n",
    "- ShopID — ID toko\n",
    "- program_loyalitas — apakah pelanggan adalah anggota program loyalitas. '0' berarti program non anggota dan '1' berarti program loyalitas\n",
    "\n",
    "product_codes_us.csv berisi:\n",
    "\n",
    "- ID Produk\n",
    "- price_per_one — biaya produk per satu"
   ]
  },
  {
   "cell_type": "markdown",
   "id": "07b919c6-0cd1-43ad-bf7e-af9b130b0f08",
   "metadata": {},
   "source": [
    "# Tujuan Proyek"
   ]
  },
  {
   "cell_type": "markdown",
   "id": "abe1c23a-2d0a-46aa-b37a-dd234882ef71",
   "metadata": {},
   "source": [
    "\n",
    "- kategori : purchase \r\n",
    "1. cek frekuensi pemebelian hari, bulan, tahun \r\n",
    "2. cek rata-rata pembelian per hari\r\n",
    "3. cek quantity pembelian hari, bulan, tahun\r\n",
    "4. cek rata-rata quantity per hari\r\n",
    "5. cek user unik pembelian hari, bulan, tahun\r\n",
    "6. cek rata-rata berapa user unik dalam 1 hari\r\n",
    "- kategori : revenue \r\n",
    "1. revenue harian \r\n",
    "2. revenue bulan \r\n",
    "3. revenue tahun \r\n",
    "- kategori : program loyalitas \r\n",
    "1. cek customer id unik member dan non \r\n",
    "2. pendapatan bisnis dari member dan non hari bulan tahun\r\n",
    "3. distribusi frekuensi member dan non member  \r\n",
    "4. distribusi volume member dan non member  \r\n",
    "- kategori : shop \r\n",
    "1. perbandingan total pendapatan antar toko\r\n",
    "2. rata rata pendapatan per transaksi\r\n",
    "3. perbandingan frekuensi aktivitas membeli antar toko\r\n",
    "4. analisa efektivitas program loyalitas mempertahankan konsumen\r\n",
    "5. rata rata jumlah pembelian per transaksi \r\n",
    "- kategori : item \r\n",
    "1. Rata rata jumlah item yang dibeli berdasarkan loyalty program\r\n",
    "2. Item yang paling banyak terjual\r\n",
    "3. Rata-rata harga per item untuk setiap toko"
   ]
  },
  {
   "cell_type": "markdown",
   "id": "46ceaef5-02d2-4f25-871f-e7111122c6e6",
   "metadata": {},
   "source": [
    "# Import Library"
   ]
  },
  {
   "cell_type": "code",
   "execution_count": 120,
   "id": "4bc7f8de-4263-4a83-81d0-9937cd16e12c",
   "metadata": {},
   "outputs": [],
   "source": [
    "import pandas as pd \n",
    "import numpy as np \n",
    "import datetime as dt\n",
    "import matplotlib.pyplot as plt \n",
    "import seaborn as sns\n",
    "import plotly.express as px \n",
    "import plotly.graph_objects as go\n",
    "from scipy import stats as st\n",
    "import math as mth\n",
    "from scipy.stats import ttest_ind\n",
    "from scipy.stats import chi2_contingency"
   ]
  },
  {
   "cell_type": "markdown",
   "id": "ebf3265c-5ec0-4a75-8f4b-fd6ed05f5d1a",
   "metadata": {},
   "source": [
    "# Import Data"
   ]
  },
  {
   "cell_type": "code",
   "execution_count": 121,
   "id": "4724145c-5403-41c2-9867-c67e63ecd91a",
   "metadata": {},
   "outputs": [
    {
     "data": {
      "text/html": [
       "<div>\n",
       "<style scoped>\n",
       "    .dataframe tbody tr th:only-of-type {\n",
       "        vertical-align: middle;\n",
       "    }\n",
       "\n",
       "    .dataframe tbody tr th {\n",
       "        vertical-align: top;\n",
       "    }\n",
       "\n",
       "    .dataframe thead th {\n",
       "        text-align: right;\n",
       "    }\n",
       "</style>\n",
       "<table border=\"1\" class=\"dataframe\">\n",
       "  <thead>\n",
       "    <tr style=\"text-align: right;\">\n",
       "      <th></th>\n",
       "      <th>purchaseid</th>\n",
       "      <th>item_ID</th>\n",
       "      <th>Quantity</th>\n",
       "      <th>purchasedate</th>\n",
       "      <th>CustomerID</th>\n",
       "      <th>loyalty_program</th>\n",
       "      <th>ShopID</th>\n",
       "    </tr>\n",
       "  </thead>\n",
       "  <tbody>\n",
       "    <tr>\n",
       "      <th>0</th>\n",
       "      <td>538280</td>\n",
       "      <td>21873</td>\n",
       "      <td>11</td>\n",
       "      <td>10/12/2016 12:50</td>\n",
       "      <td>18427.0</td>\n",
       "      <td>0</td>\n",
       "      <td>Shop 3</td>\n",
       "    </tr>\n",
       "    <tr>\n",
       "      <th>1</th>\n",
       "      <td>538862</td>\n",
       "      <td>22195</td>\n",
       "      <td>0</td>\n",
       "      <td>14/12/2016 14:11</td>\n",
       "      <td>22389.0</td>\n",
       "      <td>1</td>\n",
       "      <td>Shop 2</td>\n",
       "    </tr>\n",
       "    <tr>\n",
       "      <th>2</th>\n",
       "      <td>538855</td>\n",
       "      <td>21239</td>\n",
       "      <td>7</td>\n",
       "      <td>14/12/2016 13:50</td>\n",
       "      <td>22182.0</td>\n",
       "      <td>1</td>\n",
       "      <td>Shop 3</td>\n",
       "    </tr>\n",
       "    <tr>\n",
       "      <th>3</th>\n",
       "      <td>543543</td>\n",
       "      <td>22271</td>\n",
       "      <td>0</td>\n",
       "      <td>09/02/2017 15:33</td>\n",
       "      <td>23522.0</td>\n",
       "      <td>1</td>\n",
       "      <td>Shop 28</td>\n",
       "    </tr>\n",
       "    <tr>\n",
       "      <th>4</th>\n",
       "      <td>543812</td>\n",
       "      <td>79321</td>\n",
       "      <td>0</td>\n",
       "      <td>13/02/2017 14:40</td>\n",
       "      <td>23151.0</td>\n",
       "      <td>1</td>\n",
       "      <td>Shop 28</td>\n",
       "    </tr>\n",
       "  </tbody>\n",
       "</table>\n",
       "</div>"
      ],
      "text/plain": [
       "  purchaseid item_ID  Quantity      purchasedate  CustomerID  loyalty_program  \\\n",
       "0     538280   21873        11  10/12/2016 12:50     18427.0                0   \n",
       "1     538862   22195         0  14/12/2016 14:11     22389.0                1   \n",
       "2     538855   21239         7  14/12/2016 13:50     22182.0                1   \n",
       "3     543543   22271         0  09/02/2017 15:33     23522.0                1   \n",
       "4     543812   79321         0  13/02/2017 14:40     23151.0                1   \n",
       "\n",
       "    ShopID  \n",
       "0   Shop 3  \n",
       "1   Shop 2  \n",
       "2   Shop 3  \n",
       "3  Shop 28  \n",
       "4  Shop 28  "
      ]
     },
     "execution_count": 121,
     "metadata": {},
     "output_type": "execute_result"
    }
   ],
   "source": [
    "df_retail = pd.read_csv(\"D:\\Data Tiwi\\Data Analyst Tripleten\\Sprint 13\\data_retail.csv\", sep=';')\n",
    "df_retail.head()"
   ]
  },
  {
   "cell_type": "code",
   "execution_count": 122,
   "id": "b9e6f0bc-9af5-4ff9-9cb6-0bdd315393d7",
   "metadata": {},
   "outputs": [
    {
     "data": {
      "text/html": [
       "<div>\n",
       "<style scoped>\n",
       "    .dataframe tbody tr th:only-of-type {\n",
       "        vertical-align: middle;\n",
       "    }\n",
       "\n",
       "    .dataframe tbody tr th {\n",
       "        vertical-align: top;\n",
       "    }\n",
       "\n",
       "    .dataframe thead th {\n",
       "        text-align: right;\n",
       "    }\n",
       "</style>\n",
       "<table border=\"1\" class=\"dataframe\">\n",
       "  <thead>\n",
       "    <tr style=\"text-align: right;\">\n",
       "      <th></th>\n",
       "      <th>productID</th>\n",
       "      <th>price_per_one</th>\n",
       "    </tr>\n",
       "  </thead>\n",
       "  <tbody>\n",
       "    <tr>\n",
       "      <th>0</th>\n",
       "      <td>10002</td>\n",
       "      <td>0.85</td>\n",
       "    </tr>\n",
       "    <tr>\n",
       "      <th>1</th>\n",
       "      <td>10080</td>\n",
       "      <td>0.85</td>\n",
       "    </tr>\n",
       "    <tr>\n",
       "      <th>2</th>\n",
       "      <td>10120</td>\n",
       "      <td>0.21</td>\n",
       "    </tr>\n",
       "    <tr>\n",
       "      <th>3</th>\n",
       "      <td>10123C</td>\n",
       "      <td>0.65</td>\n",
       "    </tr>\n",
       "    <tr>\n",
       "      <th>4</th>\n",
       "      <td>10124A</td>\n",
       "      <td>0.42</td>\n",
       "    </tr>\n",
       "  </tbody>\n",
       "</table>\n",
       "</div>"
      ],
      "text/plain": [
       "  productID  price_per_one\n",
       "0     10002           0.85\n",
       "1     10080           0.85\n",
       "2     10120           0.21\n",
       "3    10123C           0.65\n",
       "4    10124A           0.42"
      ]
     },
     "execution_count": 122,
     "metadata": {},
     "output_type": "execute_result"
    }
   ],
   "source": [
    "df_product = pd.read_csv(\"D:\\Data Tiwi\\Data Analyst Tripleten\\Sprint 13\\product_codes_us.csv\", sep=';')\n",
    "df_product.head()"
   ]
  },
  {
   "cell_type": "markdown",
   "id": "25bca717-3202-41ca-8e75-5821623c0ec4",
   "metadata": {},
   "source": [
    "# Data Explor - Retail"
   ]
  },
  {
   "cell_type": "code",
   "execution_count": 123,
   "id": "163212e8-26bc-4049-82ba-fd4f7502761e",
   "metadata": {},
   "outputs": [
    {
     "name": "stdout",
     "output_type": "stream",
     "text": [
      "<class 'pandas.core.frame.DataFrame'>\n",
      "RangeIndex: 105335 entries, 0 to 105334\n",
      "Data columns (total 7 columns):\n",
      " #   Column           Non-Null Count   Dtype  \n",
      "---  ------           --------------   -----  \n",
      " 0   purchaseid       105335 non-null  object \n",
      " 1   item_ID          105335 non-null  object \n",
      " 2   Quantity         105335 non-null  int64  \n",
      " 3   purchasedate     105335 non-null  object \n",
      " 4   CustomerID       69125 non-null   float64\n",
      " 5   loyalty_program  105335 non-null  int64  \n",
      " 6   ShopID           105335 non-null  object \n",
      "dtypes: float64(1), int64(2), object(4)\n",
      "memory usage: 5.6+ MB\n"
     ]
    }
   ],
   "source": [
    "df_retail.info()"
   ]
  },
  {
   "cell_type": "code",
   "execution_count": 124,
   "id": "3bc434f7-3628-4da5-b812-f4f56f8ec5ea",
   "metadata": {},
   "outputs": [
    {
     "data": {
      "text/plain": [
       "purchaseid             0\n",
       "item_ID                0\n",
       "Quantity               0\n",
       "purchasedate           0\n",
       "CustomerID         36210\n",
       "loyalty_program        0\n",
       "ShopID                 0\n",
       "dtype: int64"
      ]
     },
     "execution_count": 124,
     "metadata": {},
     "output_type": "execute_result"
    }
   ],
   "source": [
    "#cek nilai hilang \n",
    "df_retail.isna().sum()"
   ]
  },
  {
   "cell_type": "code",
   "execution_count": 125,
   "id": "42b7e778-83bf-45d2-907c-c47349c2f5d6",
   "metadata": {},
   "outputs": [
    {
     "data": {
      "text/plain": [
       "1033"
      ]
     },
     "execution_count": 125,
     "metadata": {},
     "output_type": "execute_result"
    }
   ],
   "source": [
    "#cek duplikasi \n",
    "df_retail.duplicated().sum()"
   ]
  },
  {
   "cell_type": "markdown",
   "id": "72e40d02-6015-4a80-9215-80277298270b",
   "metadata": {},
   "source": [
    "dikethaui \n",
    "- data terdiri dari 105335 baris dengan 7 kolom \n",
    "- penulisan nama kolom tidak sesuai \n",
    "- tipe kolom yang memuat tanggal tidak sesuai \n",
    "- terdapat missing value pada kolom customer id \n",
    "- terdapat 1033 baris duplikasi "
   ]
  },
  {
   "cell_type": "code",
   "execution_count": 126,
   "id": "b3b2754f-93dd-4538-aa21-349c49dd7ac7",
   "metadata": {},
   "outputs": [
    {
     "data": {
      "text/html": [
       "<div>\n",
       "<style scoped>\n",
       "    .dataframe tbody tr th:only-of-type {\n",
       "        vertical-align: middle;\n",
       "    }\n",
       "\n",
       "    .dataframe tbody tr th {\n",
       "        vertical-align: top;\n",
       "    }\n",
       "\n",
       "    .dataframe thead th {\n",
       "        text-align: right;\n",
       "    }\n",
       "</style>\n",
       "<table border=\"1\" class=\"dataframe\">\n",
       "  <thead>\n",
       "    <tr style=\"text-align: right;\">\n",
       "      <th></th>\n",
       "      <th>purchase_id</th>\n",
       "      <th>item_id</th>\n",
       "      <th>quantity</th>\n",
       "      <th>purchase_date</th>\n",
       "      <th>customer_id</th>\n",
       "      <th>loyalty_program</th>\n",
       "      <th>shop_id</th>\n",
       "    </tr>\n",
       "  </thead>\n",
       "  <tbody>\n",
       "    <tr>\n",
       "      <th>0</th>\n",
       "      <td>538280</td>\n",
       "      <td>21873</td>\n",
       "      <td>11</td>\n",
       "      <td>10/12/2016 12:50</td>\n",
       "      <td>18427.0</td>\n",
       "      <td>0</td>\n",
       "      <td>Shop 3</td>\n",
       "    </tr>\n",
       "    <tr>\n",
       "      <th>1</th>\n",
       "      <td>538862</td>\n",
       "      <td>22195</td>\n",
       "      <td>0</td>\n",
       "      <td>14/12/2016 14:11</td>\n",
       "      <td>22389.0</td>\n",
       "      <td>1</td>\n",
       "      <td>Shop 2</td>\n",
       "    </tr>\n",
       "    <tr>\n",
       "      <th>2</th>\n",
       "      <td>538855</td>\n",
       "      <td>21239</td>\n",
       "      <td>7</td>\n",
       "      <td>14/12/2016 13:50</td>\n",
       "      <td>22182.0</td>\n",
       "      <td>1</td>\n",
       "      <td>Shop 3</td>\n",
       "    </tr>\n",
       "    <tr>\n",
       "      <th>3</th>\n",
       "      <td>543543</td>\n",
       "      <td>22271</td>\n",
       "      <td>0</td>\n",
       "      <td>09/02/2017 15:33</td>\n",
       "      <td>23522.0</td>\n",
       "      <td>1</td>\n",
       "      <td>Shop 28</td>\n",
       "    </tr>\n",
       "    <tr>\n",
       "      <th>4</th>\n",
       "      <td>543812</td>\n",
       "      <td>79321</td>\n",
       "      <td>0</td>\n",
       "      <td>13/02/2017 14:40</td>\n",
       "      <td>23151.0</td>\n",
       "      <td>1</td>\n",
       "      <td>Shop 28</td>\n",
       "    </tr>\n",
       "  </tbody>\n",
       "</table>\n",
       "</div>"
      ],
      "text/plain": [
       "  purchase_id item_id  quantity     purchase_date  customer_id  \\\n",
       "0      538280   21873        11  10/12/2016 12:50      18427.0   \n",
       "1      538862   22195         0  14/12/2016 14:11      22389.0   \n",
       "2      538855   21239         7  14/12/2016 13:50      22182.0   \n",
       "3      543543   22271         0  09/02/2017 15:33      23522.0   \n",
       "4      543812   79321         0  13/02/2017 14:40      23151.0   \n",
       "\n",
       "   loyalty_program  shop_id  \n",
       "0                0   Shop 3  \n",
       "1                1   Shop 2  \n",
       "2                1   Shop 3  \n",
       "3                1  Shop 28  \n",
       "4                1  Shop 28  "
      ]
     },
     "execution_count": 126,
     "metadata": {},
     "output_type": "execute_result"
    }
   ],
   "source": [
    "#perbaikan nama kolom \n",
    "df_retail.columns = ['purchase_id','item_id','quantity','purchase_date','customer_id','loyalty_program','shop_id']\n",
    "df_retail.head()"
   ]
  },
  {
   "cell_type": "code",
   "execution_count": 127,
   "id": "11c09922-b079-42af-a00a-00bd8186fa22",
   "metadata": {},
   "outputs": [],
   "source": [
    "#perbaikan tipe data tangal \n",
    "df_retail['purchase_date'] = pd.to_datetime(df_retail['purchase_date'], format = '%d/%m/%Y %H:%M')"
   ]
  },
  {
   "cell_type": "code",
   "execution_count": 128,
   "id": "f1430748-782c-4004-b8da-e5806796f866",
   "metadata": {},
   "outputs": [
    {
     "name": "stdout",
     "output_type": "stream",
     "text": [
      "Persentase jumlah missing value 34.38%\n"
     ]
    }
   ],
   "source": [
    "#perbaiki missing value \n",
    "miss_value = df_retail['customer_id'].isna().sum() / 105335 \n",
    "print(f'Persentase jumlah missing value {miss_value:.2%}')"
   ]
  },
  {
   "cell_type": "code",
   "execution_count": 129,
   "id": "859a6a83-516b-42e8-8e13-6f205643de2a",
   "metadata": {},
   "outputs": [
    {
     "data": {
      "text/plain": [
       "0    18427.0\n",
       "Name: customer_id, dtype: float64"
      ]
     },
     "execution_count": 129,
     "metadata": {},
     "output_type": "execute_result"
    }
   ],
   "source": [
    "df_retail['customer_id'].mode()"
   ]
  },
  {
   "cell_type": "markdown",
   "id": "9468efbd-97d2-4a8e-8abf-f068185108a8",
   "metadata": {},
   "source": [
    "Dikarenakan nilai missing value lebih besar dari 10%, maka nilai missing value akan digantikan dengan customer id yang memiliki frekuensi tertinggi"
   ]
  },
  {
   "cell_type": "code",
   "execution_count": 130,
   "id": "902c3eeb-f7e6-4e7d-bf7c-e5a8cacc27ae",
   "metadata": {},
   "outputs": [],
   "source": [
    "df_retail['customer_id'] = df_retail['customer_id'].fillna(18427.0)"
   ]
  },
  {
   "cell_type": "code",
   "execution_count": 131,
   "id": "d6edaea5-2c6a-425f-a3db-9977344262b4",
   "metadata": {},
   "outputs": [
    {
     "data": {
      "text/plain": [
       "purchase_id        0\n",
       "item_id            0\n",
       "quantity           0\n",
       "purchase_date      0\n",
       "customer_id        0\n",
       "loyalty_program    0\n",
       "shop_id            0\n",
       "dtype: int64"
      ]
     },
     "execution_count": 131,
     "metadata": {},
     "output_type": "execute_result"
    }
   ],
   "source": [
    "df_retail.isna().sum()"
   ]
  },
  {
   "cell_type": "code",
   "execution_count": 132,
   "id": "56cac17b-4de0-43bd-b4f5-432a447c4580",
   "metadata": {},
   "outputs": [
    {
     "name": "stdout",
     "output_type": "stream",
     "text": [
      "Persentase jumlah duplikasi 0.98%\n"
     ]
    }
   ],
   "source": [
    "#perbaikan duplikasi \n",
    "dupe = df_retail.duplicated().sum() / 105335 \n",
    "print(f'Persentase jumlah duplikasi {dupe:.2%}')"
   ]
  },
  {
   "cell_type": "markdown",
   "id": "1394cac4-ee99-4260-af9c-c0282b240e74",
   "metadata": {},
   "source": [
    "karena besar persentase duplikasi kecil dari 1% maka nilai duplikasi dapat dihapus "
   ]
  },
  {
   "cell_type": "code",
   "execution_count": 133,
   "id": "4796638c-1e73-474a-b5d4-6d7e75af2752",
   "metadata": {},
   "outputs": [],
   "source": [
    "df_retail = df_retail.drop_duplicates()"
   ]
  },
  {
   "cell_type": "code",
   "execution_count": 134,
   "id": "935a6dd7-d610-4e8d-a5dc-110977138bcb",
   "metadata": {
    "scrolled": true
   },
   "outputs": [
    {
     "data": {
      "text/plain": [
       "0"
      ]
     },
     "execution_count": 134,
     "metadata": {},
     "output_type": "execute_result"
    }
   ],
   "source": [
    "df_retail.duplicated().sum()"
   ]
  },
  {
   "cell_type": "code",
   "execution_count": 135,
   "id": "725d1feb-f630-428d-80d3-7a3bcda08272",
   "metadata": {},
   "outputs": [],
   "source": [
    "#penyesuaian bentuk tampilan value customer id \n",
    "df_retail['customer_id'] = df_retail['customer_id'].astype(int)"
   ]
  },
  {
   "cell_type": "code",
   "execution_count": 136,
   "id": "f0440ca1-d442-40f9-bc60-f6996c0ab98e",
   "metadata": {},
   "outputs": [
    {
     "data": {
      "text/html": [
       "<div>\n",
       "<style scoped>\n",
       "    .dataframe tbody tr th:only-of-type {\n",
       "        vertical-align: middle;\n",
       "    }\n",
       "\n",
       "    .dataframe tbody tr th {\n",
       "        vertical-align: top;\n",
       "    }\n",
       "\n",
       "    .dataframe thead th {\n",
       "        text-align: right;\n",
       "    }\n",
       "</style>\n",
       "<table border=\"1\" class=\"dataframe\">\n",
       "  <thead>\n",
       "    <tr style=\"text-align: right;\">\n",
       "      <th></th>\n",
       "      <th>purchase_id</th>\n",
       "      <th>item_id</th>\n",
       "      <th>quantity</th>\n",
       "      <th>purchase_date</th>\n",
       "      <th>customer_id</th>\n",
       "      <th>loyalty_program</th>\n",
       "      <th>shop_id</th>\n",
       "    </tr>\n",
       "  </thead>\n",
       "  <tbody>\n",
       "    <tr>\n",
       "      <th>0</th>\n",
       "      <td>538280</td>\n",
       "      <td>21873</td>\n",
       "      <td>11</td>\n",
       "      <td>2016-12-10 12:50:00</td>\n",
       "      <td>18427</td>\n",
       "      <td>0</td>\n",
       "      <td>Shop 3</td>\n",
       "    </tr>\n",
       "    <tr>\n",
       "      <th>1</th>\n",
       "      <td>538862</td>\n",
       "      <td>22195</td>\n",
       "      <td>0</td>\n",
       "      <td>2016-12-14 14:11:00</td>\n",
       "      <td>22389</td>\n",
       "      <td>1</td>\n",
       "      <td>Shop 2</td>\n",
       "    </tr>\n",
       "    <tr>\n",
       "      <th>2</th>\n",
       "      <td>538855</td>\n",
       "      <td>21239</td>\n",
       "      <td>7</td>\n",
       "      <td>2016-12-14 13:50:00</td>\n",
       "      <td>22182</td>\n",
       "      <td>1</td>\n",
       "      <td>Shop 3</td>\n",
       "    </tr>\n",
       "    <tr>\n",
       "      <th>3</th>\n",
       "      <td>543543</td>\n",
       "      <td>22271</td>\n",
       "      <td>0</td>\n",
       "      <td>2017-02-09 15:33:00</td>\n",
       "      <td>23522</td>\n",
       "      <td>1</td>\n",
       "      <td>Shop 28</td>\n",
       "    </tr>\n",
       "    <tr>\n",
       "      <th>4</th>\n",
       "      <td>543812</td>\n",
       "      <td>79321</td>\n",
       "      <td>0</td>\n",
       "      <td>2017-02-13 14:40:00</td>\n",
       "      <td>23151</td>\n",
       "      <td>1</td>\n",
       "      <td>Shop 28</td>\n",
       "    </tr>\n",
       "  </tbody>\n",
       "</table>\n",
       "</div>"
      ],
      "text/plain": [
       "  purchase_id item_id  quantity       purchase_date  customer_id  \\\n",
       "0      538280   21873        11 2016-12-10 12:50:00        18427   \n",
       "1      538862   22195         0 2016-12-14 14:11:00        22389   \n",
       "2      538855   21239         7 2016-12-14 13:50:00        22182   \n",
       "3      543543   22271         0 2017-02-09 15:33:00        23522   \n",
       "4      543812   79321         0 2017-02-13 14:40:00        23151   \n",
       "\n",
       "   loyalty_program  shop_id  \n",
       "0                0   Shop 3  \n",
       "1                1   Shop 2  \n",
       "2                1   Shop 3  \n",
       "3                1  Shop 28  \n",
       "4                1  Shop 28  "
      ]
     },
     "execution_count": 136,
     "metadata": {},
     "output_type": "execute_result"
    }
   ],
   "source": [
    "df_retail.head()"
   ]
  },
  {
   "cell_type": "code",
   "execution_count": 137,
   "id": "e5f649a9-5b92-48b0-8984-db6ac91583bc",
   "metadata": {},
   "outputs": [
    {
     "name": "stdout",
     "output_type": "stream",
     "text": [
      "<class 'pandas.core.frame.DataFrame'>\n",
      "Index: 104302 entries, 0 to 105334\n",
      "Data columns (total 7 columns):\n",
      " #   Column           Non-Null Count   Dtype         \n",
      "---  ------           --------------   -----         \n",
      " 0   purchase_id      104302 non-null  object        \n",
      " 1   item_id          104302 non-null  object        \n",
      " 2   quantity         104302 non-null  int64         \n",
      " 3   purchase_date    104302 non-null  datetime64[ns]\n",
      " 4   customer_id      104302 non-null  int32         \n",
      " 5   loyalty_program  104302 non-null  int64         \n",
      " 6   shop_id          104302 non-null  object        \n",
      "dtypes: datetime64[ns](1), int32(1), int64(2), object(3)\n",
      "memory usage: 6.0+ MB\n"
     ]
    }
   ],
   "source": [
    "df_retail.info()"
   ]
  },
  {
   "cell_type": "markdown",
   "id": "551f0af2-271d-48af-93c0-94124773c2c1",
   "metadata": {},
   "source": [
    "# Data Explor - Product"
   ]
  },
  {
   "cell_type": "code",
   "execution_count": 138,
   "id": "56607e61-e3ca-479b-bd9d-d83c1c8aa25a",
   "metadata": {},
   "outputs": [
    {
     "name": "stdout",
     "output_type": "stream",
     "text": [
      "<class 'pandas.core.frame.DataFrame'>\n",
      "RangeIndex: 3159 entries, 0 to 3158\n",
      "Data columns (total 2 columns):\n",
      " #   Column         Non-Null Count  Dtype  \n",
      "---  ------         --------------  -----  \n",
      " 0   productID      3159 non-null   object \n",
      " 1   price_per_one  3159 non-null   float64\n",
      "dtypes: float64(1), object(1)\n",
      "memory usage: 49.5+ KB\n"
     ]
    }
   ],
   "source": [
    "df_product.info()"
   ]
  },
  {
   "cell_type": "code",
   "execution_count": 139,
   "id": "fd90d29f-5f21-452b-9d94-7d8c37a35f69",
   "metadata": {},
   "outputs": [
    {
     "data": {
      "text/plain": [
       "0"
      ]
     },
     "execution_count": 139,
     "metadata": {},
     "output_type": "execute_result"
    }
   ],
   "source": [
    "df_product.duplicated().sum()"
   ]
  },
  {
   "cell_type": "markdown",
   "id": "dba30b8e-716e-4f63-b6b1-7c4ef621f975",
   "metadata": {},
   "source": [
    "diketahui \n",
    "- data terdiri dari 3159 baris dengan 2 kolom \n",
    "- data tidak memiliki duplikasi \n",
    "- data tidak memiliki missing value \n",
    "- penulisan nama kolom perlu diperbaiki \n",
    "- tipe data sudah sesuai"
   ]
  },
  {
   "cell_type": "code",
   "execution_count": 140,
   "id": "51fb5b4b-36e9-4286-9a81-c1179f56dc3e",
   "metadata": {},
   "outputs": [
    {
     "data": {
      "text/html": [
       "<div>\n",
       "<style scoped>\n",
       "    .dataframe tbody tr th:only-of-type {\n",
       "        vertical-align: middle;\n",
       "    }\n",
       "\n",
       "    .dataframe tbody tr th {\n",
       "        vertical-align: top;\n",
       "    }\n",
       "\n",
       "    .dataframe thead th {\n",
       "        text-align: right;\n",
       "    }\n",
       "</style>\n",
       "<table border=\"1\" class=\"dataframe\">\n",
       "  <thead>\n",
       "    <tr style=\"text-align: right;\">\n",
       "      <th></th>\n",
       "      <th>product_id</th>\n",
       "      <th>price_per_one</th>\n",
       "    </tr>\n",
       "  </thead>\n",
       "  <tbody>\n",
       "    <tr>\n",
       "      <th>0</th>\n",
       "      <td>10002</td>\n",
       "      <td>0.85</td>\n",
       "    </tr>\n",
       "    <tr>\n",
       "      <th>1</th>\n",
       "      <td>10080</td>\n",
       "      <td>0.85</td>\n",
       "    </tr>\n",
       "    <tr>\n",
       "      <th>2</th>\n",
       "      <td>10120</td>\n",
       "      <td>0.21</td>\n",
       "    </tr>\n",
       "    <tr>\n",
       "      <th>3</th>\n",
       "      <td>10123C</td>\n",
       "      <td>0.65</td>\n",
       "    </tr>\n",
       "    <tr>\n",
       "      <th>4</th>\n",
       "      <td>10124A</td>\n",
       "      <td>0.42</td>\n",
       "    </tr>\n",
       "  </tbody>\n",
       "</table>\n",
       "</div>"
      ],
      "text/plain": [
       "  product_id  price_per_one\n",
       "0      10002           0.85\n",
       "1      10080           0.85\n",
       "2      10120           0.21\n",
       "3     10123C           0.65\n",
       "4     10124A           0.42"
      ]
     },
     "execution_count": 140,
     "metadata": {},
     "output_type": "execute_result"
    }
   ],
   "source": [
    "df_product.columns = ['product_id','price_per_one']\n",
    "df_product.head()"
   ]
  },
  {
   "cell_type": "markdown",
   "id": "258c639c-93e6-4ba9-9cb9-599557f08065",
   "metadata": {},
   "source": [
    "# Data Analisis - Purchase"
   ]
  },
  {
   "cell_type": "markdown",
   "id": "383049bb-00ae-49e4-b91c-5057a6e49662",
   "metadata": {},
   "source": [
    "1. cek frekuensi pemebelian hari, bulan, tahun \n",
    "2. cek rata-rata pembelian per hari\n",
    "3. cek quantity pembelian hari, bulan, tahun\n",
    "4. cek rata-rata quantity per hari\n",
    "5. cek user unik pembelian hari, bulan, tahun\n",
    "6. cek rata-rata berapa user unik dalam 1 hari"
   ]
  },
  {
   "cell_type": "code",
   "execution_count": 141,
   "id": "6b93c52c-cdce-4e2e-93f1-3aa819e5b16f",
   "metadata": {},
   "outputs": [],
   "source": [
    "df_retail['purchase_day'] = df_retail['purchase_date'].dt.date\n",
    "df_retail['purchase_month'] = df_retail['purchase_date'].dt.month\n",
    "df_retail['purchase_year'] = df_retail['purchase_date'].dt.year"
   ]
  },
  {
   "cell_type": "code",
   "execution_count": 142,
   "id": "9d5648e8-d2a9-4454-ad27-9dfb05e786ff",
   "metadata": {
    "scrolled": true
   },
   "outputs": [
    {
     "data": {
      "text/html": [
       "<div>\n",
       "<style scoped>\n",
       "    .dataframe tbody tr th:only-of-type {\n",
       "        vertical-align: middle;\n",
       "    }\n",
       "\n",
       "    .dataframe tbody tr th {\n",
       "        vertical-align: top;\n",
       "    }\n",
       "\n",
       "    .dataframe thead th {\n",
       "        text-align: right;\n",
       "    }\n",
       "</style>\n",
       "<table border=\"1\" class=\"dataframe\">\n",
       "  <thead>\n",
       "    <tr style=\"text-align: right;\">\n",
       "      <th></th>\n",
       "      <th>purchase_id</th>\n",
       "      <th>item_id</th>\n",
       "      <th>quantity</th>\n",
       "      <th>purchase_date</th>\n",
       "      <th>customer_id</th>\n",
       "      <th>loyalty_program</th>\n",
       "      <th>shop_id</th>\n",
       "      <th>purchase_day</th>\n",
       "      <th>purchase_month</th>\n",
       "      <th>purchase_year</th>\n",
       "    </tr>\n",
       "  </thead>\n",
       "  <tbody>\n",
       "    <tr>\n",
       "      <th>0</th>\n",
       "      <td>538280</td>\n",
       "      <td>21873</td>\n",
       "      <td>11</td>\n",
       "      <td>2016-12-10 12:50:00</td>\n",
       "      <td>18427</td>\n",
       "      <td>0</td>\n",
       "      <td>Shop 3</td>\n",
       "      <td>2016-12-10</td>\n",
       "      <td>12</td>\n",
       "      <td>2016</td>\n",
       "    </tr>\n",
       "    <tr>\n",
       "      <th>1</th>\n",
       "      <td>538862</td>\n",
       "      <td>22195</td>\n",
       "      <td>0</td>\n",
       "      <td>2016-12-14 14:11:00</td>\n",
       "      <td>22389</td>\n",
       "      <td>1</td>\n",
       "      <td>Shop 2</td>\n",
       "      <td>2016-12-14</td>\n",
       "      <td>12</td>\n",
       "      <td>2016</td>\n",
       "    </tr>\n",
       "    <tr>\n",
       "      <th>2</th>\n",
       "      <td>538855</td>\n",
       "      <td>21239</td>\n",
       "      <td>7</td>\n",
       "      <td>2016-12-14 13:50:00</td>\n",
       "      <td>22182</td>\n",
       "      <td>1</td>\n",
       "      <td>Shop 3</td>\n",
       "      <td>2016-12-14</td>\n",
       "      <td>12</td>\n",
       "      <td>2016</td>\n",
       "    </tr>\n",
       "    <tr>\n",
       "      <th>3</th>\n",
       "      <td>543543</td>\n",
       "      <td>22271</td>\n",
       "      <td>0</td>\n",
       "      <td>2017-02-09 15:33:00</td>\n",
       "      <td>23522</td>\n",
       "      <td>1</td>\n",
       "      <td>Shop 28</td>\n",
       "      <td>2017-02-09</td>\n",
       "      <td>2</td>\n",
       "      <td>2017</td>\n",
       "    </tr>\n",
       "    <tr>\n",
       "      <th>4</th>\n",
       "      <td>543812</td>\n",
       "      <td>79321</td>\n",
       "      <td>0</td>\n",
       "      <td>2017-02-13 14:40:00</td>\n",
       "      <td>23151</td>\n",
       "      <td>1</td>\n",
       "      <td>Shop 28</td>\n",
       "      <td>2017-02-13</td>\n",
       "      <td>2</td>\n",
       "      <td>2017</td>\n",
       "    </tr>\n",
       "  </tbody>\n",
       "</table>\n",
       "</div>"
      ],
      "text/plain": [
       "  purchase_id item_id  quantity       purchase_date  customer_id  \\\n",
       "0      538280   21873        11 2016-12-10 12:50:00        18427   \n",
       "1      538862   22195         0 2016-12-14 14:11:00        22389   \n",
       "2      538855   21239         7 2016-12-14 13:50:00        22182   \n",
       "3      543543   22271         0 2017-02-09 15:33:00        23522   \n",
       "4      543812   79321         0 2017-02-13 14:40:00        23151   \n",
       "\n",
       "   loyalty_program  shop_id purchase_day  purchase_month  purchase_year  \n",
       "0                0   Shop 3   2016-12-10              12           2016  \n",
       "1                1   Shop 2   2016-12-14              12           2016  \n",
       "2                1   Shop 3   2016-12-14              12           2016  \n",
       "3                1  Shop 28   2017-02-09               2           2017  \n",
       "4                1  Shop 28   2017-02-13               2           2017  "
      ]
     },
     "execution_count": 142,
     "metadata": {},
     "output_type": "execute_result"
    }
   ],
   "source": [
    "df_retail.head()"
   ]
  },
  {
   "cell_type": "code",
   "execution_count": 143,
   "id": "8cca434a-d262-41da-ad4f-93b932350383",
   "metadata": {},
   "outputs": [
    {
     "data": {
      "text/plain": [
       "(Timestamp('2016-12-01 08:26:00'), Timestamp('2017-02-28 17:04:00'))"
      ]
     },
     "execution_count": 143,
     "metadata": {},
     "output_type": "execute_result"
    }
   ],
   "source": [
    "min_date = df_retail['purchase_date'].min()\n",
    "max_date = df_retail['purchase_date'].max()\n",
    "(min_date, max_date)"
   ]
  },
  {
   "cell_type": "markdown",
   "id": "2d4d0c2c-a51d-4e44-931c-0f486ad1e315",
   "metadata": {},
   "source": [
    "timeline dataset yang direkap mulai dari 01 Desember 2016 hingga 28 Februari 2017"
   ]
  },
  {
   "cell_type": "code",
   "execution_count": 144,
   "id": "5d4fbba4-ef1d-4fa2-b11f-8d4c23dca54a",
   "metadata": {},
   "outputs": [
    {
     "data": {
      "text/html": [
       "<div>\n",
       "<style scoped>\n",
       "    .dataframe tbody tr th:only-of-type {\n",
       "        vertical-align: middle;\n",
       "    }\n",
       "\n",
       "    .dataframe tbody tr th {\n",
       "        vertical-align: top;\n",
       "    }\n",
       "\n",
       "    .dataframe thead th {\n",
       "        text-align: right;\n",
       "    }\n",
       "</style>\n",
       "<table border=\"1\" class=\"dataframe\">\n",
       "  <thead>\n",
       "    <tr style=\"text-align: right;\">\n",
       "      <th></th>\n",
       "      <th>purchase_day</th>\n",
       "      <th>purchase_id</th>\n",
       "    </tr>\n",
       "  </thead>\n",
       "  <tbody>\n",
       "    <tr>\n",
       "      <th>0</th>\n",
       "      <td>2016-12-01</td>\n",
       "      <td>3063</td>\n",
       "    </tr>\n",
       "    <tr>\n",
       "      <th>1</th>\n",
       "      <td>2016-12-02</td>\n",
       "      <td>2068</td>\n",
       "    </tr>\n",
       "    <tr>\n",
       "      <th>2</th>\n",
       "      <td>2016-12-03</td>\n",
       "      <td>2184</td>\n",
       "    </tr>\n",
       "    <tr>\n",
       "      <th>3</th>\n",
       "      <td>2016-12-05</td>\n",
       "      <td>2619</td>\n",
       "    </tr>\n",
       "    <tr>\n",
       "      <th>4</th>\n",
       "      <td>2016-12-06</td>\n",
       "      <td>3830</td>\n",
       "    </tr>\n",
       "  </tbody>\n",
       "</table>\n",
       "</div>"
      ],
      "text/plain": [
       "  purchase_day  purchase_id\n",
       "0   2016-12-01         3063\n",
       "1   2016-12-02         2068\n",
       "2   2016-12-03         2184\n",
       "3   2016-12-05         2619\n",
       "4   2016-12-06         3830"
      ]
     },
     "execution_count": 144,
     "metadata": {},
     "output_type": "execute_result"
    }
   ],
   "source": [
    "#tugas 1 : hari\n",
    "daily_purchase_freq = df_retail.groupby('purchase_day')['purchase_id'].count().reset_index()\n",
    "daily_purchase_freq.head()"
   ]
  },
  {
   "cell_type": "code",
   "execution_count": 145,
   "id": "13056d92-18e9-45f8-8514-3940a626665f",
   "metadata": {},
   "outputs": [
    {
     "data": {
      "image/png": "[encoded data removed]",
      "text/plain": [
       "<Figure size 1000x600 with 1 Axes>"
      ]
     },
     "metadata": {},
     "output_type": "display_data"
    }
   ],
   "source": [
    "plt.figure(figsize=(10,6))\n",
    "sns.barplot(data=daily_purchase_freq, x='purchase_day', y='purchase_id')\n",
    "plt.title('Daily Purchase Frequency')\n",
    "plt.xlabel('Date')\n",
    "plt.ylabel('Frequency')\n",
    "plt.grid(False)\n",
    "plt.xticks(rotation=90)\n",
    "plt.tight_layout()\n",
    "plt.show()"
   ]
  },
  {
   "cell_type": "code",
   "execution_count": 146,
   "id": "35b17c5c-b68b-4b44-8d91-085f27715944",
   "metadata": {},
   "outputs": [
    {
     "data": {
      "text/html": [
       "<div>\n",
       "<style scoped>\n",
       "    .dataframe tbody tr th:only-of-type {\n",
       "        vertical-align: middle;\n",
       "    }\n",
       "\n",
       "    .dataframe tbody tr th {\n",
       "        vertical-align: top;\n",
       "    }\n",
       "\n",
       "    .dataframe thead th {\n",
       "        text-align: right;\n",
       "    }\n",
       "</style>\n",
       "<table border=\"1\" class=\"dataframe\">\n",
       "  <thead>\n",
       "    <tr style=\"text-align: right;\">\n",
       "      <th></th>\n",
       "      <th>purchase_day</th>\n",
       "      <th>purchase_id</th>\n",
       "    </tr>\n",
       "  </thead>\n",
       "  <tbody>\n",
       "    <tr>\n",
       "      <th>4</th>\n",
       "      <td>2016-12-06</td>\n",
       "      <td>3830</td>\n",
       "    </tr>\n",
       "    <tr>\n",
       "      <th>14</th>\n",
       "      <td>2016-12-17</td>\n",
       "      <td>3112</td>\n",
       "    </tr>\n",
       "    <tr>\n",
       "      <th>0</th>\n",
       "      <td>2016-12-01</td>\n",
       "      <td>3063</td>\n",
       "    </tr>\n",
       "  </tbody>\n",
       "</table>\n",
       "</div>"
      ],
      "text/plain": [
       "   purchase_day  purchase_id\n",
       "4    2016-12-06         3830\n",
       "14   2016-12-17         3112\n",
       "0    2016-12-01         3063"
      ]
     },
     "execution_count": 146,
     "metadata": {},
     "output_type": "execute_result"
    }
   ],
   "source": [
    "daily_purchase_freq.sort_values(by='purchase_id', ascending=False).head(3)"
   ]
  },
  {
   "cell_type": "markdown",
   "id": "303746f4-83cf-4f9c-960b-b1a18aaf4321",
   "metadata": {},
   "source": [
    "terdapat 3 tanggal yang memiliki frekuensi pembelian per hari lebih dari 3000 ialah \n",
    "- 6 Desember 2016 = 3830 \n",
    "- 17 Desember 2016 = 3112 \n",
    "- 1 Desember 2016 = 2063"
   ]
  },
  {
   "cell_type": "code",
   "execution_count": 147,
   "id": "505fb471-9cd4-4257-b39a-3948873b89e7",
   "metadata": {},
   "outputs": [
    {
     "data": {
      "text/plain": [
       "1533.8529411764705"
      ]
     },
     "execution_count": 147,
     "metadata": {},
     "output_type": "execute_result"
    }
   ],
   "source": [
    "#tugas 2 : rata-rata frekuensi pembelian per hari\n",
    "daily_purchase_freq['purchase_id'].mean()"
   ]
  },
  {
   "cell_type": "markdown",
   "id": "6f399e52-332c-4a3c-bbb1-01aa553f3b3b",
   "metadata": {},
   "source": [
    "berdasarkan pengolahan diketahui dalam 1 hari terdapat 1533 kali aktivitas pembelian "
   ]
  },
  {
   "cell_type": "code",
   "execution_count": 148,
   "id": "ea1a7f59-d438-4dcc-af7d-48edb244a902",
   "metadata": {},
   "outputs": [
    {
     "data": {
      "text/html": [
       "<div>\n",
       "<style scoped>\n",
       "    .dataframe tbody tr th:only-of-type {\n",
       "        vertical-align: middle;\n",
       "    }\n",
       "\n",
       "    .dataframe tbody tr th {\n",
       "        vertical-align: top;\n",
       "    }\n",
       "\n",
       "    .dataframe thead th {\n",
       "        text-align: right;\n",
       "    }\n",
       "</style>\n",
       "<table border=\"1\" class=\"dataframe\">\n",
       "  <thead>\n",
       "    <tr style=\"text-align: right;\">\n",
       "      <th></th>\n",
       "      <th>purchase_month</th>\n",
       "      <th>purchase_id</th>\n",
       "    </tr>\n",
       "  </thead>\n",
       "  <tbody>\n",
       "    <tr>\n",
       "      <th>0</th>\n",
       "      <td>1</td>\n",
       "      <td>34895</td>\n",
       "    </tr>\n",
       "    <tr>\n",
       "      <th>1</th>\n",
       "      <td>2</td>\n",
       "      <td>27452</td>\n",
       "    </tr>\n",
       "    <tr>\n",
       "      <th>2</th>\n",
       "      <td>12</td>\n",
       "      <td>41955</td>\n",
       "    </tr>\n",
       "  </tbody>\n",
       "</table>\n",
       "</div>"
      ],
      "text/plain": [
       "   purchase_month  purchase_id\n",
       "0               1        34895\n",
       "1               2        27452\n",
       "2              12        41955"
      ]
     },
     "execution_count": 148,
     "metadata": {},
     "output_type": "execute_result"
    }
   ],
   "source": [
    "#tugas 1 : bulan\n",
    "monthly_purchase_freq = df_retail.groupby('purchase_month')['purchase_id'].count().reset_index()\n",
    "\n",
    "monthly_purchase_freq.head()"
   ]
  },
  {
   "cell_type": "code",
   "execution_count": 149,
   "id": "5d2dbf3d-2c22-4e59-b87f-07c972e5a345",
   "metadata": {},
   "outputs": [
    {
     "data": {
      "image/png": "[encoded data removed]",
      "text/plain": [
       "<Figure size 1000x600 with 1 Axes>"
      ]
     },
     "metadata": {},
     "output_type": "display_data"
    }
   ],
   "source": [
    "monthly_purchase_order = monthly_purchase_freq.sort_values(by='purchase_id', ascending=False)\n",
    "\n",
    "plt.figure(figsize=(10,6))\n",
    "sns.barplot(data=monthly_purchase_order, x='purchase_month', y='purchase_id')\n",
    "plt.title('Monthly Purchase Frequency')\n",
    "plt.xlabel('Month')\n",
    "plt.ylabel('Frequency')\n",
    "plt.grid(False)\n",
    "plt.xticks(rotation=0)\n",
    "plt.tight_layout()\n",
    "plt.show()"
   ]
  },
  {
   "cell_type": "markdown",
   "id": "647848a1-2088-418a-bc27-837ac9b21aa7",
   "metadata": {},
   "source": [
    "bulan desember 2016 merupakan bulan dengan pencapaian tertinggi sepanjang dataset dimana terdapat 41955 kali aktivtas pembelian yang terekam"
   ]
  },
  {
   "cell_type": "code",
   "execution_count": 150,
   "id": "daaf1aa8-0010-41d1-9f1e-cd2d6dfcd69e",
   "metadata": {},
   "outputs": [
    {
     "data": {
      "text/html": [
       "<div>\n",
       "<style scoped>\n",
       "    .dataframe tbody tr th:only-of-type {\n",
       "        vertical-align: middle;\n",
       "    }\n",
       "\n",
       "    .dataframe tbody tr th {\n",
       "        vertical-align: top;\n",
       "    }\n",
       "\n",
       "    .dataframe thead th {\n",
       "        text-align: right;\n",
       "    }\n",
       "</style>\n",
       "<table border=\"1\" class=\"dataframe\">\n",
       "  <thead>\n",
       "    <tr style=\"text-align: right;\">\n",
       "      <th></th>\n",
       "      <th>purchase_year</th>\n",
       "      <th>purchase_id</th>\n",
       "    </tr>\n",
       "  </thead>\n",
       "  <tbody>\n",
       "    <tr>\n",
       "      <th>0</th>\n",
       "      <td>2016</td>\n",
       "      <td>41955</td>\n",
       "    </tr>\n",
       "    <tr>\n",
       "      <th>1</th>\n",
       "      <td>2017</td>\n",
       "      <td>62347</td>\n",
       "    </tr>\n",
       "  </tbody>\n",
       "</table>\n",
       "</div>"
      ],
      "text/plain": [
       "   purchase_year  purchase_id\n",
       "0           2016        41955\n",
       "1           2017        62347"
      ]
     },
     "execution_count": 150,
     "metadata": {},
     "output_type": "execute_result"
    }
   ],
   "source": [
    "#tugas 1 : tahun\n",
    "annual_purchase_freq = df_retail.groupby('purchase_year')['purchase_id'].count().reset_index()\n",
    "\n",
    "annual_purchase_freq.head()"
   ]
  },
  {
   "cell_type": "markdown",
   "id": "dfd31796-7405-4438-9a0d-fe5cab8bcef4",
   "metadata": {},
   "source": [
    "berdasarkan tabel diektahui bahwa pada tahun 2016 tercatat 41955 kali aktivitas pembelian dan pada tahun 2017 mencapai 62347 kali"
   ]
  },
  {
   "cell_type": "code",
   "execution_count": 151,
   "id": "09cfc121-1b01-4dd1-a59b-c35d2bd37ed8",
   "metadata": {
    "scrolled": true
   },
   "outputs": [
    {
     "data": {
      "text/html": [
       "<div>\n",
       "<style scoped>\n",
       "    .dataframe tbody tr th:only-of-type {\n",
       "        vertical-align: middle;\n",
       "    }\n",
       "\n",
       "    .dataframe tbody tr th {\n",
       "        vertical-align: top;\n",
       "    }\n",
       "\n",
       "    .dataframe thead th {\n",
       "        text-align: right;\n",
       "    }\n",
       "</style>\n",
       "<table border=\"1\" class=\"dataframe\">\n",
       "  <thead>\n",
       "    <tr style=\"text-align: right;\">\n",
       "      <th></th>\n",
       "      <th>purchase_day</th>\n",
       "      <th>quantity</th>\n",
       "    </tr>\n",
       "  </thead>\n",
       "  <tbody>\n",
       "    <tr>\n",
       "      <th>0</th>\n",
       "      <td>2016-12-01</td>\n",
       "      <td>23649</td>\n",
       "    </tr>\n",
       "    <tr>\n",
       "      <th>1</th>\n",
       "      <td>2016-12-02</td>\n",
       "      <td>18890</td>\n",
       "    </tr>\n",
       "    <tr>\n",
       "      <th>2</th>\n",
       "      <td>2016-12-03</td>\n",
       "      <td>12597</td>\n",
       "    </tr>\n",
       "    <tr>\n",
       "      <th>3</th>\n",
       "      <td>2016-12-05</td>\n",
       "      <td>13567</td>\n",
       "    </tr>\n",
       "    <tr>\n",
       "      <th>4</th>\n",
       "      <td>2016-12-06</td>\n",
       "      <td>17413</td>\n",
       "    </tr>\n",
       "  </tbody>\n",
       "</table>\n",
       "</div>"
      ],
      "text/plain": [
       "  purchase_day  quantity\n",
       "0   2016-12-01     23649\n",
       "1   2016-12-02     18890\n",
       "2   2016-12-03     12597\n",
       "3   2016-12-05     13567\n",
       "4   2016-12-06     17413"
      ]
     },
     "execution_count": 151,
     "metadata": {},
     "output_type": "execute_result"
    }
   ],
   "source": [
    "#tugas 3: quntity count per hari \n",
    "daily_quantity_count = df_retail.groupby('purchase_day')['quantity'].sum().reset_index()\n",
    "daily_quantity_count.head()"
   ]
  },
  {
   "cell_type": "code",
   "execution_count": 152,
   "id": "747b0729-496c-446f-bfa9-378c62d6770e",
   "metadata": {},
   "outputs": [
    {
     "data": {
      "image/png": "[encoded data removed]",
      "text/plain": [
       "<Figure size 1000x600 with 1 Axes>"
      ]
     },
     "metadata": {},
     "output_type": "display_data"
    }
   ],
   "source": [
    "plt.figure(figsize=(10,6))\n",
    "sns.barplot(data=daily_quantity_count, x='purchase_day', y='quantity', palette='muted')\n",
    "plt.title('Daily Purchase Quantity')\n",
    "plt.xlabel('Date')\n",
    "plt.ylabel('Count')\n",
    "plt.grid(False)\n",
    "plt.xticks(rotation=90)\n",
    "plt.tight_layout()\n",
    "plt.show()"
   ]
  },
  {
   "cell_type": "code",
   "execution_count": 153,
   "id": "de252439-00ae-4517-8303-597134d25acd",
   "metadata": {
    "scrolled": true
   },
   "outputs": [
    {
     "data": {
      "text/html": [
       "<div>\n",
       "<style scoped>\n",
       "    .dataframe tbody tr th:only-of-type {\n",
       "        vertical-align: middle;\n",
       "    }\n",
       "\n",
       "    .dataframe tbody tr th {\n",
       "        vertical-align: top;\n",
       "    }\n",
       "\n",
       "    .dataframe thead th {\n",
       "        text-align: right;\n",
       "    }\n",
       "</style>\n",
       "<table border=\"1\" class=\"dataframe\">\n",
       "  <thead>\n",
       "    <tr style=\"text-align: right;\">\n",
       "      <th></th>\n",
       "      <th>purchase_day</th>\n",
       "      <th>quantity</th>\n",
       "    </tr>\n",
       "  </thead>\n",
       "  <tbody>\n",
       "    <tr>\n",
       "      <th>13</th>\n",
       "      <td>2016-12-16</td>\n",
       "      <td>27635</td>\n",
       "    </tr>\n",
       "    <tr>\n",
       "      <th>26</th>\n",
       "      <td>2017-01-11</td>\n",
       "      <td>27634</td>\n",
       "    </tr>\n",
       "    <tr>\n",
       "      <th>0</th>\n",
       "      <td>2016-12-01</td>\n",
       "      <td>23649</td>\n",
       "    </tr>\n",
       "  </tbody>\n",
       "</table>\n",
       "</div>"
      ],
      "text/plain": [
       "   purchase_day  quantity\n",
       "13   2016-12-16     27635\n",
       "26   2017-01-11     27634\n",
       "0    2016-12-01     23649"
      ]
     },
     "execution_count": 153,
     "metadata": {},
     "output_type": "execute_result"
    }
   ],
   "source": [
    "daily_quantity_count.sort_values(by='quantity', ascending=False).head(3)"
   ]
  },
  {
   "cell_type": "code",
   "execution_count": 154,
   "id": "5547edcc-e413-427a-91fc-caad2a6f8693",
   "metadata": {},
   "outputs": [
    {
     "data": {
      "text/plain": [
       "12091.367647058823"
      ]
     },
     "execution_count": 154,
     "metadata": {},
     "output_type": "execute_result"
    }
   ],
   "source": [
    "#tugas 4 \n",
    "daily_quantity_count['quantity'].mean()"
   ]
  },
  {
   "cell_type": "markdown",
   "id": "791e771e-cdea-43dd-b7b4-eb75c90209b7",
   "metadata": {},
   "source": [
    "diketahui \n",
    "- 16 desember 2016 merupakan tanggal yang memiliki jumlah pembelian tertinggi yaitu 27635 unit \n",
    "- 11 januari 2017 memiliki jumlah pembelian sebanyak 27634 unit \n",
    "- 6 februari 2017 merupakan jumalah pembelian terendah\n",
    "- rata rata jumlah pembelian harian bisnis adalah 12091 unit"
   ]
  },
  {
   "cell_type": "code",
   "execution_count": 155,
   "id": "9b0a1cb2-dbc3-424f-a3fb-1014c186483a",
   "metadata": {
    "scrolled": true
   },
   "outputs": [
    {
     "data": {
      "text/html": [
       "<div>\n",
       "<style scoped>\n",
       "    .dataframe tbody tr th:only-of-type {\n",
       "        vertical-align: middle;\n",
       "    }\n",
       "\n",
       "    .dataframe tbody tr th {\n",
       "        vertical-align: top;\n",
       "    }\n",
       "\n",
       "    .dataframe thead th {\n",
       "        text-align: right;\n",
       "    }\n",
       "</style>\n",
       "<table border=\"1\" class=\"dataframe\">\n",
       "  <thead>\n",
       "    <tr style=\"text-align: right;\">\n",
       "      <th></th>\n",
       "      <th>purchase_month</th>\n",
       "      <th>quantity</th>\n",
       "    </tr>\n",
       "  </thead>\n",
       "  <tbody>\n",
       "    <tr>\n",
       "      <th>0</th>\n",
       "      <td>1</td>\n",
       "      <td>273381</td>\n",
       "    </tr>\n",
       "    <tr>\n",
       "      <th>1</th>\n",
       "      <td>2</td>\n",
       "      <td>249943</td>\n",
       "    </tr>\n",
       "    <tr>\n",
       "      <th>2</th>\n",
       "      <td>12</td>\n",
       "      <td>298889</td>\n",
       "    </tr>\n",
       "  </tbody>\n",
       "</table>\n",
       "</div>"
      ],
      "text/plain": [
       "   purchase_month  quantity\n",
       "0               1    273381\n",
       "1               2    249943\n",
       "2              12    298889"
      ]
     },
     "execution_count": 155,
     "metadata": {},
     "output_type": "execute_result"
    }
   ],
   "source": [
    "#tugas 3: quntity count per bulan \n",
    "monthly_quantity_count = df_retail.groupby('purchase_month')['quantity'].sum().reset_index()\n",
    "monthly_quantity_count.head()"
   ]
  },
  {
   "cell_type": "markdown",
   "id": "5a308992-8c98-48af-9605-bb4c123b9d0d",
   "metadata": {},
   "source": [
    "berdasarkan tabel diatas dapat dilihat adalah jumlah unit yang dibeli untuk ketiga bulan tidak terlalu berbeda dimana ketiganya lebih dari 200000. walaupun demikian, bulan desember merupakan bulan dengan jumlah volume pembelian terbesar yaitu 29889"
   ]
  },
  {
   "cell_type": "code",
   "execution_count": 156,
   "id": "382a1882-f84c-4d4e-9882-defcb8358461",
   "metadata": {},
   "outputs": [
    {
     "data": {
      "text/html": [
       "<div>\n",
       "<style scoped>\n",
       "    .dataframe tbody tr th:only-of-type {\n",
       "        vertical-align: middle;\n",
       "    }\n",
       "\n",
       "    .dataframe tbody tr th {\n",
       "        vertical-align: top;\n",
       "    }\n",
       "\n",
       "    .dataframe thead th {\n",
       "        text-align: right;\n",
       "    }\n",
       "</style>\n",
       "<table border=\"1\" class=\"dataframe\">\n",
       "  <thead>\n",
       "    <tr style=\"text-align: right;\">\n",
       "      <th></th>\n",
       "      <th>purchase_year</th>\n",
       "      <th>quantity</th>\n",
       "    </tr>\n",
       "  </thead>\n",
       "  <tbody>\n",
       "    <tr>\n",
       "      <th>0</th>\n",
       "      <td>2016</td>\n",
       "      <td>298889</td>\n",
       "    </tr>\n",
       "    <tr>\n",
       "      <th>1</th>\n",
       "      <td>2017</td>\n",
       "      <td>523324</td>\n",
       "    </tr>\n",
       "  </tbody>\n",
       "</table>\n",
       "</div>"
      ],
      "text/plain": [
       "   purchase_year  quantity\n",
       "0           2016    298889\n",
       "1           2017    523324"
      ]
     },
     "execution_count": 156,
     "metadata": {},
     "output_type": "execute_result"
    }
   ],
   "source": [
    "#tugas 3: quntity count per tahun \n",
    "annual_quantity_count = df_retail.groupby('purchase_year')['quantity'].sum().reset_index()\n",
    "annual_quantity_count.head()"
   ]
  },
  {
   "cell_type": "markdown",
   "id": "92566dcd-8541-4acf-a22a-bac04266ef5d",
   "metadata": {},
   "source": [
    "berdasarkan jumlah bulan yang tercatat untuk masing masing tahun, dapat dipastikan bahwa jumlah total unit pada tahun 2017 akan lebih banyak \n",
    "dibandingkan dengan tahun 2016"
   ]
  },
  {
   "cell_type": "code",
   "execution_count": 157,
   "id": "f957eb2e-1d3b-4837-8667-13fde0bd2786",
   "metadata": {
    "scrolled": true
   },
   "outputs": [
    {
     "data": {
      "text/html": [
       "<div>\n",
       "<style scoped>\n",
       "    .dataframe tbody tr th:only-of-type {\n",
       "        vertical-align: middle;\n",
       "    }\n",
       "\n",
       "    .dataframe tbody tr th {\n",
       "        vertical-align: top;\n",
       "    }\n",
       "\n",
       "    .dataframe thead th {\n",
       "        text-align: right;\n",
       "    }\n",
       "</style>\n",
       "<table border=\"1\" class=\"dataframe\">\n",
       "  <thead>\n",
       "    <tr style=\"text-align: right;\">\n",
       "      <th></th>\n",
       "      <th>purchase_day</th>\n",
       "      <th>customer_id</th>\n",
       "    </tr>\n",
       "  </thead>\n",
       "  <tbody>\n",
       "    <tr>\n",
       "      <th>0</th>\n",
       "      <td>2016-12-01</td>\n",
       "      <td>98</td>\n",
       "    </tr>\n",
       "    <tr>\n",
       "      <th>1</th>\n",
       "      <td>2016-12-02</td>\n",
       "      <td>117</td>\n",
       "    </tr>\n",
       "    <tr>\n",
       "      <th>2</th>\n",
       "      <td>2016-12-03</td>\n",
       "      <td>56</td>\n",
       "    </tr>\n",
       "    <tr>\n",
       "      <th>3</th>\n",
       "      <td>2016-12-05</td>\n",
       "      <td>76</td>\n",
       "    </tr>\n",
       "    <tr>\n",
       "      <th>4</th>\n",
       "      <td>2016-12-06</td>\n",
       "      <td>90</td>\n",
       "    </tr>\n",
       "  </tbody>\n",
       "</table>\n",
       "</div>"
      ],
      "text/plain": [
       "  purchase_day  customer_id\n",
       "0   2016-12-01           98\n",
       "1   2016-12-02          117\n",
       "2   2016-12-03           56\n",
       "3   2016-12-05           76\n",
       "4   2016-12-06           90"
      ]
     },
     "execution_count": 157,
     "metadata": {},
     "output_type": "execute_result"
    }
   ],
   "source": [
    "#tugas 5 : user unik per hari\n",
    "daily_user_unique = df_retail.groupby('purchase_day')['customer_id'].nunique().reset_index()\n",
    "daily_user_unique.head()"
   ]
  },
  {
   "cell_type": "code",
   "execution_count": 158,
   "id": "b05ec228-06ad-4523-9327-cb596f424a7e",
   "metadata": {},
   "outputs": [
    {
     "data": {
      "image/png": "[encoded data removed]",
      "text/plain": [
       "<Figure size 1000x600 with 1 Axes>"
      ]
     },
     "metadata": {},
     "output_type": "display_data"
    }
   ],
   "source": [
    "plt.figure(figsize=(10,6))\n",
    "sns.barplot(data=daily_user_unique, x='purchase_day', y='customer_id')\n",
    "plt.title('Unique Daily User')\n",
    "plt.xlabel('Date')\n",
    "plt.ylabel('Count')\n",
    "plt.grid(False)\n",
    "plt.xticks(rotation=90)\n",
    "plt.tight_layout()\n",
    "plt.show()"
   ]
  },
  {
   "cell_type": "code",
   "execution_count": 159,
   "id": "e9e7d2ba-9872-4441-9e49-ad890b0fd397",
   "metadata": {},
   "outputs": [
    {
     "data": {
      "text/html": [
       "<div>\n",
       "<style scoped>\n",
       "    .dataframe tbody tr th:only-of-type {\n",
       "        vertical-align: middle;\n",
       "    }\n",
       "\n",
       "    .dataframe tbody tr th {\n",
       "        vertical-align: top;\n",
       "    }\n",
       "\n",
       "    .dataframe thead th {\n",
       "        text-align: right;\n",
       "    }\n",
       "</style>\n",
       "<table border=\"1\" class=\"dataframe\">\n",
       "  <thead>\n",
       "    <tr style=\"text-align: right;\">\n",
       "      <th></th>\n",
       "      <th>purchase_day</th>\n",
       "      <th>customer_id</th>\n",
       "    </tr>\n",
       "  </thead>\n",
       "  <tbody>\n",
       "    <tr>\n",
       "      <th>7</th>\n",
       "      <td>2016-12-09</td>\n",
       "      <td>122</td>\n",
       "    </tr>\n",
       "    <tr>\n",
       "      <th>1</th>\n",
       "      <td>2016-12-02</td>\n",
       "      <td>117</td>\n",
       "    </tr>\n",
       "    <tr>\n",
       "      <th>13</th>\n",
       "      <td>2016-12-16</td>\n",
       "      <td>117</td>\n",
       "    </tr>\n",
       "  </tbody>\n",
       "</table>\n",
       "</div>"
      ],
      "text/plain": [
       "   purchase_day  customer_id\n",
       "7    2016-12-09          122\n",
       "1    2016-12-02          117\n",
       "13   2016-12-16          117"
      ]
     },
     "execution_count": 159,
     "metadata": {},
     "output_type": "execute_result"
    }
   ],
   "source": [
    "daily_user_unique.sort_values(by='customer_id', ascending=False).head(3)"
   ]
  },
  {
   "cell_type": "code",
   "execution_count": 160,
   "id": "af762b78-36a2-4b01-989e-4deefd0a6670",
   "metadata": {
    "scrolled": true
   },
   "outputs": [
    {
     "data": {
      "text/html": [
       "<div>\n",
       "<style scoped>\n",
       "    .dataframe tbody tr th:only-of-type {\n",
       "        vertical-align: middle;\n",
       "    }\n",
       "\n",
       "    .dataframe tbody tr th {\n",
       "        vertical-align: top;\n",
       "    }\n",
       "\n",
       "    .dataframe thead th {\n",
       "        text-align: right;\n",
       "    }\n",
       "</style>\n",
       "<table border=\"1\" class=\"dataframe\">\n",
       "  <thead>\n",
       "    <tr style=\"text-align: right;\">\n",
       "      <th></th>\n",
       "      <th>purchase_day</th>\n",
       "      <th>customer_id</th>\n",
       "    </tr>\n",
       "  </thead>\n",
       "  <tbody>\n",
       "    <tr>\n",
       "      <th>18</th>\n",
       "      <td>2016-12-22</td>\n",
       "      <td>18</td>\n",
       "    </tr>\n",
       "    <tr>\n",
       "      <th>15</th>\n",
       "      <td>2016-12-19</td>\n",
       "      <td>18</td>\n",
       "    </tr>\n",
       "    <tr>\n",
       "      <th>48</th>\n",
       "      <td>2017-02-06</td>\n",
       "      <td>11</td>\n",
       "    </tr>\n",
       "  </tbody>\n",
       "</table>\n",
       "</div>"
      ],
      "text/plain": [
       "   purchase_day  customer_id\n",
       "18   2016-12-22           18\n",
       "15   2016-12-19           18\n",
       "48   2017-02-06           11"
      ]
     },
     "execution_count": 160,
     "metadata": {},
     "output_type": "execute_result"
    }
   ],
   "source": [
    "daily_user_unique.sort_values(by='customer_id', ascending=False).tail(3)"
   ]
  },
  {
   "cell_type": "code",
   "execution_count": 161,
   "id": "e2bf6406-9cc2-45cd-9bee-aeda22e92ac0",
   "metadata": {},
   "outputs": [
    {
     "data": {
      "text/plain": [
       "53.51470588235294"
      ]
     },
     "execution_count": 161,
     "metadata": {},
     "output_type": "execute_result"
    }
   ],
   "source": [
    "#tugas 6\n",
    "daily_user_unique['customer_id'].mean()"
   ]
  },
  {
   "cell_type": "markdown",
   "id": "f596a04a-c216-4804-be14-3f1bc3d94dd8",
   "metadata": {},
   "source": [
    "diketahui \n",
    "- 9 Desember 2016 : tanggal dengan user unik tertinggi = 122 id \n",
    "- 6 Februari 2017 : tanggal dengan user unik terendah = 11 id\n",
    "- rata-rata dalam 1 hari terdapat 53 user unik"
   ]
  },
  {
   "cell_type": "code",
   "execution_count": 162,
   "id": "e40c0f3a-ba7f-4128-bc9c-a8dec28d3d26",
   "metadata": {},
   "outputs": [
    {
     "data": {
      "text/html": [
       "<div>\n",
       "<style scoped>\n",
       "    .dataframe tbody tr th:only-of-type {\n",
       "        vertical-align: middle;\n",
       "    }\n",
       "\n",
       "    .dataframe tbody tr th {\n",
       "        vertical-align: top;\n",
       "    }\n",
       "\n",
       "    .dataframe thead th {\n",
       "        text-align: right;\n",
       "    }\n",
       "</style>\n",
       "<table border=\"1\" class=\"dataframe\">\n",
       "  <thead>\n",
       "    <tr style=\"text-align: right;\">\n",
       "      <th></th>\n",
       "      <th>purchase_month</th>\n",
       "      <th>customer_id</th>\n",
       "    </tr>\n",
       "  </thead>\n",
       "  <tbody>\n",
       "    <tr>\n",
       "      <th>0</th>\n",
       "      <td>1</td>\n",
       "      <td>783</td>\n",
       "    </tr>\n",
       "    <tr>\n",
       "      <th>1</th>\n",
       "      <td>2</td>\n",
       "      <td>798</td>\n",
       "    </tr>\n",
       "    <tr>\n",
       "      <th>2</th>\n",
       "      <td>12</td>\n",
       "      <td>948</td>\n",
       "    </tr>\n",
       "  </tbody>\n",
       "</table>\n",
       "</div>"
      ],
      "text/plain": [
       "   purchase_month  customer_id\n",
       "0               1          783\n",
       "1               2          798\n",
       "2              12          948"
      ]
     },
     "execution_count": 162,
     "metadata": {},
     "output_type": "execute_result"
    }
   ],
   "source": [
    "#tugas 5 : user unik per bulan\n",
    "month_user_unique = df_retail.groupby('purchase_month')['customer_id'].nunique().reset_index()\n",
    "month_user_unique.head()"
   ]
  },
  {
   "cell_type": "markdown",
   "id": "08385eb0-3e43-461a-b9bb-d7d5d8ca0347",
   "metadata": {},
   "source": [
    "diketahui jumlah user unik antara bulan januari dan februari tidak terlalu berbeda, hanya selisih 15 user. sedangkan pada bulan desember jumlah user unik mencapai 948 id"
   ]
  },
  {
   "cell_type": "code",
   "execution_count": 163,
   "id": "0abb415b-daac-4d54-9f2f-c3a81757ac05",
   "metadata": {},
   "outputs": [
    {
     "data": {
      "text/html": [
       "<div>\n",
       "<style scoped>\n",
       "    .dataframe tbody tr th:only-of-type {\n",
       "        vertical-align: middle;\n",
       "    }\n",
       "\n",
       "    .dataframe tbody tr th {\n",
       "        vertical-align: top;\n",
       "    }\n",
       "\n",
       "    .dataframe thead th {\n",
       "        text-align: right;\n",
       "    }\n",
       "</style>\n",
       "<table border=\"1\" class=\"dataframe\">\n",
       "  <thead>\n",
       "    <tr style=\"text-align: right;\">\n",
       "      <th></th>\n",
       "      <th>purchase_year</th>\n",
       "      <th>customer_id</th>\n",
       "    </tr>\n",
       "  </thead>\n",
       "  <tbody>\n",
       "    <tr>\n",
       "      <th>0</th>\n",
       "      <td>2016</td>\n",
       "      <td>948</td>\n",
       "    </tr>\n",
       "    <tr>\n",
       "      <th>1</th>\n",
       "      <td>2017</td>\n",
       "      <td>1282</td>\n",
       "    </tr>\n",
       "  </tbody>\n",
       "</table>\n",
       "</div>"
      ],
      "text/plain": [
       "   purchase_year  customer_id\n",
       "0           2016          948\n",
       "1           2017         1282"
      ]
     },
     "execution_count": 163,
     "metadata": {},
     "output_type": "execute_result"
    }
   ],
   "source": [
    "annual_user_unique = df_retail.groupby('purchase_year')['customer_id'].nunique().reset_index()\n",
    "annual_user_unique.head()"
   ]
  },
  {
   "cell_type": "markdown",
   "id": "7243a80b-3570-4734-8372-f97193d9ca87",
   "metadata": {},
   "source": [
    "data tahun 2017 terdiri dari 2 bulan sedangkan pada tahun 2016 hanya 1 bulan yang terlibat, secara umum dapat diasumsikan bahwa jumlah user unik pada tahun 2017 kebih banyaj dibandingkan pada tahun 2016. Hal ini telah dibuktikan dengan data diatas"
   ]
  },
  {
   "cell_type": "markdown",
   "id": "12f888af-8e55-4c3f-97cc-8cf47217daf1",
   "metadata": {},
   "source": [
    "# Data Analisa : Revenue"
   ]
  },
  {
   "cell_type": "markdown",
   "id": "914ae3d5-465f-47ac-b378-740c75efa169",
   "metadata": {},
   "source": [
    "1. revenue harian \n",
    "2. revenue bulan \n",
    "3. revenue tahun "
   ]
  },
  {
   "cell_type": "code",
   "execution_count": 164,
   "id": "cd849dd5-fcf1-4b6e-9704-639062b7fbe0",
   "metadata": {},
   "outputs": [
    {
     "data": {
      "text/html": [
       "<div>\n",
       "<style scoped>\n",
       "    .dataframe tbody tr th:only-of-type {\n",
       "        vertical-align: middle;\n",
       "    }\n",
       "\n",
       "    .dataframe tbody tr th {\n",
       "        vertical-align: top;\n",
       "    }\n",
       "\n",
       "    .dataframe thead th {\n",
       "        text-align: right;\n",
       "    }\n",
       "</style>\n",
       "<table border=\"1\" class=\"dataframe\">\n",
       "  <thead>\n",
       "    <tr style=\"text-align: right;\">\n",
       "      <th></th>\n",
       "      <th>purchase_id</th>\n",
       "      <th>item_id</th>\n",
       "      <th>quantity</th>\n",
       "      <th>purchase_date</th>\n",
       "      <th>customer_id</th>\n",
       "      <th>loyalty_program</th>\n",
       "      <th>shop_id</th>\n",
       "      <th>purchase_day</th>\n",
       "      <th>purchase_month</th>\n",
       "      <th>purchase_year</th>\n",
       "    </tr>\n",
       "  </thead>\n",
       "  <tbody>\n",
       "    <tr>\n",
       "      <th>84625</th>\n",
       "      <td>536520</td>\n",
       "      <td>84985A</td>\n",
       "      <td>0</td>\n",
       "      <td>2016-12-01 12:43:00</td>\n",
       "      <td>20408</td>\n",
       "      <td>0</td>\n",
       "      <td>Shop 0</td>\n",
       "      <td>2016-12-01</td>\n",
       "      <td>12</td>\n",
       "      <td>2016</td>\n",
       "    </tr>\n",
       "  </tbody>\n",
       "</table>\n",
       "</div>"
      ],
      "text/plain": [
       "      purchase_id item_id  quantity       purchase_date  customer_id  \\\n",
       "84625      536520  84985A         0 2016-12-01 12:43:00        20408   \n",
       "\n",
       "       loyalty_program shop_id purchase_day  purchase_month  purchase_year  \n",
       "84625                0  Shop 0   2016-12-01              12           2016  "
      ]
     },
     "execution_count": 164,
     "metadata": {},
     "output_type": "execute_result"
    }
   ],
   "source": [
    "df_retail.sample()"
   ]
  },
  {
   "cell_type": "code",
   "execution_count": 165,
   "id": "748dc83c-9668-49a8-914b-5a3e74db3d3f",
   "metadata": {},
   "outputs": [
    {
     "data": {
      "text/html": [
       "<div>\n",
       "<style scoped>\n",
       "    .dataframe tbody tr th:only-of-type {\n",
       "        vertical-align: middle;\n",
       "    }\n",
       "\n",
       "    .dataframe tbody tr th {\n",
       "        vertical-align: top;\n",
       "    }\n",
       "\n",
       "    .dataframe thead th {\n",
       "        text-align: right;\n",
       "    }\n",
       "</style>\n",
       "<table border=\"1\" class=\"dataframe\">\n",
       "  <thead>\n",
       "    <tr style=\"text-align: right;\">\n",
       "      <th></th>\n",
       "      <th>product_id</th>\n",
       "      <th>price_per_one</th>\n",
       "    </tr>\n",
       "  </thead>\n",
       "  <tbody>\n",
       "    <tr>\n",
       "      <th>390</th>\n",
       "      <td>21175</td>\n",
       "      <td>1.85</td>\n",
       "    </tr>\n",
       "  </tbody>\n",
       "</table>\n",
       "</div>"
      ],
      "text/plain": [
       "    product_id  price_per_one\n",
       "390      21175           1.85"
      ]
     },
     "execution_count": 165,
     "metadata": {},
     "output_type": "execute_result"
    }
   ],
   "source": [
    "df_product.sample()"
   ]
  },
  {
   "cell_type": "code",
   "execution_count": 166,
   "id": "806dd471-624d-43d3-b430-ce869f738eec",
   "metadata": {},
   "outputs": [
    {
     "data": {
      "text/plain": [
       "item_id\n",
       "True    104302\n",
       "Name: count, dtype: int64"
      ]
     },
     "execution_count": 166,
     "metadata": {},
     "output_type": "execute_result"
    }
   ],
   "source": [
    "#cek kolom apakah product_id = item_id \n",
    "is_in_product = df_retail['item_id'].isin(df_product['product_id'])\n",
    "is_in_product.value_counts()"
   ]
  },
  {
   "cell_type": "markdown",
   "id": "faf76612-f6f0-4219-8f9f-f0597fb9268a",
   "metadata": {},
   "source": [
    "dikarenakan product_id sama dengan item_id maka kita bisa gabungkan 2 tabel tersebut berdasarkan item id "
   ]
  },
  {
   "cell_type": "code",
   "execution_count": 167,
   "id": "ac99bd94-d699-42bd-8ed3-269448b32dd9",
   "metadata": {},
   "outputs": [
    {
     "data": {
      "text/html": [
       "<div>\n",
       "<style scoped>\n",
       "    .dataframe tbody tr th:only-of-type {\n",
       "        vertical-align: middle;\n",
       "    }\n",
       "\n",
       "    .dataframe tbody tr th {\n",
       "        vertical-align: top;\n",
       "    }\n",
       "\n",
       "    .dataframe thead th {\n",
       "        text-align: right;\n",
       "    }\n",
       "</style>\n",
       "<table border=\"1\" class=\"dataframe\">\n",
       "  <thead>\n",
       "    <tr style=\"text-align: right;\">\n",
       "      <th></th>\n",
       "      <th>purchase_id</th>\n",
       "      <th>item_id</th>\n",
       "      <th>quantity</th>\n",
       "      <th>purchase_date</th>\n",
       "      <th>customer_id</th>\n",
       "      <th>loyalty_program</th>\n",
       "      <th>shop_id</th>\n",
       "      <th>purchase_day</th>\n",
       "      <th>purchase_month</th>\n",
       "      <th>purchase_year</th>\n",
       "      <th>product_id</th>\n",
       "      <th>price_per_one</th>\n",
       "    </tr>\n",
       "  </thead>\n",
       "  <tbody>\n",
       "    <tr>\n",
       "      <th>0</th>\n",
       "      <td>538280</td>\n",
       "      <td>21873</td>\n",
       "      <td>11</td>\n",
       "      <td>2016-12-10 12:50:00</td>\n",
       "      <td>18427</td>\n",
       "      <td>0</td>\n",
       "      <td>Shop 3</td>\n",
       "      <td>2016-12-10</td>\n",
       "      <td>12</td>\n",
       "      <td>2016</td>\n",
       "      <td>21873</td>\n",
       "      <td>0.42</td>\n",
       "    </tr>\n",
       "    <tr>\n",
       "      <th>1</th>\n",
       "      <td>538862</td>\n",
       "      <td>22195</td>\n",
       "      <td>0</td>\n",
       "      <td>2016-12-14 14:11:00</td>\n",
       "      <td>22389</td>\n",
       "      <td>1</td>\n",
       "      <td>Shop 2</td>\n",
       "      <td>2016-12-14</td>\n",
       "      <td>12</td>\n",
       "      <td>2016</td>\n",
       "      <td>22195</td>\n",
       "      <td>1.65</td>\n",
       "    </tr>\n",
       "    <tr>\n",
       "      <th>2</th>\n",
       "      <td>538855</td>\n",
       "      <td>21239</td>\n",
       "      <td>7</td>\n",
       "      <td>2016-12-14 13:50:00</td>\n",
       "      <td>22182</td>\n",
       "      <td>1</td>\n",
       "      <td>Shop 3</td>\n",
       "      <td>2016-12-14</td>\n",
       "      <td>12</td>\n",
       "      <td>2016</td>\n",
       "      <td>21239</td>\n",
       "      <td>0.72</td>\n",
       "    </tr>\n",
       "    <tr>\n",
       "      <th>3</th>\n",
       "      <td>543543</td>\n",
       "      <td>22271</td>\n",
       "      <td>0</td>\n",
       "      <td>2017-02-09 15:33:00</td>\n",
       "      <td>23522</td>\n",
       "      <td>1</td>\n",
       "      <td>Shop 28</td>\n",
       "      <td>2017-02-09</td>\n",
       "      <td>2</td>\n",
       "      <td>2017</td>\n",
       "      <td>22271</td>\n",
       "      <td>2.55</td>\n",
       "    </tr>\n",
       "    <tr>\n",
       "      <th>4</th>\n",
       "      <td>543812</td>\n",
       "      <td>79321</td>\n",
       "      <td>0</td>\n",
       "      <td>2017-02-13 14:40:00</td>\n",
       "      <td>23151</td>\n",
       "      <td>1</td>\n",
       "      <td>Shop 28</td>\n",
       "      <td>2017-02-13</td>\n",
       "      <td>2</td>\n",
       "      <td>2017</td>\n",
       "      <td>79321</td>\n",
       "      <td>0.00</td>\n",
       "    </tr>\n",
       "  </tbody>\n",
       "</table>\n",
       "</div>"
      ],
      "text/plain": [
       "  purchase_id item_id  quantity       purchase_date  customer_id  \\\n",
       "0      538280   21873        11 2016-12-10 12:50:00        18427   \n",
       "1      538862   22195         0 2016-12-14 14:11:00        22389   \n",
       "2      538855   21239         7 2016-12-14 13:50:00        22182   \n",
       "3      543543   22271         0 2017-02-09 15:33:00        23522   \n",
       "4      543812   79321         0 2017-02-13 14:40:00        23151   \n",
       "\n",
       "   loyalty_program  shop_id purchase_day  purchase_month  purchase_year  \\\n",
       "0                0   Shop 3   2016-12-10              12           2016   \n",
       "1                1   Shop 2   2016-12-14              12           2016   \n",
       "2                1   Shop 3   2016-12-14              12           2016   \n",
       "3                1  Shop 28   2017-02-09               2           2017   \n",
       "4                1  Shop 28   2017-02-13               2           2017   \n",
       "\n",
       "  product_id  price_per_one  \n",
       "0      21873           0.42  \n",
       "1      22195           1.65  \n",
       "2      21239           0.72  \n",
       "3      22271           2.55  \n",
       "4      79321           0.00  "
      ]
     },
     "execution_count": 167,
     "metadata": {},
     "output_type": "execute_result"
    }
   ],
   "source": [
    "df_merge = pd.merge(df_retail, df_product, left_on='item_id', right_on='product_id', how='left')\n",
    "df_merge.head()"
   ]
  },
  {
   "cell_type": "code",
   "execution_count": 168,
   "id": "1ade9221-bf9a-4d81-9ac6-1c4cf75d50fe",
   "metadata": {},
   "outputs": [],
   "source": [
    "#menghapus kolom product_id karena sudah diwakilkan oleh kolom item_id \n",
    "df_merge = df_merge.drop('product_id',axis=1)"
   ]
  },
  {
   "cell_type": "code",
   "execution_count": 169,
   "id": "630ea2e9-c450-41ea-832d-ddbfe4459cd1",
   "metadata": {},
   "outputs": [
    {
     "data": {
      "text/plain": [
       "Index(['purchase_id', 'item_id', 'quantity', 'purchase_date', 'customer_id',\n",
       "       'loyalty_program', 'shop_id', 'purchase_day', 'purchase_month',\n",
       "       'purchase_year', 'price_per_one'],\n",
       "      dtype='object')"
      ]
     },
     "execution_count": 169,
     "metadata": {},
     "output_type": "execute_result"
    }
   ],
   "source": [
    "df_merge.columns"
   ]
  },
  {
   "cell_type": "code",
   "execution_count": 170,
   "id": "d4c727c2-65db-4aba-9243-225c18a79e3c",
   "metadata": {},
   "outputs": [
    {
     "data": {
      "text/html": [
       "<div>\n",
       "<style scoped>\n",
       "    .dataframe tbody tr th:only-of-type {\n",
       "        vertical-align: middle;\n",
       "    }\n",
       "\n",
       "    .dataframe tbody tr th {\n",
       "        vertical-align: top;\n",
       "    }\n",
       "\n",
       "    .dataframe thead th {\n",
       "        text-align: right;\n",
       "    }\n",
       "</style>\n",
       "<table border=\"1\" class=\"dataframe\">\n",
       "  <thead>\n",
       "    <tr style=\"text-align: right;\">\n",
       "      <th></th>\n",
       "      <th>purchase_id</th>\n",
       "      <th>item_id</th>\n",
       "      <th>quantity</th>\n",
       "      <th>purchase_date</th>\n",
       "      <th>customer_id</th>\n",
       "      <th>loyalty_program</th>\n",
       "      <th>shop_id</th>\n",
       "      <th>purchase_day</th>\n",
       "      <th>purchase_month</th>\n",
       "      <th>purchase_year</th>\n",
       "      <th>price_per_one</th>\n",
       "      <th>total_revenue</th>\n",
       "    </tr>\n",
       "  </thead>\n",
       "  <tbody>\n",
       "    <tr>\n",
       "      <th>0</th>\n",
       "      <td>538280</td>\n",
       "      <td>21873</td>\n",
       "      <td>11</td>\n",
       "      <td>2016-12-10 12:50:00</td>\n",
       "      <td>18427</td>\n",
       "      <td>0</td>\n",
       "      <td>Shop 3</td>\n",
       "      <td>2016-12-10</td>\n",
       "      <td>12</td>\n",
       "      <td>2016</td>\n",
       "      <td>0.42</td>\n",
       "      <td>4.62</td>\n",
       "    </tr>\n",
       "    <tr>\n",
       "      <th>1</th>\n",
       "      <td>538862</td>\n",
       "      <td>22195</td>\n",
       "      <td>0</td>\n",
       "      <td>2016-12-14 14:11:00</td>\n",
       "      <td>22389</td>\n",
       "      <td>1</td>\n",
       "      <td>Shop 2</td>\n",
       "      <td>2016-12-14</td>\n",
       "      <td>12</td>\n",
       "      <td>2016</td>\n",
       "      <td>1.65</td>\n",
       "      <td>0.00</td>\n",
       "    </tr>\n",
       "    <tr>\n",
       "      <th>2</th>\n",
       "      <td>538855</td>\n",
       "      <td>21239</td>\n",
       "      <td>7</td>\n",
       "      <td>2016-12-14 13:50:00</td>\n",
       "      <td>22182</td>\n",
       "      <td>1</td>\n",
       "      <td>Shop 3</td>\n",
       "      <td>2016-12-14</td>\n",
       "      <td>12</td>\n",
       "      <td>2016</td>\n",
       "      <td>0.72</td>\n",
       "      <td>5.04</td>\n",
       "    </tr>\n",
       "    <tr>\n",
       "      <th>3</th>\n",
       "      <td>543543</td>\n",
       "      <td>22271</td>\n",
       "      <td>0</td>\n",
       "      <td>2017-02-09 15:33:00</td>\n",
       "      <td>23522</td>\n",
       "      <td>1</td>\n",
       "      <td>Shop 28</td>\n",
       "      <td>2017-02-09</td>\n",
       "      <td>2</td>\n",
       "      <td>2017</td>\n",
       "      <td>2.55</td>\n",
       "      <td>0.00</td>\n",
       "    </tr>\n",
       "    <tr>\n",
       "      <th>4</th>\n",
       "      <td>543812</td>\n",
       "      <td>79321</td>\n",
       "      <td>0</td>\n",
       "      <td>2017-02-13 14:40:00</td>\n",
       "      <td>23151</td>\n",
       "      <td>1</td>\n",
       "      <td>Shop 28</td>\n",
       "      <td>2017-02-13</td>\n",
       "      <td>2</td>\n",
       "      <td>2017</td>\n",
       "      <td>0.00</td>\n",
       "      <td>0.00</td>\n",
       "    </tr>\n",
       "  </tbody>\n",
       "</table>\n",
       "</div>"
      ],
      "text/plain": [
       "  purchase_id item_id  quantity       purchase_date  customer_id  \\\n",
       "0      538280   21873        11 2016-12-10 12:50:00        18427   \n",
       "1      538862   22195         0 2016-12-14 14:11:00        22389   \n",
       "2      538855   21239         7 2016-12-14 13:50:00        22182   \n",
       "3      543543   22271         0 2017-02-09 15:33:00        23522   \n",
       "4      543812   79321         0 2017-02-13 14:40:00        23151   \n",
       "\n",
       "   loyalty_program  shop_id purchase_day  purchase_month  purchase_year  \\\n",
       "0                0   Shop 3   2016-12-10              12           2016   \n",
       "1                1   Shop 2   2016-12-14              12           2016   \n",
       "2                1   Shop 3   2016-12-14              12           2016   \n",
       "3                1  Shop 28   2017-02-09               2           2017   \n",
       "4                1  Shop 28   2017-02-13               2           2017   \n",
       "\n",
       "   price_per_one  total_revenue  \n",
       "0           0.42           4.62  \n",
       "1           1.65           0.00  \n",
       "2           0.72           5.04  \n",
       "3           2.55           0.00  \n",
       "4           0.00           0.00  "
      ]
     },
     "execution_count": 170,
     "metadata": {},
     "output_type": "execute_result"
    }
   ],
   "source": [
    "df_merge['total_revenue'] = df_merge['quantity'] * df_merge['price_per_one']\n",
    "df_merge.head()"
   ]
  },
  {
   "cell_type": "code",
   "execution_count": 171,
   "id": "36652976-1108-4de2-8ef0-fe5ebadba3c6",
   "metadata": {},
   "outputs": [
    {
     "name": "stdout",
     "output_type": "stream",
     "text": [
      "<class 'pandas.core.frame.DataFrame'>\n",
      "RangeIndex: 104302 entries, 0 to 104301\n",
      "Data columns (total 12 columns):\n",
      " #   Column           Non-Null Count   Dtype         \n",
      "---  ------           --------------   -----         \n",
      " 0   purchase_id      104302 non-null  object        \n",
      " 1   item_id          104302 non-null  object        \n",
      " 2   quantity         104302 non-null  int64         \n",
      " 3   purchase_date    104302 non-null  datetime64[ns]\n",
      " 4   customer_id      104302 non-null  int32         \n",
      " 5   loyalty_program  104302 non-null  int64         \n",
      " 6   shop_id          104302 non-null  object        \n",
      " 7   purchase_day     104302 non-null  object        \n",
      " 8   purchase_month   104302 non-null  int32         \n",
      " 9   purchase_year    104302 non-null  int32         \n",
      " 10  price_per_one    104302 non-null  float64       \n",
      " 11  total_revenue    104302 non-null  float64       \n",
      "dtypes: datetime64[ns](1), float64(2), int32(3), int64(2), object(4)\n",
      "memory usage: 8.4+ MB\n"
     ]
    }
   ],
   "source": [
    "df_revenue = df_merge\n",
    "df_revenue.info()"
   ]
  },
  {
   "cell_type": "code",
   "execution_count": 172,
   "id": "cfddef6f-7324-44f0-ba44-0a49d89050e2",
   "metadata": {},
   "outputs": [
    {
     "data": {
      "text/html": [
       "<div>\n",
       "<style scoped>\n",
       "    .dataframe tbody tr th:only-of-type {\n",
       "        vertical-align: middle;\n",
       "    }\n",
       "\n",
       "    .dataframe tbody tr th {\n",
       "        vertical-align: top;\n",
       "    }\n",
       "\n",
       "    .dataframe thead th {\n",
       "        text-align: right;\n",
       "    }\n",
       "</style>\n",
       "<table border=\"1\" class=\"dataframe\">\n",
       "  <thead>\n",
       "    <tr style=\"text-align: right;\">\n",
       "      <th></th>\n",
       "      <th>purchase_day</th>\n",
       "      <th>total_revenue</th>\n",
       "    </tr>\n",
       "  </thead>\n",
       "  <tbody>\n",
       "    <tr>\n",
       "      <th>0</th>\n",
       "      <td>2016-12-01</td>\n",
       "      <td>26913.22</td>\n",
       "    </tr>\n",
       "    <tr>\n",
       "      <th>1</th>\n",
       "      <td>2016-12-02</td>\n",
       "      <td>26914.11</td>\n",
       "    </tr>\n",
       "    <tr>\n",
       "      <th>2</th>\n",
       "      <td>2016-12-03</td>\n",
       "      <td>14341.68</td>\n",
       "    </tr>\n",
       "    <tr>\n",
       "      <th>3</th>\n",
       "      <td>2016-12-05</td>\n",
       "      <td>14747.20</td>\n",
       "    </tr>\n",
       "    <tr>\n",
       "      <th>4</th>\n",
       "      <td>2016-12-06</td>\n",
       "      <td>20183.17</td>\n",
       "    </tr>\n",
       "  </tbody>\n",
       "</table>\n",
       "</div>"
      ],
      "text/plain": [
       "  purchase_day  total_revenue\n",
       "0   2016-12-01       26913.22\n",
       "1   2016-12-02       26914.11\n",
       "2   2016-12-03       14341.68\n",
       "3   2016-12-05       14747.20\n",
       "4   2016-12-06       20183.17"
      ]
     },
     "execution_count": 172,
     "metadata": {},
     "output_type": "execute_result"
    }
   ],
   "source": [
    "#total revenue sehari \n",
    "daily_revenue = df_revenue.groupby('purchase_day')['total_revenue'].sum().reset_index()\n",
    "daily_revenue.head()"
   ]
  },
  {
   "cell_type": "code",
   "execution_count": 173,
   "id": "2cd26a12-5e9c-495b-8643-c902e33882c4",
   "metadata": {},
   "outputs": [
    {
     "data": {
      "application/vnd.plotly.v1+json": {
       "config": {
        "plotlyServerURL": "https://plot.ly"
       },
       "data": [
        {
         "hovertemplate": "purchase_day=%{x}<br>total_revenue=%{y}<extra></extra>",
         "legendgroup": "",
         "line": {
          "color": "#636efa",
          "dash": "solid"
         },
         "marker": {
          "symbol": "circle"
         },
         "mode": "lines",
         "name": "",
         "orientation": "v",
         "showlegend": false,
         "type": "scatter",
         "x": [
          "2016-12-01",
          "2016-12-02",
          "2016-12-03",
          "2016-12-05",
          "2016-12-06",
          "2016-12-07",
          "2016-12-08",
          "2016-12-09",
          "2016-12-10",
          "2016-12-12",
          "2016-12-13",
          "2016-12-14",
          "2016-12-15",
          "2016-12-16",
          "2016-12-17",
          "2016-12-19",
          "2016-12-20",
          "2016-12-21",
          "2016-12-22",
          "2016-12-23",
          "2017-01-04",
          "2017-01-05",
          "2017-01-06",
          "2017-01-07",
          "2017-01-09",
          "2017-01-10",
          "2017-01-11",
          "2017-01-12",
          "2017-01-13",
          "2017-01-14",
          "2017-01-16",
          "2017-01-17",
          "2017-01-18",
          "2017-01-19",
          "2017-01-20",
          "2017-01-21",
          "2017-01-23",
          "2017-01-24",
          "2017-01-25",
          "2017-01-26",
          "2017-01-27",
          "2017-01-28",
          "2017-01-30",
          "2017-01-31",
          "2017-02-01",
          "2017-02-02",
          "2017-02-03",
          "2017-02-04",
          "2017-02-06",
          "2017-02-07",
          "2017-02-08",
          "2017-02-09",
          "2017-02-10",
          "2017-02-11",
          "2017-02-13",
          "2017-02-14",
          "2017-02-15",
          "2017-02-16",
          "2017-02-17",
          "2017-02-18",
          "2017-02-20",
          "2017-02-21",
          "2017-02-22",
          "2017-02-23",
          "2017-02-24",
          "2017-02-25",
          "2017-02-27",
          "2017-02-28"
         ],
         "xaxis": "x",
         "y": [
          26913.22,
          26914.11,
          14341.68,
          14747.2,
          20183.170000000002,
          41620.43,
          23226.5,
          22854.4,
          21918.11,
          9310.47,
          18829.49,
          18703.38,
          16759.99,
          30828.73,
          14983.89,
          4146.46,
          11527.800000000001,
          15152.58,
          2913.11,
          5452.99,
          7987.9,
          18371.75,
          22897.29,
          14737.23,
          8741.26,
          11761.76,
          31109.5,
          11040.74,
          10325.94,
          31627.02,
          3821.84,
          13606.58,
          8014.389999999991,
          15944.67,
          11872.12,
          19157.45,
          5576.82,
          12921.58,
          14519.13,
          9818.7,
          12448.71,
          10690.21,
          2854.61,
          11706.26,
          16876.04,
          10035.73,
          14378.29,
          12933.48,
          1888.13,
          17252.58,
          9977.41,
          9441.41,
          7166.23,
          11704.48,
          2665.2400000000002,
          16444.72,
          26070.88,
          15553.46,
          11151.83,
          9040.51,
          4088.44,
          24665.69,
          21078.13,
          12890.68,
          12337.71,
          10010.9,
          5169.56,
          9743.36
         ],
         "yaxis": "y"
        }
       ],
       "layout": {
        "autosize": true,
        "legend": {
         "tracegroupgap": 0
        },
        "template": {
         "data": {
          "bar": [
           {
            "error_x": {
             "color": "#2a3f5f"
            },
            "error_y": {
             "color": "#2a3f5f"
            },
            "marker": {
             "line": {
              "color": "#E5ECF6",
              "width": 0.5
             },
             "pattern": {
              "fillmode": "overlay",
              "size": 10,
              "solidity": 0.2
             }
            },
            "type": "bar"
           }
          ],
          "barpolar": [
           {
            "marker": {
             "line": {
              "color": "#E5ECF6",
              "width": 0.5
             },
             "pattern": {
              "fillmode": "overlay",
              "size": 10,
              "solidity": 0.2
             }
            },
            "type": "barpolar"
           }
          ],
          "carpet": [
           {
            "aaxis": {
             "endlinecolor": "#2a3f5f",
             "gridcolor": "white",
             "linecolor": "white",
             "minorgridcolor": "white",
             "startlinecolor": "#2a3f5f"
            },
            "baxis": {
             "endlinecolor": "#2a3f5f",
             "gridcolor": "white",
             "linecolor": "white",
             "minorgridcolor": "white",
             "startlinecolor": "#2a3f5f"
            },
            "type": "carpet"
           }
          ],
          "choropleth": [
           {
            "colorbar": {
             "outlinewidth": 0,
             "ticks": ""
            },
            "type": "choropleth"
           }
          ],
          "contour": [
           {
            "colorbar": {
             "outlinewidth": 0,
             "ticks": ""
            },
            "colorscale": [
             [
              0,
              "#0d0887"
             ],
             [
              0.1111111111111111,
              "#46039f"
             ],
             [
              0.2222222222222222,
              "#7201a8"
             ],
             [
              0.3333333333333333,
              "#9c179e"
             ],
             [
              0.4444444444444444,
              "#bd3786"
             ],
             [
              0.5555555555555556,
              "#d8576b"
             ],
             [
              0.6666666666666666,
              "#ed7953"
             ],
             [
              0.7777777777777778,
              "#fb9f3a"
             ],
             [
              0.8888888888888888,
              "#fdca26"
             ],
             [
              1,
              "#f0f921"
             ]
            ],
            "type": "contour"
           }
          ],
          "contourcarpet": [
           {
            "colorbar": {
             "outlinewidth": 0,
             "ticks": ""
            },
            "type": "contourcarpet"
           }
          ],
          "heatmap": [
           {
            "colorbar": {
             "outlinewidth": 0,
             "ticks": ""
            },
            "colorscale": [
             [
              0,
              "#0d0887"
             ],
             [
              0.1111111111111111,
              "#46039f"
             ],
             [
              0.2222222222222222,
              "#7201a8"
             ],
             [
              0.3333333333333333,
              "#9c179e"
             ],
             [
              0.4444444444444444,
              "#bd3786"
             ],
             [
              0.5555555555555556,
              "#d8576b"
             ],
             [
              0.6666666666666666,
              "#ed7953"
             ],
             [
              0.7777777777777778,
              "#fb9f3a"
             ],
             [
              0.8888888888888888,
              "#fdca26"
             ],
             [
              1,
              "#f0f921"
             ]
            ],
            "type": "heatmap"
           }
          ],
          "heatmapgl": [
           {
            "colorbar": {
             "outlinewidth": 0,
             "ticks": ""
            },
            "colorscale": [
             [
              0,
              "#0d0887"
             ],
             [
              0.1111111111111111,
              "#46039f"
             ],
             [
              0.2222222222222222,
              "#7201a8"
             ],
             [
              0.3333333333333333,
              "#9c179e"
             ],
             [
              0.4444444444444444,
              "#bd3786"
             ],
             [
              0.5555555555555556,
              "#d8576b"
             ],
             [
              0.6666666666666666,
              "#ed7953"
             ],
             [
              0.7777777777777778,
              "#fb9f3a"
             ],
             [
              0.8888888888888888,
              "#fdca26"
             ],
             [
              1,
              "#f0f921"
             ]
            ],
            "type": "heatmapgl"
           }
          ],
          "histogram": [
           {
            "marker": {
             "pattern": {
              "fillmode": "overlay",
              "size": 10,
              "solidity": 0.2
             }
            },
            "type": "histogram"
           }
          ],
          "histogram2d": [
           {
            "colorbar": {
             "outlinewidth": 0,
             "ticks": ""
            },
            "colorscale": [
             [
              0,
              "#0d0887"
             ],
             [
              0.1111111111111111,
              "#46039f"
             ],
             [
              0.2222222222222222,
              "#7201a8"
             ],
             [
              0.3333333333333333,
              "#9c179e"
             ],
             [
              0.4444444444444444,
              "#bd3786"
             ],
             [
              0.5555555555555556,
              "#d8576b"
             ],
             [
              0.6666666666666666,
              "#ed7953"
             ],
             [
              0.7777777777777778,
              "#fb9f3a"
             ],
             [
              0.8888888888888888,
              "#fdca26"
             ],
             [
              1,
              "#f0f921"
             ]
            ],
            "type": "histogram2d"
           }
          ],
          "histogram2dcontour": [
           {
            "colorbar": {
             "outlinewidth": 0,
             "ticks": ""
            },
            "colorscale": [
             [
              0,
              "#0d0887"
             ],
             [
              0.1111111111111111,
              "#46039f"
             ],
             [
              0.2222222222222222,
              "#7201a8"
             ],
             [
              0.3333333333333333,
              "#9c179e"
             ],
             [
              0.4444444444444444,
              "#bd3786"
             ],
             [
              0.5555555555555556,
              "#d8576b"
             ],
             [
              0.6666666666666666,
              "#ed7953"
             ],
             [
              0.7777777777777778,
              "#fb9f3a"
             ],
             [
              0.8888888888888888,
              "#fdca26"
             ],
             [
              1,
              "#f0f921"
             ]
            ],
            "type": "histogram2dcontour"
           }
          ],
          "mesh3d": [
           {
            "colorbar": {
             "outlinewidth": 0,
             "ticks": ""
            },
            "type": "mesh3d"
           }
          ],
          "parcoords": [
           {
            "line": {
             "colorbar": {
              "outlinewidth": 0,
              "ticks": ""
             }
            },
            "type": "parcoords"
           }
          ],
          "pie": [
           {
            "automargin": true,
            "type": "pie"
           }
          ],
          "scatter": [
           {
            "fillpattern": {
             "fillmode": "overlay",
             "size": 10,
             "solidity": 0.2
            },
            "type": "scatter"
           }
          ],
          "scatter3d": [
           {
            "line": {
             "colorbar": {
              "outlinewidth": 0,
              "ticks": ""
             }
            },
            "marker": {
             "colorbar": {
              "outlinewidth": 0,
              "ticks": ""
             }
            },
            "type": "scatter3d"
           }
          ],
          "scattercarpet": [
           {
            "marker": {
             "colorbar": {
              "outlinewidth": 0,
              "ticks": ""
             }
            },
            "type": "scattercarpet"
           }
          ],
          "scattergeo": [
           {
            "marker": {
             "colorbar": {
              "outlinewidth": 0,
              "ticks": ""
             }
            },
            "type": "scattergeo"
           }
          ],
          "scattergl": [
           {
            "marker": {
             "colorbar": {
              "outlinewidth": 0,
              "ticks": ""
             }
            },
            "type": "scattergl"
           }
          ],
          "scattermapbox": [
           {
            "marker": {
             "colorbar": {
              "outlinewidth": 0,
              "ticks": ""
             }
            },
            "type": "scattermapbox"
           }
          ],
          "scatterpolar": [
           {
            "marker": {
             "colorbar": {
              "outlinewidth": 0,
              "ticks": ""
             }
            },
            "type": "scatterpolar"
           }
          ],
          "scatterpolargl": [
           {
            "marker": {
             "colorbar": {
              "outlinewidth": 0,
              "ticks": ""
             }
            },
            "type": "scatterpolargl"
           }
          ],
          "scatterternary": [
           {
            "marker": {
             "colorbar": {
              "outlinewidth": 0,
              "ticks": ""
             }
            },
            "type": "scatterternary"
           }
          ],
          "surface": [
           {
            "colorbar": {
             "outlinewidth": 0,
             "ticks": ""
            },
            "colorscale": [
             [
              0,
              "#0d0887"
             ],
             [
              0.1111111111111111,
              "#46039f"
             ],
             [
              0.2222222222222222,
              "#7201a8"
             ],
             [
              0.3333333333333333,
              "#9c179e"
             ],
             [
              0.4444444444444444,
              "#bd3786"
             ],
             [
              0.5555555555555556,
              "#d8576b"
             ],
             [
              0.6666666666666666,
              "#ed7953"
             ],
             [
              0.7777777777777778,
              "#fb9f3a"
             ],
             [
              0.8888888888888888,
              "#fdca26"
             ],
             [
              1,
              "#f0f921"
             ]
            ],
            "type": "surface"
           }
          ],
          "table": [
           {
            "cells": {
             "fill": {
              "color": "#EBF0F8"
             },
             "line": {
              "color": "white"
             }
            },
            "header": {
             "fill": {
              "color": "#C8D4E3"
             },
             "line": {
              "color": "white"
             }
            },
            "type": "table"
           }
          ]
         },
         "layout": {
          "annotationdefaults": {
           "arrowcolor": "#2a3f5f",
           "arrowhead": 0,
           "arrowwidth": 1
          },
          "autotypenumbers": "strict",
          "coloraxis": {
           "colorbar": {
            "outlinewidth": 0,
            "ticks": ""
           }
          },
          "colorscale": {
           "diverging": [
            [
             0,
             "#8e0152"
            ],
            [
             0.1,
             "#c51b7d"
            ],
            [
             0.2,
             "#de77ae"
            ],
            [
             0.3,
             "#f1b6da"
            ],
            [
             0.4,
             "#fde0ef"
            ],
            [
             0.5,
             "#f7f7f7"
            ],
            [
             0.6,
             "#e6f5d0"
            ],
            [
             0.7,
             "#b8e186"
            ],
            [
             0.8,
             "#7fbc41"
            ],
            [
             0.9,
             "#4d9221"
            ],
            [
             1,
             "#276419"
            ]
           ],
           "sequential": [
            [
             0,
             "#0d0887"
            ],
            [
             0.1111111111111111,
             "#46039f"
            ],
            [
             0.2222222222222222,
             "#7201a8"
            ],
            [
             0.3333333333333333,
             "#9c179e"
            ],
            [
             0.4444444444444444,
             "#bd3786"
            ],
            [
             0.5555555555555556,
             "#d8576b"
            ],
            [
             0.6666666666666666,
             "#ed7953"
            ],
            [
             0.7777777777777778,
             "#fb9f3a"
            ],
            [
             0.8888888888888888,
             "#fdca26"
            ],
            [
             1,
             "#f0f921"
            ]
           ],
           "sequentialminus": [
            [
             0,
             "#0d0887"
            ],
            [
             0.1111111111111111,
             "#46039f"
            ],
            [
             0.2222222222222222,
             "#7201a8"
            ],
            [
             0.3333333333333333,
             "#9c179e"
            ],
            [
             0.4444444444444444,
             "#bd3786"
            ],
            [
             0.5555555555555556,
             "#d8576b"
            ],
            [
             0.6666666666666666,
             "#ed7953"
            ],
            [
             0.7777777777777778,
             "#fb9f3a"
            ],
            [
             0.8888888888888888,
             "#fdca26"
            ],
            [
             1,
             "#f0f921"
            ]
           ]
          },
          "colorway": [
           "#636efa",
           "#EF553B",
           "#00cc96",
           "#ab63fa",
           "#FFA15A",
           "#19d3f3",
           "#FF6692",
           "#B6E880",
           "#FF97FF",
           "#FECB52"
          ],
          "font": {
           "color": "#2a3f5f"
          },
          "geo": {
           "bgcolor": "white",
           "lakecolor": "white",
           "landcolor": "#E5ECF6",
           "showlakes": true,
           "showland": true,
           "subunitcolor": "white"
          },
          "hoverlabel": {
           "align": "left"
          },
          "hovermode": "closest",
          "mapbox": {
           "style": "light"
          },
          "paper_bgcolor": "white",
          "plot_bgcolor": "#E5ECF6",
          "polar": {
           "angularaxis": {
            "gridcolor": "white",
            "linecolor": "white",
            "ticks": ""
           },
           "bgcolor": "#E5ECF6",
           "radialaxis": {
            "gridcolor": "white",
            "linecolor": "white",
            "ticks": ""
           }
          },
          "scene": {
           "xaxis": {
            "backgroundcolor": "#E5ECF6",
            "gridcolor": "white",
            "gridwidth": 2,
            "linecolor": "white",
            "showbackground": true,
            "ticks": "",
            "zerolinecolor": "white"
           },
           "yaxis": {
            "backgroundcolor": "#E5ECF6",
            "gridcolor": "white",
            "gridwidth": 2,
            "linecolor": "white",
            "showbackground": true,
            "ticks": "",
            "zerolinecolor": "white"
           },
           "zaxis": {
            "backgroundcolor": "#E5ECF6",
            "gridcolor": "white",
            "gridwidth": 2,
            "linecolor": "white",
            "showbackground": true,
            "ticks": "",
            "zerolinecolor": "white"
           }
          },
          "shapedefaults": {
           "line": {
            "color": "#2a3f5f"
           }
          },
          "ternary": {
           "aaxis": {
            "gridcolor": "white",
            "linecolor": "white",
            "ticks": ""
           },
           "baxis": {
            "gridcolor": "white",
            "linecolor": "white",
            "ticks": ""
           },
           "bgcolor": "#E5ECF6",
           "caxis": {
            "gridcolor": "white",
            "linecolor": "white",
            "ticks": ""
           }
          },
          "title": {
           "x": 0.05
          },
          "xaxis": {
           "automargin": true,
           "gridcolor": "white",
           "linecolor": "white",
           "ticks": "",
           "title": {
            "standoff": 15
           },
           "zerolinecolor": "white",
           "zerolinewidth": 2
          },
          "yaxis": {
           "automargin": true,
           "gridcolor": "white",
           "linecolor": "white",
           "ticks": "",
           "title": {
            "standoff": 15
           },
           "zerolinecolor": "white",
           "zerolinewidth": 2
          }
         }
        },
        "title": {
         "text": "Total Revenue per Day"
        },
        "xaxis": {
         "anchor": "y",
         "autorange": true,
         "domain": [
          0,
          1
         ],
         "range": [
          "2016-12-01",
          "2017-02-28"
         ],
         "title": {
          "text": "Date"
         },
         "type": "date"
        },
        "yaxis": {
         "anchor": "x",
         "autorange": true,
         "domain": [
          0,
          1
         ],
         "range": [
          -319.2199999999998,
          43827.78
         ],
         "title": {
          "text": "Total Revenue"
         },
         "type": "linear"
        }
       }
      },
      "image/png": "[encoded data removed]",
      "text/html": [
       "<div>                            <div id=\"661271ac-1972-4943-a4f4-bd3547e2db91\" class=\"plotly-graph-div\" style=\"height:525px; width:100%;\"></div>            <script type=\"text/javascript\">                require([\"plotly\"], function(Plotly) {                    window.PLOTLYENV=window.PLOTLYENV || {};                                    if (document.getElementById(\"661271ac-1972-4943-a4f4-bd3547e2db91\")) {                    Plotly.newPlot(                        \"661271ac-1972-4943-a4f4-bd3547e2db91\",                        [{\"hovertemplate\":\"purchase_day=%{x}<br>total_revenue=%{y}<extra></extra>\",\"legendgroup\":\"\",\"line\":{\"color\":\"#636efa\",\"dash\":\"solid\"},\"marker\":{\"symbol\":\"circle\"},\"mode\":\"lines\",\"name\":\"\",\"orientation\":\"v\",\"showlegend\":false,\"x\":[\"2016-12-01\",\"2016-12-02\",\"2016-12-03\",\"2016-12-05\",\"2016-12-06\",\"2016-12-07\",\"2016-12-08\",\"2016-12-09\",\"2016-12-10\",\"2016-12-12\",\"2016-12-13\",\"2016-12-14\",\"2016-12-15\",\"2016-12-16\",\"2016-12-17\",\"2016-12-19\",\"2016-12-20\",\"2016-12-21\",\"2016-12-22\",\"2016-12-23\",\"2017-01-04\",\"2017-01-05\",\"2017-01-06\",\"2017-01-07\",\"2017-01-09\",\"2017-01-10\",\"2017-01-11\",\"2017-01-12\",\"2017-01-13\",\"2017-01-14\",\"2017-01-16\",\"2017-01-17\",\"2017-01-18\",\"2017-01-19\",\"2017-01-20\",\"2017-01-21\",\"2017-01-23\",\"2017-01-24\",\"2017-01-25\",\"2017-01-26\",\"2017-01-27\",\"2017-01-28\",\"2017-01-30\",\"2017-01-31\",\"2017-02-01\",\"2017-02-02\",\"2017-02-03\",\"2017-02-04\",\"2017-02-06\",\"2017-02-07\",\"2017-02-08\",\"2017-02-09\",\"2017-02-10\",\"2017-02-11\",\"2017-02-13\",\"2017-02-14\",\"2017-02-15\",\"2017-02-16\",\"2017-02-17\",\"2017-02-18\",\"2017-02-20\",\"2017-02-21\",\"2017-02-22\",\"2017-02-23\",\"2017-02-24\",\"2017-02-25\",\"2017-02-27\",\"2017-02-28\"],\"xaxis\":\"x\",\"y\":[26913.22,26914.11,14341.68,14747.2,20183.170000000002,41620.43,23226.5,22854.4,21918.11,9310.47,18829.49,18703.38,16759.99,30828.73,14983.89,4146.46,11527.800000000001,15152.58,2913.11,5452.99,7987.9,18371.75,22897.29,14737.23,8741.26,11761.76,31109.5,11040.74,10325.94,31627.02,3821.84,13606.58,8014.389999999991,15944.67,11872.12,19157.45,5576.82,12921.58,14519.13,9818.7,12448.71,10690.21,2854.61,11706.26,16876.04,10035.73,14378.29,12933.48,1888.13,17252.58,9977.41,9441.41,7166.23,11704.48,2665.2400000000002,16444.72,26070.88,15553.46,11151.83,9040.51,4088.44,24665.69,21078.13,12890.68,12337.71,10010.9,5169.56,9743.36],\"yaxis\":\"y\",\"type\":\"scatter\"}],                        {\"template\":{\"data\":{\"histogram2dcontour\":[{\"type\":\"histogram2dcontour\",\"colorbar\":{\"outlinewidth\":0,\"ticks\":\"\"},\"colorscale\":[[0.0,\"#0d0887\"],[0.1111111111111111,\"#46039f\"],[0.2222222222222222,\"#7201a8\"],[0.3333333333333333,\"#9c179e\"],[0.4444444444444444,\"#bd3786\"],[0.5555555555555556,\"#d8576b\"],[0.6666666666666666,\"#ed7953\"],[0.7777777777777778,\"#fb9f3a\"],[0.8888888888888888,\"#fdca26\"],[1.0,\"#f0f921\"]]}],\"choropleth\":[{\"type\":\"choropleth\",\"colorbar\":{\"outlinewidth\":0,\"ticks\":\"\"}}],\"histogram2d\":[{\"type\":\"histogram2d\",\"colorbar\":{\"outlinewidth\":0,\"ticks\":\"\"},\"colorscale\":[[0.0,\"#0d0887\"],[0.1111111111111111,\"#46039f\"],[0.2222222222222222,\"#7201a8\"],[0.3333333333333333,\"#9c179e\"],[0.4444444444444444,\"#bd3786\"],[0.5555555555555556,\"#d8576b\"],[0.6666666666666666,\"#ed7953\"],[0.7777777777777778,\"#fb9f3a\"],[0.8888888888888888,\"#fdca26\"],[1.0,\"#f0f921\"]]}],\"heatmap\":[{\"type\":\"heatmap\",\"colorbar\":{\"outlinewidth\":0,\"ticks\":\"\"},\"colorscale\":[[0.0,\"#0d0887\"],[0.1111111111111111,\"#46039f\"],[0.2222222222222222,\"#7201a8\"],[0.3333333333333333,\"#9c179e\"],[0.4444444444444444,\"#bd3786\"],[0.5555555555555556,\"#d8576b\"],[0.6666666666666666,\"#ed7953\"],[0.7777777777777778,\"#fb9f3a\"],[0.8888888888888888,\"#fdca26\"],[1.0,\"#f0f921\"]]}],\"heatmapgl\":[{\"type\":\"heatmapgl\",\"colorbar\":{\"outlinewidth\":0,\"ticks\":\"\"},\"colorscale\":[[0.0,\"#0d0887\"],[0.1111111111111111,\"#46039f\"],[0.2222222222222222,\"#7201a8\"],[0.3333333333333333,\"#9c179e\"],[0.4444444444444444,\"#bd3786\"],[0.5555555555555556,\"#d8576b\"],[0.6666666666666666,\"#ed7953\"],[0.7777777777777778,\"#fb9f3a\"],[0.8888888888888888,\"#fdca26\"],[1.0,\"#f0f921\"]]}],\"contourcarpet\":[{\"type\":\"contourcarpet\",\"colorbar\":{\"outlinewidth\":0,\"ticks\":\"\"}}],\"contour\":[{\"type\":\"contour\",\"colorbar\":{\"outlinewidth\":0,\"ticks\":\"\"},\"colorscale\":[[0.0,\"#0d0887\"],[0.1111111111111111,\"#46039f\"],[0.2222222222222222,\"#7201a8\"],[0.3333333333333333,\"#9c179e\"],[0.4444444444444444,\"#bd3786\"],[0.5555555555555556,\"#d8576b\"],[0.6666666666666666,\"#ed7953\"],[0.7777777777777778,\"#fb9f3a\"],[0.8888888888888888,\"#fdca26\"],[1.0,\"#f0f921\"]]}],\"surface\":[{\"type\":\"surface\",\"colorbar\":{\"outlinewidth\":0,\"ticks\":\"\"},\"colorscale\":[[0.0,\"#0d0887\"],[0.1111111111111111,\"#46039f\"],[0.2222222222222222,\"#7201a8\"],[0.3333333333333333,\"#9c179e\"],[0.4444444444444444,\"#bd3786\"],[0.5555555555555556,\"#d8576b\"],[0.6666666666666666,\"#ed7953\"],[0.7777777777777778,\"#fb9f3a\"],[0.8888888888888888,\"#fdca26\"],[1.0,\"#f0f921\"]]}],\"mesh3d\":[{\"type\":\"mesh3d\",\"colorbar\":{\"outlinewidth\":0,\"ticks\":\"\"}}],\"scatter\":[{\"fillpattern\":{\"fillmode\":\"overlay\",\"size\":10,\"solidity\":0.2},\"type\":\"scatter\"}],\"parcoords\":[{\"type\":\"parcoords\",\"line\":{\"colorbar\":{\"outlinewidth\":0,\"ticks\":\"\"}}}],\"scatterpolargl\":[{\"type\":\"scatterpolargl\",\"marker\":{\"colorbar\":{\"outlinewidth\":0,\"ticks\":\"\"}}}],\"bar\":[{\"error_x\":{\"color\":\"#2a3f5f\"},\"error_y\":{\"color\":\"#2a3f5f\"},\"marker\":{\"line\":{\"color\":\"#E5ECF6\",\"width\":0.5},\"pattern\":{\"fillmode\":\"overlay\",\"size\":10,\"solidity\":0.2}},\"type\":\"bar\"}],\"scattergeo\":[{\"type\":\"scattergeo\",\"marker\":{\"colorbar\":{\"outlinewidth\":0,\"ticks\":\"\"}}}],\"scatterpolar\":[{\"type\":\"scatterpolar\",\"marker\":{\"colorbar\":{\"outlinewidth\":0,\"ticks\":\"\"}}}],\"histogram\":[{\"marker\":{\"pattern\":{\"fillmode\":\"overlay\",\"size\":10,\"solidity\":0.2}},\"type\":\"histogram\"}],\"scattergl\":[{\"type\":\"scattergl\",\"marker\":{\"colorbar\":{\"outlinewidth\":0,\"ticks\":\"\"}}}],\"scatter3d\":[{\"type\":\"scatter3d\",\"line\":{\"colorbar\":{\"outlinewidth\":0,\"ticks\":\"\"}},\"marker\":{\"colorbar\":{\"outlinewidth\":0,\"ticks\":\"\"}}}],\"scattermapbox\":[{\"type\":\"scattermapbox\",\"marker\":{\"colorbar\":{\"outlinewidth\":0,\"ticks\":\"\"}}}],\"scatterternary\":[{\"type\":\"scatterternary\",\"marker\":{\"colorbar\":{\"outlinewidth\":0,\"ticks\":\"\"}}}],\"scattercarpet\":[{\"type\":\"scattercarpet\",\"marker\":{\"colorbar\":{\"outlinewidth\":0,\"ticks\":\"\"}}}],\"carpet\":[{\"aaxis\":{\"endlinecolor\":\"#2a3f5f\",\"gridcolor\":\"white\",\"linecolor\":\"white\",\"minorgridcolor\":\"white\",\"startlinecolor\":\"#2a3f5f\"},\"baxis\":{\"endlinecolor\":\"#2a3f5f\",\"gridcolor\":\"white\",\"linecolor\":\"white\",\"minorgridcolor\":\"white\",\"startlinecolor\":\"#2a3f5f\"},\"type\":\"carpet\"}],\"table\":[{\"cells\":{\"fill\":{\"color\":\"#EBF0F8\"},\"line\":{\"color\":\"white\"}},\"header\":{\"fill\":{\"color\":\"#C8D4E3\"},\"line\":{\"color\":\"white\"}},\"type\":\"table\"}],\"barpolar\":[{\"marker\":{\"line\":{\"color\":\"#E5ECF6\",\"width\":0.5},\"pattern\":{\"fillmode\":\"overlay\",\"size\":10,\"solidity\":0.2}},\"type\":\"barpolar\"}],\"pie\":[{\"automargin\":true,\"type\":\"pie\"}]},\"layout\":{\"autotypenumbers\":\"strict\",\"colorway\":[\"#636efa\",\"#EF553B\",\"#00cc96\",\"#ab63fa\",\"#FFA15A\",\"#19d3f3\",\"#FF6692\",\"#B6E880\",\"#FF97FF\",\"#FECB52\"],\"font\":{\"color\":\"#2a3f5f\"},\"hovermode\":\"closest\",\"hoverlabel\":{\"align\":\"left\"},\"paper_bgcolor\":\"white\",\"plot_bgcolor\":\"#E5ECF6\",\"polar\":{\"bgcolor\":\"#E5ECF6\",\"angularaxis\":{\"gridcolor\":\"white\",\"linecolor\":\"white\",\"ticks\":\"\"},\"radialaxis\":{\"gridcolor\":\"white\",\"linecolor\":\"white\",\"ticks\":\"\"}},\"ternary\":{\"bgcolor\":\"#E5ECF6\",\"aaxis\":{\"gridcolor\":\"white\",\"linecolor\":\"white\",\"ticks\":\"\"},\"baxis\":{\"gridcolor\":\"white\",\"linecolor\":\"white\",\"ticks\":\"\"},\"caxis\":{\"gridcolor\":\"white\",\"linecolor\":\"white\",\"ticks\":\"\"}},\"coloraxis\":{\"colorbar\":{\"outlinewidth\":0,\"ticks\":\"\"}},\"colorscale\":{\"sequential\":[[0.0,\"#0d0887\"],[0.1111111111111111,\"#46039f\"],[0.2222222222222222,\"#7201a8\"],[0.3333333333333333,\"#9c179e\"],[0.4444444444444444,\"#bd3786\"],[0.5555555555555556,\"#d8576b\"],[0.6666666666666666,\"#ed7953\"],[0.7777777777777778,\"#fb9f3a\"],[0.8888888888888888,\"#fdca26\"],[1.0,\"#f0f921\"]],\"sequentialminus\":[[0.0,\"#0d0887\"],[0.1111111111111111,\"#46039f\"],[0.2222222222222222,\"#7201a8\"],[0.3333333333333333,\"#9c179e\"],[0.4444444444444444,\"#bd3786\"],[0.5555555555555556,\"#d8576b\"],[0.6666666666666666,\"#ed7953\"],[0.7777777777777778,\"#fb9f3a\"],[0.8888888888888888,\"#fdca26\"],[1.0,\"#f0f921\"]],\"diverging\":[[0,\"#8e0152\"],[0.1,\"#c51b7d\"],[0.2,\"#de77ae\"],[0.3,\"#f1b6da\"],[0.4,\"#fde0ef\"],[0.5,\"#f7f7f7\"],[0.6,\"#e6f5d0\"],[0.7,\"#b8e186\"],[0.8,\"#7fbc41\"],[0.9,\"#4d9221\"],[1,\"#276419\"]]},\"xaxis\":{\"gridcolor\":\"white\",\"linecolor\":\"white\",\"ticks\":\"\",\"title\":{\"standoff\":15},\"zerolinecolor\":\"white\",\"automargin\":true,\"zerolinewidth\":2},\"yaxis\":{\"gridcolor\":\"white\",\"linecolor\":\"white\",\"ticks\":\"\",\"title\":{\"standoff\":15},\"zerolinecolor\":\"white\",\"automargin\":true,\"zerolinewidth\":2},\"scene\":{\"xaxis\":{\"backgroundcolor\":\"#E5ECF6\",\"gridcolor\":\"white\",\"linecolor\":\"white\",\"showbackground\":true,\"ticks\":\"\",\"zerolinecolor\":\"white\",\"gridwidth\":2},\"yaxis\":{\"backgroundcolor\":\"#E5ECF6\",\"gridcolor\":\"white\",\"linecolor\":\"white\",\"showbackground\":true,\"ticks\":\"\",\"zerolinecolor\":\"white\",\"gridwidth\":2},\"zaxis\":{\"backgroundcolor\":\"#E5ECF6\",\"gridcolor\":\"white\",\"linecolor\":\"white\",\"showbackground\":true,\"ticks\":\"\",\"zerolinecolor\":\"white\",\"gridwidth\":2}},\"shapedefaults\":{\"line\":{\"color\":\"#2a3f5f\"}},\"annotationdefaults\":{\"arrowcolor\":\"#2a3f5f\",\"arrowhead\":0,\"arrowwidth\":1},\"geo\":{\"bgcolor\":\"white\",\"landcolor\":\"#E5ECF6\",\"subunitcolor\":\"white\",\"showland\":true,\"showlakes\":true,\"lakecolor\":\"white\"},\"title\":{\"x\":0.05},\"mapbox\":{\"style\":\"light\"}}},\"xaxis\":{\"anchor\":\"y\",\"domain\":[0.0,1.0],\"title\":{\"text\":\"Date\"}},\"yaxis\":{\"anchor\":\"x\",\"domain\":[0.0,1.0],\"title\":{\"text\":\"Total Revenue\"}},\"legend\":{\"tracegroupgap\":0},\"title\":{\"text\":\"Total Revenue per Day\"}},                        {\"responsive\": true}                    ).then(function(){\n",
       "                            \n",
       "var gd = document.getElementById('661271ac-1972-4943-a4f4-bd3547e2db91');\n",
       "var x = new MutationObserver(function (mutations, observer) {{\n",
       "        var display = window.getComputedStyle(gd).display;\n",
       "        if (!display || display === 'none') {{\n",
       "            console.log([gd, 'removed!']);\n",
       "            Plotly.purge(gd);\n",
       "            observer.disconnect();\n",
       "        }}\n",
       "}});\n",
       "\n",
       "// Listen for the removal of the full notebook cells\n",
       "var notebookContainer = gd.closest('#notebook-container');\n",
       "if (notebookContainer) {{\n",
       "    x.observe(notebookContainer, {childList: true});\n",
       "}}\n",
       "\n",
       "// Listen for the clearing of the current output cell\n",
       "var outputEl = gd.closest('.output');\n",
       "if (outputEl) {{\n",
       "    x.observe(outputEl, {childList: true});\n",
       "}}\n",
       "\n",
       "                        })                };                });            </script>        </div>"
      ]
     },
     "metadata": {},
     "output_type": "display_data"
    },
    {
     "data": {
      "text/plain": [
       "<Figure size 1000x600 with 0 Axes>"
      ]
     },
     "metadata": {},
     "output_type": "display_data"
    }
   ],
   "source": [
    "#plot\n",
    "plt.figure(figsize=(10,6))\n",
    "fig = px.line(daily_revenue, x='purchase_day', y='total_revenue', title='Total Revenue per Day')\n",
    "fig.update_xaxes(title='Date')\n",
    "fig.update_yaxes(title='Total Revenue')\n",
    "fig.show()"
   ]
  },
  {
   "cell_type": "markdown",
   "id": "0227cead-4567-4b1b-96e1-1c3655b3d597",
   "metadata": {},
   "source": [
    "- berdasarkan grafik grais yang ditampilkan dapat dilihat bahwa bisnis memperoleh pendapatan yang fluktuatif dengan tren menurun\n",
    "- pendapatan awal bisnis pada tanggal 1 Desember 2016 adalah 26.91322 dolar\n",
    "- pendapatan akhir bisnis pada tanggal 28 Februari 2017 adalah 9.743,36 dolar \n",
    "- pendapatan tertinggi bisnis pada tanggal 7 Desember 2016 adalah 41.62043 dolar\n",
    "- pendapatan terendah bisnis pada tanggal 6 Februari 2017 adalah 1.888,13 dolar"
   ]
  },
  {
   "cell_type": "code",
   "execution_count": 174,
   "id": "9cb24b73-7ec6-439b-840b-a5fd88c77d1b",
   "metadata": {},
   "outputs": [
    {
     "data": {
      "text/plain": [
       "14344.795"
      ]
     },
     "execution_count": 174,
     "metadata": {},
     "output_type": "execute_result"
    }
   ],
   "source": [
    "daily_revenue['total_revenue'].mean()"
   ]
  },
  {
   "cell_type": "markdown",
   "id": "e0d80057-47fc-4904-8364-2fb740089e7d",
   "metadata": {},
   "source": [
    "rata-rata pendapatan harian yang diperoleh oleh bisnis retail bangunan adalah 14.344,795 dolar"
   ]
  },
  {
   "cell_type": "code",
   "execution_count": 175,
   "id": "e849da3e-e78c-48cb-8c03-657146500ff8",
   "metadata": {},
   "outputs": [
    {
     "data": {
      "text/plain": [
       "<Figure size 1000x600 with 0 Axes>"
      ]
     },
     "metadata": {},
     "output_type": "display_data"
    },
    {
     "data": {
      "image/png": "[encoded data removed]",
      "text/plain": [
       "<Figure size 640x480 with 1 Axes>"
      ]
     },
     "metadata": {},
     "output_type": "display_data"
    }
   ],
   "source": [
    "#total revenue bulan \n",
    "monthly_revenue = df_revenue.groupby('purchase_month')['total_revenue'].sum().reset_index()\n",
    "monthly_revenue = monthly_revenue.sort_values(by='total_revenue', ascending=False)\n",
    "\n",
    "colors = ['#86c7f3', '#b6d6a5', '#f7c6c7']\n",
    "\n",
    "# Plot\n",
    "plt.figure(figsize=(10, 6))\n",
    "monthly_revenue.plot(x='purchase_month', y='total_revenue', kind='bar', color=colors, legend=False)\n",
    "plt.title('Total Revenue per Month')\n",
    "plt.xlabel('Month')\n",
    "plt.ylabel('Total Revenue')\n",
    "plt.xticks(rotation=0)\n",
    "plt.tight_layout()\n",
    "plt.show()"
   ]
  },
  {
   "cell_type": "markdown",
   "id": "455b83d3-8f22-4477-b9a2-41f729c63b35",
   "metadata": {},
   "source": [
    "- berdasarkan grafik diatas dapat dilihat bahwa total pendapatan bisnis mengalami penurunan dari bulan ke bulan "
   ]
  },
  {
   "cell_type": "code",
   "execution_count": 176,
   "id": "368b20bb-a76f-4dfc-ad4b-90e467b3dc73",
   "metadata": {},
   "outputs": [
    {
     "data": {
      "text/html": [
       "<div>\n",
       "<style scoped>\n",
       "    .dataframe tbody tr th:only-of-type {\n",
       "        vertical-align: middle;\n",
       "    }\n",
       "\n",
       "    .dataframe tbody tr th {\n",
       "        vertical-align: top;\n",
       "    }\n",
       "\n",
       "    .dataframe thead th {\n",
       "        text-align: right;\n",
       "    }\n",
       "</style>\n",
       "<table border=\"1\" class=\"dataframe\">\n",
       "  <thead>\n",
       "    <tr style=\"text-align: right;\">\n",
       "      <th></th>\n",
       "      <th>purchase_year</th>\n",
       "      <th>total_revenue</th>\n",
       "    </tr>\n",
       "  </thead>\n",
       "  <tbody>\n",
       "    <tr>\n",
       "      <th>0</th>\n",
       "      <td>2016</td>\n",
       "      <td>361327.71</td>\n",
       "    </tr>\n",
       "    <tr>\n",
       "      <th>1</th>\n",
       "      <td>2017</td>\n",
       "      <td>614118.35</td>\n",
       "    </tr>\n",
       "  </tbody>\n",
       "</table>\n",
       "</div>"
      ],
      "text/plain": [
       "   purchase_year  total_revenue\n",
       "0           2016      361327.71\n",
       "1           2017      614118.35"
      ]
     },
     "execution_count": 176,
     "metadata": {},
     "output_type": "execute_result"
    }
   ],
   "source": [
    "annual_revenue = df_revenue.groupby('purchase_year')['total_revenue'].sum().reset_index()\n",
    "annual_revenue"
   ]
  },
  {
   "cell_type": "markdown",
   "id": "1102c730-6b7e-445e-904a-bb1f9c93692f",
   "metadata": {},
   "source": [
    "- pendapatan total bisnis pada tahun 2016 ialah 361.327,71 dolar \n",
    "- pendapatan total bisnis pada tahun 2017 ialah 641.118,35 dolar"
   ]
  },
  {
   "cell_type": "markdown",
   "id": "fe063a92-7e2d-410e-a478-3fb171bcc022",
   "metadata": {},
   "source": [
    "# Data Analisa : Loyalty Program"
   ]
  },
  {
   "cell_type": "markdown",
   "id": "9000d562-b738-4e15-b8f1-a38de7809fd0",
   "metadata": {},
   "source": [
    "1. cek customer id unik member dan non \n",
    "2. pendapatan bisnis dari member dan non hari bulan tahun\n",
    "3. distribusi frekuensi member dan non member  \n",
    "4. distribusi volume member dan non member  "
   ]
  },
  {
   "cell_type": "code",
   "execution_count": 177,
   "id": "0347a3b5-170f-45e1-85c8-4a93b13d90b6",
   "metadata": {},
   "outputs": [
    {
     "data": {
      "text/html": [
       "<div>\n",
       "<style scoped>\n",
       "    .dataframe tbody tr th:only-of-type {\n",
       "        vertical-align: middle;\n",
       "    }\n",
       "\n",
       "    .dataframe tbody tr th {\n",
       "        vertical-align: top;\n",
       "    }\n",
       "\n",
       "    .dataframe thead th {\n",
       "        text-align: right;\n",
       "    }\n",
       "</style>\n",
       "<table border=\"1\" class=\"dataframe\">\n",
       "  <thead>\n",
       "    <tr style=\"text-align: right;\">\n",
       "      <th></th>\n",
       "      <th>loyalty_program</th>\n",
       "      <th>customer_id</th>\n",
       "    </tr>\n",
       "  </thead>\n",
       "  <tbody>\n",
       "    <tr>\n",
       "      <th>0</th>\n",
       "      <td>0</td>\n",
       "      <td>1162</td>\n",
       "    </tr>\n",
       "    <tr>\n",
       "      <th>1</th>\n",
       "      <td>1</td>\n",
       "      <td>587</td>\n",
       "    </tr>\n",
       "  </tbody>\n",
       "</table>\n",
       "</div>"
      ],
      "text/plain": [
       "   loyalty_program  customer_id\n",
       "0                0         1162\n",
       "1                1          587"
      ]
     },
     "execution_count": 177,
     "metadata": {},
     "output_type": "execute_result"
    }
   ],
   "source": [
    "#cek jumlah id yang berstatus member dan non\n",
    "customer_program = df_revenue.groupby('loyalty_program')['customer_id'].nunique().reset_index()\n",
    "customer_program"
   ]
  },
  {
   "cell_type": "code",
   "execution_count": 178,
   "id": "f9e1401f-989b-48bf-aafa-6606008b5ddd",
   "metadata": {},
   "outputs": [
    {
     "data": {
      "application/vnd.plotly.v1+json": {
       "config": {
        "plotlyServerURL": "https://plot.ly"
       },
       "data": [
        {
         "hole": 0.5,
         "labels": [
          "Non-Member",
          "Member"
         ],
         "type": "pie",
         "values": [
          1162,
          587
         ]
        }
       ],
       "layout": {
        "autosize": true,
        "legend": {
         "title": {
          "text": "Member"
         }
        },
        "template": {
         "data": {
          "bar": [
           {
            "error_x": {
             "color": "#2a3f5f"
            },
            "error_y": {
             "color": "#2a3f5f"
            },
            "marker": {
             "line": {
              "color": "#E5ECF6",
              "width": 0.5
             },
             "pattern": {
              "fillmode": "overlay",
              "size": 10,
              "solidity": 0.2
             }
            },
            "type": "bar"
           }
          ],
          "barpolar": [
           {
            "marker": {
             "line": {
              "color": "#E5ECF6",
              "width": 0.5
             },
             "pattern": {
              "fillmode": "overlay",
              "size": 10,
              "solidity": 0.2
             }
            },
            "type": "barpolar"
           }
          ],
          "carpet": [
           {
            "aaxis": {
             "endlinecolor": "#2a3f5f",
             "gridcolor": "white",
             "linecolor": "white",
             "minorgridcolor": "white",
             "startlinecolor": "#2a3f5f"
            },
            "baxis": {
             "endlinecolor": "#2a3f5f",
             "gridcolor": "white",
             "linecolor": "white",
             "minorgridcolor": "white",
             "startlinecolor": "#2a3f5f"
            },
            "type": "carpet"
           }
          ],
          "choropleth": [
           {
            "colorbar": {
             "outlinewidth": 0,
             "ticks": ""
            },
            "type": "choropleth"
           }
          ],
          "contour": [
           {
            "colorbar": {
             "outlinewidth": 0,
             "ticks": ""
            },
            "colorscale": [
             [
              0,
              "#0d0887"
             ],
             [
              0.1111111111111111,
              "#46039f"
             ],
             [
              0.2222222222222222,
              "#7201a8"
             ],
             [
              0.3333333333333333,
              "#9c179e"
             ],
             [
              0.4444444444444444,
              "#bd3786"
             ],
             [
              0.5555555555555556,
              "#d8576b"
             ],
             [
              0.6666666666666666,
              "#ed7953"
             ],
             [
              0.7777777777777778,
              "#fb9f3a"
             ],
             [
              0.8888888888888888,
              "#fdca26"
             ],
             [
              1,
              "#f0f921"
             ]
            ],
            "type": "contour"
           }
          ],
          "contourcarpet": [
           {
            "colorbar": {
             "outlinewidth": 0,
             "ticks": ""
            },
            "type": "contourcarpet"
           }
          ],
          "heatmap": [
           {
            "colorbar": {
             "outlinewidth": 0,
             "ticks": ""
            },
            "colorscale": [
             [
              0,
              "#0d0887"
             ],
             [
              0.1111111111111111,
              "#46039f"
             ],
             [
              0.2222222222222222,
              "#7201a8"
             ],
             [
              0.3333333333333333,
              "#9c179e"
             ],
             [
              0.4444444444444444,
              "#bd3786"
             ],
             [
              0.5555555555555556,
              "#d8576b"
             ],
             [
              0.6666666666666666,
              "#ed7953"
             ],
             [
              0.7777777777777778,
              "#fb9f3a"
             ],
             [
              0.8888888888888888,
              "#fdca26"
             ],
             [
              1,
              "#f0f921"
             ]
            ],
            "type": "heatmap"
           }
          ],
          "heatmapgl": [
           {
            "colorbar": {
             "outlinewidth": 0,
             "ticks": ""
            },
            "colorscale": [
             [
              0,
              "#0d0887"
             ],
             [
              0.1111111111111111,
              "#46039f"
             ],
             [
              0.2222222222222222,
              "#7201a8"
             ],
             [
              0.3333333333333333,
              "#9c179e"
             ],
             [
              0.4444444444444444,
              "#bd3786"
             ],
             [
              0.5555555555555556,
              "#d8576b"
             ],
             [
              0.6666666666666666,
              "#ed7953"
             ],
             [
              0.7777777777777778,
              "#fb9f3a"
             ],
             [
              0.8888888888888888,
              "#fdca26"
             ],
             [
              1,
              "#f0f921"
             ]
            ],
            "type": "heatmapgl"
           }
          ],
          "histogram": [
           {
            "marker": {
             "pattern": {
              "fillmode": "overlay",
              "size": 10,
              "solidity": 0.2
             }
            },
            "type": "histogram"
           }
          ],
          "histogram2d": [
           {
            "colorbar": {
             "outlinewidth": 0,
             "ticks": ""
            },
            "colorscale": [
             [
              0,
              "#0d0887"
             ],
             [
              0.1111111111111111,
              "#46039f"
             ],
             [
              0.2222222222222222,
              "#7201a8"
             ],
             [
              0.3333333333333333,
              "#9c179e"
             ],
             [
              0.4444444444444444,
              "#bd3786"
             ],
             [
              0.5555555555555556,
              "#d8576b"
             ],
             [
              0.6666666666666666,
              "#ed7953"
             ],
             [
              0.7777777777777778,
              "#fb9f3a"
             ],
             [
              0.8888888888888888,
              "#fdca26"
             ],
             [
              1,
              "#f0f921"
             ]
            ],
            "type": "histogram2d"
           }
          ],
          "histogram2dcontour": [
           {
            "colorbar": {
             "outlinewidth": 0,
             "ticks": ""
            },
            "colorscale": [
             [
              0,
              "#0d0887"
             ],
             [
              0.1111111111111111,
              "#46039f"
             ],
             [
              0.2222222222222222,
              "#7201a8"
             ],
             [
              0.3333333333333333,
              "#9c179e"
             ],
             [
              0.4444444444444444,
              "#bd3786"
             ],
             [
              0.5555555555555556,
              "#d8576b"
             ],
             [
              0.6666666666666666,
              "#ed7953"
             ],
             [
              0.7777777777777778,
              "#fb9f3a"
             ],
             [
              0.8888888888888888,
              "#fdca26"
             ],
             [
              1,
              "#f0f921"
             ]
            ],
            "type": "histogram2dcontour"
           }
          ],
          "mesh3d": [
           {
            "colorbar": {
             "outlinewidth": 0,
             "ticks": ""
            },
            "type": "mesh3d"
           }
          ],
          "parcoords": [
           {
            "line": {
             "colorbar": {
              "outlinewidth": 0,
              "ticks": ""
             }
            },
            "type": "parcoords"
           }
          ],
          "pie": [
           {
            "automargin": true,
            "type": "pie"
           }
          ],
          "scatter": [
           {
            "fillpattern": {
             "fillmode": "overlay",
             "size": 10,
             "solidity": 0.2
            },
            "type": "scatter"
           }
          ],
          "scatter3d": [
           {
            "line": {
             "colorbar": {
              "outlinewidth": 0,
              "ticks": ""
             }
            },
            "marker": {
             "colorbar": {
              "outlinewidth": 0,
              "ticks": ""
             }
            },
            "type": "scatter3d"
           }
          ],
          "scattercarpet": [
           {
            "marker": {
             "colorbar": {
              "outlinewidth": 0,
              "ticks": ""
             }
            },
            "type": "scattercarpet"
           }
          ],
          "scattergeo": [
           {
            "marker": {
             "colorbar": {
              "outlinewidth": 0,
              "ticks": ""
             }
            },
            "type": "scattergeo"
           }
          ],
          "scattergl": [
           {
            "marker": {
             "colorbar": {
              "outlinewidth": 0,
              "ticks": ""
             }
            },
            "type": "scattergl"
           }
          ],
          "scattermapbox": [
           {
            "marker": {
             "colorbar": {
              "outlinewidth": 0,
              "ticks": ""
             }
            },
            "type": "scattermapbox"
           }
          ],
          "scatterpolar": [
           {
            "marker": {
             "colorbar": {
              "outlinewidth": 0,
              "ticks": ""
             }
            },
            "type": "scatterpolar"
           }
          ],
          "scatterpolargl": [
           {
            "marker": {
             "colorbar": {
              "outlinewidth": 0,
              "ticks": ""
             }
            },
            "type": "scatterpolargl"
           }
          ],
          "scatterternary": [
           {
            "marker": {
             "colorbar": {
              "outlinewidth": 0,
              "ticks": ""
             }
            },
            "type": "scatterternary"
           }
          ],
          "surface": [
           {
            "colorbar": {
             "outlinewidth": 0,
             "ticks": ""
            },
            "colorscale": [
             [
              0,
              "#0d0887"
             ],
             [
              0.1111111111111111,
              "#46039f"
             ],
             [
              0.2222222222222222,
              "#7201a8"
             ],
             [
              0.3333333333333333,
              "#9c179e"
             ],
             [
              0.4444444444444444,
              "#bd3786"
             ],
             [
              0.5555555555555556,
              "#d8576b"
             ],
             [
              0.6666666666666666,
              "#ed7953"
             ],
             [
              0.7777777777777778,
              "#fb9f3a"
             ],
             [
              0.8888888888888888,
              "#fdca26"
             ],
             [
              1,
              "#f0f921"
             ]
            ],
            "type": "surface"
           }
          ],
          "table": [
           {
            "cells": {
             "fill": {
              "color": "#EBF0F8"
             },
             "line": {
              "color": "white"
             }
            },
            "header": {
             "fill": {
              "color": "#C8D4E3"
             },
             "line": {
              "color": "white"
             }
            },
            "type": "table"
           }
          ]
         },
         "layout": {
          "annotationdefaults": {
           "arrowcolor": "#2a3f5f",
           "arrowhead": 0,
           "arrowwidth": 1
          },
          "autotypenumbers": "strict",
          "coloraxis": {
           "colorbar": {
            "outlinewidth": 0,
            "ticks": ""
           }
          },
          "colorscale": {
           "diverging": [
            [
             0,
             "#8e0152"
            ],
            [
             0.1,
             "#c51b7d"
            ],
            [
             0.2,
             "#de77ae"
            ],
            [
             0.3,
             "#f1b6da"
            ],
            [
             0.4,
             "#fde0ef"
            ],
            [
             0.5,
             "#f7f7f7"
            ],
            [
             0.6,
             "#e6f5d0"
            ],
            [
             0.7,
             "#b8e186"
            ],
            [
             0.8,
             "#7fbc41"
            ],
            [
             0.9,
             "#4d9221"
            ],
            [
             1,
             "#276419"
            ]
           ],
           "sequential": [
            [
             0,
             "#0d0887"
            ],
            [
             0.1111111111111111,
             "#46039f"
            ],
            [
             0.2222222222222222,
             "#7201a8"
            ],
            [
             0.3333333333333333,
             "#9c179e"
            ],
            [
             0.4444444444444444,
             "#bd3786"
            ],
            [
             0.5555555555555556,
             "#d8576b"
            ],
            [
             0.6666666666666666,
             "#ed7953"
            ],
            [
             0.7777777777777778,
             "#fb9f3a"
            ],
            [
             0.8888888888888888,
             "#fdca26"
            ],
            [
             1,
             "#f0f921"
            ]
           ],
           "sequentialminus": [
            [
             0,
             "#0d0887"
            ],
            [
             0.1111111111111111,
             "#46039f"
            ],
            [
             0.2222222222222222,
             "#7201a8"
            ],
            [
             0.3333333333333333,
             "#9c179e"
            ],
            [
             0.4444444444444444,
             "#bd3786"
            ],
            [
             0.5555555555555556,
             "#d8576b"
            ],
            [
             0.6666666666666666,
             "#ed7953"
            ],
            [
             0.7777777777777778,
             "#fb9f3a"
            ],
            [
             0.8888888888888888,
             "#fdca26"
            ],
            [
             1,
             "#f0f921"
            ]
           ]
          },
          "colorway": [
           "#636efa",
           "#EF553B",
           "#00cc96",
           "#ab63fa",
           "#FFA15A",
           "#19d3f3",
           "#FF6692",
           "#B6E880",
           "#FF97FF",
           "#FECB52"
          ],
          "font": {
           "color": "#2a3f5f"
          },
          "geo": {
           "bgcolor": "white",
           "lakecolor": "white",
           "landcolor": "#E5ECF6",
           "showlakes": true,
           "showland": true,
           "subunitcolor": "white"
          },
          "hoverlabel": {
           "align": "left"
          },
          "hovermode": "closest",
          "mapbox": {
           "style": "light"
          },
          "paper_bgcolor": "white",
          "plot_bgcolor": "#E5ECF6",
          "polar": {
           "angularaxis": {
            "gridcolor": "white",
            "linecolor": "white",
            "ticks": ""
           },
           "bgcolor": "#E5ECF6",
           "radialaxis": {
            "gridcolor": "white",
            "linecolor": "white",
            "ticks": ""
           }
          },
          "scene": {
           "xaxis": {
            "backgroundcolor": "#E5ECF6",
            "gridcolor": "white",
            "gridwidth": 2,
            "linecolor": "white",
            "showbackground": true,
            "ticks": "",
            "zerolinecolor": "white"
           },
           "yaxis": {
            "backgroundcolor": "#E5ECF6",
            "gridcolor": "white",
            "gridwidth": 2,
            "linecolor": "white",
            "showbackground": true,
            "ticks": "",
            "zerolinecolor": "white"
           },
           "zaxis": {
            "backgroundcolor": "#E5ECF6",
            "gridcolor": "white",
            "gridwidth": 2,
            "linecolor": "white",
            "showbackground": true,
            "ticks": "",
            "zerolinecolor": "white"
           }
          },
          "shapedefaults": {
           "line": {
            "color": "#2a3f5f"
           }
          },
          "ternary": {
           "aaxis": {
            "gridcolor": "white",
            "linecolor": "white",
            "ticks": ""
           },
           "baxis": {
            "gridcolor": "white",
            "linecolor": "white",
            "ticks": ""
           },
           "bgcolor": "#E5ECF6",
           "caxis": {
            "gridcolor": "white",
            "linecolor": "white",
            "ticks": ""
           }
          },
          "title": {
           "x": 0.05
          },
          "xaxis": {
           "automargin": true,
           "gridcolor": "white",
           "linecolor": "white",
           "ticks": "",
           "title": {
            "standoff": 15
           },
           "zerolinecolor": "white",
           "zerolinewidth": 2
          },
          "yaxis": {
           "automargin": true,
           "gridcolor": "white",
           "linecolor": "white",
           "ticks": "",
           "title": {
            "standoff": 15
           },
           "zerolinecolor": "white",
           "zerolinewidth": 2
          }
         }
        },
        "title": {
         "text": "Porpotion of Customers by Loyalty Program"
        }
       }
      },
      "image/png": "[encoded data removed]",
      "text/html": [
       "<div>                            <div id=\"b9d6fbbd-848b-4256-b084-1c947a161d71\" class=\"plotly-graph-div\" style=\"height:525px; width:100%;\"></div>            <script type=\"text/javascript\">                require([\"plotly\"], function(Plotly) {                    window.PLOTLYENV=window.PLOTLYENV || {};                                    if (document.getElementById(\"b9d6fbbd-848b-4256-b084-1c947a161d71\")) {                    Plotly.newPlot(                        \"b9d6fbbd-848b-4256-b084-1c947a161d71\",                        [{\"hole\":0.5,\"labels\":[\"Non-Member\",\"Member\"],\"values\":[1162,587],\"type\":\"pie\"}],                        {\"template\":{\"data\":{\"histogram2dcontour\":[{\"type\":\"histogram2dcontour\",\"colorbar\":{\"outlinewidth\":0,\"ticks\":\"\"},\"colorscale\":[[0.0,\"#0d0887\"],[0.1111111111111111,\"#46039f\"],[0.2222222222222222,\"#7201a8\"],[0.3333333333333333,\"#9c179e\"],[0.4444444444444444,\"#bd3786\"],[0.5555555555555556,\"#d8576b\"],[0.6666666666666666,\"#ed7953\"],[0.7777777777777778,\"#fb9f3a\"],[0.8888888888888888,\"#fdca26\"],[1.0,\"#f0f921\"]]}],\"choropleth\":[{\"type\":\"choropleth\",\"colorbar\":{\"outlinewidth\":0,\"ticks\":\"\"}}],\"histogram2d\":[{\"type\":\"histogram2d\",\"colorbar\":{\"outlinewidth\":0,\"ticks\":\"\"},\"colorscale\":[[0.0,\"#0d0887\"],[0.1111111111111111,\"#46039f\"],[0.2222222222222222,\"#7201a8\"],[0.3333333333333333,\"#9c179e\"],[0.4444444444444444,\"#bd3786\"],[0.5555555555555556,\"#d8576b\"],[0.6666666666666666,\"#ed7953\"],[0.7777777777777778,\"#fb9f3a\"],[0.8888888888888888,\"#fdca26\"],[1.0,\"#f0f921\"]]}],\"heatmap\":[{\"type\":\"heatmap\",\"colorbar\":{\"outlinewidth\":0,\"ticks\":\"\"},\"colorscale\":[[0.0,\"#0d0887\"],[0.1111111111111111,\"#46039f\"],[0.2222222222222222,\"#7201a8\"],[0.3333333333333333,\"#9c179e\"],[0.4444444444444444,\"#bd3786\"],[0.5555555555555556,\"#d8576b\"],[0.6666666666666666,\"#ed7953\"],[0.7777777777777778,\"#fb9f3a\"],[0.8888888888888888,\"#fdca26\"],[1.0,\"#f0f921\"]]}],\"heatmapgl\":[{\"type\":\"heatmapgl\",\"colorbar\":{\"outlinewidth\":0,\"ticks\":\"\"},\"colorscale\":[[0.0,\"#0d0887\"],[0.1111111111111111,\"#46039f\"],[0.2222222222222222,\"#7201a8\"],[0.3333333333333333,\"#9c179e\"],[0.4444444444444444,\"#bd3786\"],[0.5555555555555556,\"#d8576b\"],[0.6666666666666666,\"#ed7953\"],[0.7777777777777778,\"#fb9f3a\"],[0.8888888888888888,\"#fdca26\"],[1.0,\"#f0f921\"]]}],\"contourcarpet\":[{\"type\":\"contourcarpet\",\"colorbar\":{\"outlinewidth\":0,\"ticks\":\"\"}}],\"contour\":[{\"type\":\"contour\",\"colorbar\":{\"outlinewidth\":0,\"ticks\":\"\"},\"colorscale\":[[0.0,\"#0d0887\"],[0.1111111111111111,\"#46039f\"],[0.2222222222222222,\"#7201a8\"],[0.3333333333333333,\"#9c179e\"],[0.4444444444444444,\"#bd3786\"],[0.5555555555555556,\"#d8576b\"],[0.6666666666666666,\"#ed7953\"],[0.7777777777777778,\"#fb9f3a\"],[0.8888888888888888,\"#fdca26\"],[1.0,\"#f0f921\"]]}],\"surface\":[{\"type\":\"surface\",\"colorbar\":{\"outlinewidth\":0,\"ticks\":\"\"},\"colorscale\":[[0.0,\"#0d0887\"],[0.1111111111111111,\"#46039f\"],[0.2222222222222222,\"#7201a8\"],[0.3333333333333333,\"#9c179e\"],[0.4444444444444444,\"#bd3786\"],[0.5555555555555556,\"#d8576b\"],[0.6666666666666666,\"#ed7953\"],[0.7777777777777778,\"#fb9f3a\"],[0.8888888888888888,\"#fdca26\"],[1.0,\"#f0f921\"]]}],\"mesh3d\":[{\"type\":\"mesh3d\",\"colorbar\":{\"outlinewidth\":0,\"ticks\":\"\"}}],\"scatter\":[{\"fillpattern\":{\"fillmode\":\"overlay\",\"size\":10,\"solidity\":0.2},\"type\":\"scatter\"}],\"parcoords\":[{\"type\":\"parcoords\",\"line\":{\"colorbar\":{\"outlinewidth\":0,\"ticks\":\"\"}}}],\"scatterpolargl\":[{\"type\":\"scatterpolargl\",\"marker\":{\"colorbar\":{\"outlinewidth\":0,\"ticks\":\"\"}}}],\"bar\":[{\"error_x\":{\"color\":\"#2a3f5f\"},\"error_y\":{\"color\":\"#2a3f5f\"},\"marker\":{\"line\":{\"color\":\"#E5ECF6\",\"width\":0.5},\"pattern\":{\"fillmode\":\"overlay\",\"size\":10,\"solidity\":0.2}},\"type\":\"bar\"}],\"scattergeo\":[{\"type\":\"scattergeo\",\"marker\":{\"colorbar\":{\"outlinewidth\":0,\"ticks\":\"\"}}}],\"scatterpolar\":[{\"type\":\"scatterpolar\",\"marker\":{\"colorbar\":{\"outlinewidth\":0,\"ticks\":\"\"}}}],\"histogram\":[{\"marker\":{\"pattern\":{\"fillmode\":\"overlay\",\"size\":10,\"solidity\":0.2}},\"type\":\"histogram\"}],\"scattergl\":[{\"type\":\"scattergl\",\"marker\":{\"colorbar\":{\"outlinewidth\":0,\"ticks\":\"\"}}}],\"scatter3d\":[{\"type\":\"scatter3d\",\"line\":{\"colorbar\":{\"outlinewidth\":0,\"ticks\":\"\"}},\"marker\":{\"colorbar\":{\"outlinewidth\":0,\"ticks\":\"\"}}}],\"scattermapbox\":[{\"type\":\"scattermapbox\",\"marker\":{\"colorbar\":{\"outlinewidth\":0,\"ticks\":\"\"}}}],\"scatterternary\":[{\"type\":\"scatterternary\",\"marker\":{\"colorbar\":{\"outlinewidth\":0,\"ticks\":\"\"}}}],\"scattercarpet\":[{\"type\":\"scattercarpet\",\"marker\":{\"colorbar\":{\"outlinewidth\":0,\"ticks\":\"\"}}}],\"carpet\":[{\"aaxis\":{\"endlinecolor\":\"#2a3f5f\",\"gridcolor\":\"white\",\"linecolor\":\"white\",\"minorgridcolor\":\"white\",\"startlinecolor\":\"#2a3f5f\"},\"baxis\":{\"endlinecolor\":\"#2a3f5f\",\"gridcolor\":\"white\",\"linecolor\":\"white\",\"minorgridcolor\":\"white\",\"startlinecolor\":\"#2a3f5f\"},\"type\":\"carpet\"}],\"table\":[{\"cells\":{\"fill\":{\"color\":\"#EBF0F8\"},\"line\":{\"color\":\"white\"}},\"header\":{\"fill\":{\"color\":\"#C8D4E3\"},\"line\":{\"color\":\"white\"}},\"type\":\"table\"}],\"barpolar\":[{\"marker\":{\"line\":{\"color\":\"#E5ECF6\",\"width\":0.5},\"pattern\":{\"fillmode\":\"overlay\",\"size\":10,\"solidity\":0.2}},\"type\":\"barpolar\"}],\"pie\":[{\"automargin\":true,\"type\":\"pie\"}]},\"layout\":{\"autotypenumbers\":\"strict\",\"colorway\":[\"#636efa\",\"#EF553B\",\"#00cc96\",\"#ab63fa\",\"#FFA15A\",\"#19d3f3\",\"#FF6692\",\"#B6E880\",\"#FF97FF\",\"#FECB52\"],\"font\":{\"color\":\"#2a3f5f\"},\"hovermode\":\"closest\",\"hoverlabel\":{\"align\":\"left\"},\"paper_bgcolor\":\"white\",\"plot_bgcolor\":\"#E5ECF6\",\"polar\":{\"bgcolor\":\"#E5ECF6\",\"angularaxis\":{\"gridcolor\":\"white\",\"linecolor\":\"white\",\"ticks\":\"\"},\"radialaxis\":{\"gridcolor\":\"white\",\"linecolor\":\"white\",\"ticks\":\"\"}},\"ternary\":{\"bgcolor\":\"#E5ECF6\",\"aaxis\":{\"gridcolor\":\"white\",\"linecolor\":\"white\",\"ticks\":\"\"},\"baxis\":{\"gridcolor\":\"white\",\"linecolor\":\"white\",\"ticks\":\"\"},\"caxis\":{\"gridcolor\":\"white\",\"linecolor\":\"white\",\"ticks\":\"\"}},\"coloraxis\":{\"colorbar\":{\"outlinewidth\":0,\"ticks\":\"\"}},\"colorscale\":{\"sequential\":[[0.0,\"#0d0887\"],[0.1111111111111111,\"#46039f\"],[0.2222222222222222,\"#7201a8\"],[0.3333333333333333,\"#9c179e\"],[0.4444444444444444,\"#bd3786\"],[0.5555555555555556,\"#d8576b\"],[0.6666666666666666,\"#ed7953\"],[0.7777777777777778,\"#fb9f3a\"],[0.8888888888888888,\"#fdca26\"],[1.0,\"#f0f921\"]],\"sequentialminus\":[[0.0,\"#0d0887\"],[0.1111111111111111,\"#46039f\"],[0.2222222222222222,\"#7201a8\"],[0.3333333333333333,\"#9c179e\"],[0.4444444444444444,\"#bd3786\"],[0.5555555555555556,\"#d8576b\"],[0.6666666666666666,\"#ed7953\"],[0.7777777777777778,\"#fb9f3a\"],[0.8888888888888888,\"#fdca26\"],[1.0,\"#f0f921\"]],\"diverging\":[[0,\"#8e0152\"],[0.1,\"#c51b7d\"],[0.2,\"#de77ae\"],[0.3,\"#f1b6da\"],[0.4,\"#fde0ef\"],[0.5,\"#f7f7f7\"],[0.6,\"#e6f5d0\"],[0.7,\"#b8e186\"],[0.8,\"#7fbc41\"],[0.9,\"#4d9221\"],[1,\"#276419\"]]},\"xaxis\":{\"gridcolor\":\"white\",\"linecolor\":\"white\",\"ticks\":\"\",\"title\":{\"standoff\":15},\"zerolinecolor\":\"white\",\"automargin\":true,\"zerolinewidth\":2},\"yaxis\":{\"gridcolor\":\"white\",\"linecolor\":\"white\",\"ticks\":\"\",\"title\":{\"standoff\":15},\"zerolinecolor\":\"white\",\"automargin\":true,\"zerolinewidth\":2},\"scene\":{\"xaxis\":{\"backgroundcolor\":\"#E5ECF6\",\"gridcolor\":\"white\",\"linecolor\":\"white\",\"showbackground\":true,\"ticks\":\"\",\"zerolinecolor\":\"white\",\"gridwidth\":2},\"yaxis\":{\"backgroundcolor\":\"#E5ECF6\",\"gridcolor\":\"white\",\"linecolor\":\"white\",\"showbackground\":true,\"ticks\":\"\",\"zerolinecolor\":\"white\",\"gridwidth\":2},\"zaxis\":{\"backgroundcolor\":\"#E5ECF6\",\"gridcolor\":\"white\",\"linecolor\":\"white\",\"showbackground\":true,\"ticks\":\"\",\"zerolinecolor\":\"white\",\"gridwidth\":2}},\"shapedefaults\":{\"line\":{\"color\":\"#2a3f5f\"}},\"annotationdefaults\":{\"arrowcolor\":\"#2a3f5f\",\"arrowhead\":0,\"arrowwidth\":1},\"geo\":{\"bgcolor\":\"white\",\"landcolor\":\"#E5ECF6\",\"subunitcolor\":\"white\",\"showland\":true,\"showlakes\":true,\"lakecolor\":\"white\"},\"title\":{\"x\":0.05},\"mapbox\":{\"style\":\"light\"}}},\"title\":{\"text\":\"Porpotion of Customers by Loyalty Program\"},\"legend\":{\"title\":{\"text\":\"Member\"}}},                        {\"responsive\": true}                    ).then(function(){\n",
       "                            \n",
       "var gd = document.getElementById('b9d6fbbd-848b-4256-b084-1c947a161d71');\n",
       "var x = new MutationObserver(function (mutations, observer) {{\n",
       "        var display = window.getComputedStyle(gd).display;\n",
       "        if (!display || display === 'none') {{\n",
       "            console.log([gd, 'removed!']);\n",
       "            Plotly.purge(gd);\n",
       "            observer.disconnect();\n",
       "        }}\n",
       "}});\n",
       "\n",
       "// Listen for the removal of the full notebook cells\n",
       "var notebookContainer = gd.closest('#notebook-container');\n",
       "if (notebookContainer) {{\n",
       "    x.observe(notebookContainer, {childList: true});\n",
       "}}\n",
       "\n",
       "// Listen for the clearing of the current output cell\n",
       "var outputEl = gd.closest('.output');\n",
       "if (outputEl) {{\n",
       "    x.observe(outputEl, {childList: true});\n",
       "}}\n",
       "\n",
       "                        })                };                });            </script>        </div>"
      ]
     },
     "metadata": {},
     "output_type": "display_data"
    }
   ],
   "source": [
    "#plot pie chart \n",
    "labels = ['Non-Member','Member']\n",
    "values = customer_program['customer_id']\n",
    "\n",
    "pie = go.Figure(data=[go.Pie(labels=labels, values=values, hole=0.5)])\n",
    "\n",
    "#layout \n",
    "pie.update_layout(title='Porpotion of Customers by Loyalty Program', legend=dict(title='Member'))\n",
    "\n",
    "pie.show()"
   ]
  },
  {
   "cell_type": "markdown",
   "id": "641a781b-17dd-4a6e-b365-c39d3db85278",
   "metadata": {},
   "source": [
    "dikethaui \n",
    "- jumlah customer id yang merupakan member bisnis sebanyak 587 user unik \n",
    "- jumlah customer id yang tidak member bisnis sebanyak1162 user unik"
   ]
  },
  {
   "cell_type": "code",
   "execution_count": 179,
   "id": "65e788a0-9648-451f-9514-3523f80e2e18",
   "metadata": {
    "scrolled": true
   },
   "outputs": [
    {
     "data": {
      "text/html": [
       "<div>\n",
       "<style scoped>\n",
       "    .dataframe tbody tr th:only-of-type {\n",
       "        vertical-align: middle;\n",
       "    }\n",
       "\n",
       "    .dataframe tbody tr th {\n",
       "        vertical-align: top;\n",
       "    }\n",
       "\n",
       "    .dataframe thead th {\n",
       "        text-align: right;\n",
       "    }\n",
       "</style>\n",
       "<table border=\"1\" class=\"dataframe\">\n",
       "  <thead>\n",
       "    <tr style=\"text-align: right;\">\n",
       "      <th></th>\n",
       "      <th>purchase_id</th>\n",
       "      <th>item_id</th>\n",
       "      <th>quantity</th>\n",
       "      <th>purchase_date</th>\n",
       "      <th>customer_id</th>\n",
       "      <th>loyalty_program</th>\n",
       "      <th>shop_id</th>\n",
       "      <th>purchase_day</th>\n",
       "      <th>purchase_month</th>\n",
       "      <th>purchase_year</th>\n",
       "      <th>price_per_one</th>\n",
       "      <th>total_revenue</th>\n",
       "    </tr>\n",
       "  </thead>\n",
       "  <tbody>\n",
       "    <tr>\n",
       "      <th>1</th>\n",
       "      <td>538862</td>\n",
       "      <td>22195</td>\n",
       "      <td>0</td>\n",
       "      <td>2016-12-14 14:11:00</td>\n",
       "      <td>22389</td>\n",
       "      <td>1</td>\n",
       "      <td>Shop 2</td>\n",
       "      <td>2016-12-14</td>\n",
       "      <td>12</td>\n",
       "      <td>2016</td>\n",
       "      <td>1.65</td>\n",
       "      <td>0.00</td>\n",
       "    </tr>\n",
       "    <tr>\n",
       "      <th>2</th>\n",
       "      <td>538855</td>\n",
       "      <td>21239</td>\n",
       "      <td>7</td>\n",
       "      <td>2016-12-14 13:50:00</td>\n",
       "      <td>22182</td>\n",
       "      <td>1</td>\n",
       "      <td>Shop 3</td>\n",
       "      <td>2016-12-14</td>\n",
       "      <td>12</td>\n",
       "      <td>2016</td>\n",
       "      <td>0.72</td>\n",
       "      <td>5.04</td>\n",
       "    </tr>\n",
       "    <tr>\n",
       "      <th>3</th>\n",
       "      <td>543543</td>\n",
       "      <td>22271</td>\n",
       "      <td>0</td>\n",
       "      <td>2017-02-09 15:33:00</td>\n",
       "      <td>23522</td>\n",
       "      <td>1</td>\n",
       "      <td>Shop 28</td>\n",
       "      <td>2017-02-09</td>\n",
       "      <td>2</td>\n",
       "      <td>2017</td>\n",
       "      <td>2.55</td>\n",
       "      <td>0.00</td>\n",
       "    </tr>\n",
       "    <tr>\n",
       "      <th>4</th>\n",
       "      <td>543812</td>\n",
       "      <td>79321</td>\n",
       "      <td>0</td>\n",
       "      <td>2017-02-13 14:40:00</td>\n",
       "      <td>23151</td>\n",
       "      <td>1</td>\n",
       "      <td>Shop 28</td>\n",
       "      <td>2017-02-13</td>\n",
       "      <td>2</td>\n",
       "      <td>2017</td>\n",
       "      <td>0.00</td>\n",
       "      <td>0.00</td>\n",
       "    </tr>\n",
       "    <tr>\n",
       "      <th>5</th>\n",
       "      <td>538379</td>\n",
       "      <td>22965</td>\n",
       "      <td>0</td>\n",
       "      <td>2016-12-12 11:26:00</td>\n",
       "      <td>22805</td>\n",
       "      <td>1</td>\n",
       "      <td>Shop 20</td>\n",
       "      <td>2016-12-12</td>\n",
       "      <td>12</td>\n",
       "      <td>2016</td>\n",
       "      <td>1.85</td>\n",
       "      <td>0.00</td>\n",
       "    </tr>\n",
       "  </tbody>\n",
       "</table>\n",
       "</div>"
      ],
      "text/plain": [
       "  purchase_id item_id  quantity       purchase_date  customer_id  \\\n",
       "1      538862   22195         0 2016-12-14 14:11:00        22389   \n",
       "2      538855   21239         7 2016-12-14 13:50:00        22182   \n",
       "3      543543   22271         0 2017-02-09 15:33:00        23522   \n",
       "4      543812   79321         0 2017-02-13 14:40:00        23151   \n",
       "5      538379   22965         0 2016-12-12 11:26:00        22805   \n",
       "\n",
       "   loyalty_program  shop_id purchase_day  purchase_month  purchase_year  \\\n",
       "1                1   Shop 2   2016-12-14              12           2016   \n",
       "2                1   Shop 3   2016-12-14              12           2016   \n",
       "3                1  Shop 28   2017-02-09               2           2017   \n",
       "4                1  Shop 28   2017-02-13               2           2017   \n",
       "5                1  Shop 20   2016-12-12              12           2016   \n",
       "\n",
       "   price_per_one  total_revenue  \n",
       "1           1.65           0.00  \n",
       "2           0.72           5.04  \n",
       "3           2.55           0.00  \n",
       "4           0.00           0.00  \n",
       "5           1.85           0.00  "
      ]
     },
     "execution_count": 179,
     "metadata": {},
     "output_type": "execute_result"
    }
   ],
   "source": [
    "member = df_revenue.query('loyalty_program==1')\n",
    "member.head()"
   ]
  },
  {
   "cell_type": "code",
   "execution_count": 180,
   "id": "9cbb6dcd-7ba3-490e-890a-411dab1b1a35",
   "metadata": {},
   "outputs": [
    {
     "data": {
      "text/plain": [
       "(23412, 12)"
      ]
     },
     "execution_count": 180,
     "metadata": {},
     "output_type": "execute_result"
    }
   ],
   "source": [
    "member.shape"
   ]
  },
  {
   "cell_type": "code",
   "execution_count": 181,
   "id": "92583cdc-4f97-4cfe-be15-10805ed81021",
   "metadata": {},
   "outputs": [
    {
     "data": {
      "text/html": [
       "<div>\n",
       "<style scoped>\n",
       "    .dataframe tbody tr th:only-of-type {\n",
       "        vertical-align: middle;\n",
       "    }\n",
       "\n",
       "    .dataframe tbody tr th {\n",
       "        vertical-align: top;\n",
       "    }\n",
       "\n",
       "    .dataframe thead th {\n",
       "        text-align: right;\n",
       "    }\n",
       "</style>\n",
       "<table border=\"1\" class=\"dataframe\">\n",
       "  <thead>\n",
       "    <tr style=\"text-align: right;\">\n",
       "      <th></th>\n",
       "      <th>purchase_id</th>\n",
       "      <th>item_id</th>\n",
       "      <th>quantity</th>\n",
       "      <th>purchase_date</th>\n",
       "      <th>customer_id</th>\n",
       "      <th>loyalty_program</th>\n",
       "      <th>shop_id</th>\n",
       "      <th>purchase_day</th>\n",
       "      <th>purchase_month</th>\n",
       "      <th>purchase_year</th>\n",
       "      <th>price_per_one</th>\n",
       "      <th>total_revenue</th>\n",
       "    </tr>\n",
       "  </thead>\n",
       "  <tbody>\n",
       "    <tr>\n",
       "      <th>0</th>\n",
       "      <td>538280</td>\n",
       "      <td>21873</td>\n",
       "      <td>11</td>\n",
       "      <td>2016-12-10 12:50:00</td>\n",
       "      <td>18427</td>\n",
       "      <td>0</td>\n",
       "      <td>Shop 3</td>\n",
       "      <td>2016-12-10</td>\n",
       "      <td>12</td>\n",
       "      <td>2016</td>\n",
       "      <td>0.42</td>\n",
       "      <td>4.62</td>\n",
       "    </tr>\n",
       "    <tr>\n",
       "      <th>6</th>\n",
       "      <td>540468</td>\n",
       "      <td>22189</td>\n",
       "      <td>0</td>\n",
       "      <td>2017-01-07 13:55:00</td>\n",
       "      <td>18427</td>\n",
       "      <td>0</td>\n",
       "      <td>Shop 0</td>\n",
       "      <td>2017-01-07</td>\n",
       "      <td>1</td>\n",
       "      <td>2017</td>\n",
       "      <td>2.31</td>\n",
       "      <td>0.00</td>\n",
       "    </tr>\n",
       "    <tr>\n",
       "      <th>7</th>\n",
       "      <td>541424</td>\n",
       "      <td>79321</td>\n",
       "      <td>1</td>\n",
       "      <td>2017-01-17 17:57:00</td>\n",
       "      <td>18427</td>\n",
       "      <td>0</td>\n",
       "      <td>Shop 0</td>\n",
       "      <td>2017-01-17</td>\n",
       "      <td>1</td>\n",
       "      <td>2017</td>\n",
       "      <td>0.00</td>\n",
       "      <td>0.00</td>\n",
       "    </tr>\n",
       "    <tr>\n",
       "      <th>8</th>\n",
       "      <td>538883</td>\n",
       "      <td>22891</td>\n",
       "      <td>0</td>\n",
       "      <td>2016-12-14 15:56:00</td>\n",
       "      <td>18427</td>\n",
       "      <td>0</td>\n",
       "      <td>Shop 0</td>\n",
       "      <td>2016-12-14</td>\n",
       "      <td>12</td>\n",
       "      <td>2016</td>\n",
       "      <td>3.75</td>\n",
       "      <td>0.00</td>\n",
       "    </tr>\n",
       "    <tr>\n",
       "      <th>11</th>\n",
       "      <td>541696</td>\n",
       "      <td>22197</td>\n",
       "      <td>4</td>\n",
       "      <td>2017-01-20 18:08:00</td>\n",
       "      <td>18427</td>\n",
       "      <td>0</td>\n",
       "      <td>Shop 0</td>\n",
       "      <td>2017-01-20</td>\n",
       "      <td>1</td>\n",
       "      <td>2017</td>\n",
       "      <td>0.72</td>\n",
       "      <td>2.88</td>\n",
       "    </tr>\n",
       "  </tbody>\n",
       "</table>\n",
       "</div>"
      ],
      "text/plain": [
       "   purchase_id item_id  quantity       purchase_date  customer_id  \\\n",
       "0       538280   21873        11 2016-12-10 12:50:00        18427   \n",
       "6       540468   22189         0 2017-01-07 13:55:00        18427   \n",
       "7       541424   79321         1 2017-01-17 17:57:00        18427   \n",
       "8       538883   22891         0 2016-12-14 15:56:00        18427   \n",
       "11      541696   22197         4 2017-01-20 18:08:00        18427   \n",
       "\n",
       "    loyalty_program shop_id purchase_day  purchase_month  purchase_year  \\\n",
       "0                 0  Shop 3   2016-12-10              12           2016   \n",
       "6                 0  Shop 0   2017-01-07               1           2017   \n",
       "7                 0  Shop 0   2017-01-17               1           2017   \n",
       "8                 0  Shop 0   2016-12-14              12           2016   \n",
       "11                0  Shop 0   2017-01-20               1           2017   \n",
       "\n",
       "    price_per_one  total_revenue  \n",
       "0            0.42           4.62  \n",
       "6            2.31           0.00  \n",
       "7            0.00           0.00  \n",
       "8            3.75           0.00  \n",
       "11           0.72           2.88  "
      ]
     },
     "execution_count": 181,
     "metadata": {},
     "output_type": "execute_result"
    }
   ],
   "source": [
    "non_member = df_revenue.query('loyalty_program==0')\n",
    "non_member.head()"
   ]
  },
  {
   "cell_type": "code",
   "execution_count": 182,
   "id": "76949405-a9cc-4c13-ac1f-16bff5b2a640",
   "metadata": {},
   "outputs": [
    {
     "data": {
      "text/plain": [
       "(80890, 12)"
      ]
     },
     "execution_count": 182,
     "metadata": {},
     "output_type": "execute_result"
    }
   ],
   "source": [
    "non_member.shape"
   ]
  },
  {
   "cell_type": "markdown",
   "id": "bcc5194d-2895-420d-a878-26ce78e72178",
   "metadata": {},
   "source": [
    "berdasarkan pembagian data berdasarkan loyalty program dapat diketahui bahwa jumlah baris yang non member lebih banyak dibandingkan dengan konsumen yang merupakan member. adapun jumlah baris dari masing masing kategori adalah \n",
    "- member = 23412 \n",
    "- non member = 80890"
   ]
  },
  {
   "cell_type": "code",
   "execution_count": 183,
   "id": "5d76e0f9-db9d-4f72-af51-26607cdf8b3b",
   "metadata": {},
   "outputs": [
    {
     "data": {
      "text/html": [
       "<div>\n",
       "<style scoped>\n",
       "    .dataframe tbody tr th:only-of-type {\n",
       "        vertical-align: middle;\n",
       "    }\n",
       "\n",
       "    .dataframe tbody tr th {\n",
       "        vertical-align: top;\n",
       "    }\n",
       "\n",
       "    .dataframe thead th {\n",
       "        text-align: right;\n",
       "    }\n",
       "</style>\n",
       "<table border=\"1\" class=\"dataframe\">\n",
       "  <thead>\n",
       "    <tr style=\"text-align: right;\">\n",
       "      <th></th>\n",
       "      <th>purchase_month</th>\n",
       "      <th>loyalty_program</th>\n",
       "      <th>total_revenue</th>\n",
       "    </tr>\n",
       "  </thead>\n",
       "  <tbody>\n",
       "    <tr>\n",
       "      <th>0</th>\n",
       "      <td>1</td>\n",
       "      <td>0</td>\n",
       "      <td>259443.16</td>\n",
       "    </tr>\n",
       "    <tr>\n",
       "      <th>1</th>\n",
       "      <td>1</td>\n",
       "      <td>1</td>\n",
       "      <td>62110.30</td>\n",
       "    </tr>\n",
       "    <tr>\n",
       "      <th>2</th>\n",
       "      <td>2</td>\n",
       "      <td>0</td>\n",
       "      <td>200135.32</td>\n",
       "    </tr>\n",
       "    <tr>\n",
       "      <th>3</th>\n",
       "      <td>2</td>\n",
       "      <td>1</td>\n",
       "      <td>92429.57</td>\n",
       "    </tr>\n",
       "    <tr>\n",
       "      <th>4</th>\n",
       "      <td>12</td>\n",
       "      <td>0</td>\n",
       "      <td>254341.97</td>\n",
       "    </tr>\n",
       "    <tr>\n",
       "      <th>5</th>\n",
       "      <td>12</td>\n",
       "      <td>1</td>\n",
       "      <td>106985.74</td>\n",
       "    </tr>\n",
       "  </tbody>\n",
       "</table>\n",
       "</div>"
      ],
      "text/plain": [
       "   purchase_month  loyalty_program  total_revenue\n",
       "0               1                0      259443.16\n",
       "1               1                1       62110.30\n",
       "2               2                0      200135.32\n",
       "3               2                1       92429.57\n",
       "4              12                0      254341.97\n",
       "5              12                1      106985.74"
      ]
     },
     "execution_count": 183,
     "metadata": {},
     "output_type": "execute_result"
    }
   ],
   "source": [
    "#cek revenue \n",
    "member_revenue = df_revenue.groupby(['purchase_month','loyalty_program'])['total_revenue'].sum().reset_index()\n",
    "member_revenue"
   ]
  },
  {
   "cell_type": "code",
   "execution_count": 184,
   "id": "ed16bdf6-1cba-48ad-9e0e-f6fdaf83b4a0",
   "metadata": {},
   "outputs": [
    {
     "data": {
      "text/html": [
       "<div>\n",
       "<style scoped>\n",
       "    .dataframe tbody tr th:only-of-type {\n",
       "        vertical-align: middle;\n",
       "    }\n",
       "\n",
       "    .dataframe tbody tr th {\n",
       "        vertical-align: top;\n",
       "    }\n",
       "\n",
       "    .dataframe thead th {\n",
       "        text-align: right;\n",
       "    }\n",
       "</style>\n",
       "<table border=\"1\" class=\"dataframe\">\n",
       "  <thead>\n",
       "    <tr style=\"text-align: right;\">\n",
       "      <th></th>\n",
       "      <th>purchase_month</th>\n",
       "      <th>loyalty_program</th>\n",
       "      <th>total_revenue</th>\n",
       "    </tr>\n",
       "  </thead>\n",
       "  <tbody>\n",
       "    <tr>\n",
       "      <th>0</th>\n",
       "      <td>1</td>\n",
       "      <td>0</td>\n",
       "      <td>259443.16</td>\n",
       "    </tr>\n",
       "    <tr>\n",
       "      <th>1</th>\n",
       "      <td>1</td>\n",
       "      <td>1</td>\n",
       "      <td>62110.30</td>\n",
       "    </tr>\n",
       "    <tr>\n",
       "      <th>2</th>\n",
       "      <td>2</td>\n",
       "      <td>0</td>\n",
       "      <td>200135.32</td>\n",
       "    </tr>\n",
       "    <tr>\n",
       "      <th>3</th>\n",
       "      <td>2</td>\n",
       "      <td>1</td>\n",
       "      <td>92429.57</td>\n",
       "    </tr>\n",
       "    <tr>\n",
       "      <th>4</th>\n",
       "      <td>12</td>\n",
       "      <td>0</td>\n",
       "      <td>254341.97</td>\n",
       "    </tr>\n",
       "    <tr>\n",
       "      <th>5</th>\n",
       "      <td>12</td>\n",
       "      <td>1</td>\n",
       "      <td>106985.74</td>\n",
       "    </tr>\n",
       "  </tbody>\n",
       "</table>\n",
       "</div>"
      ],
      "text/plain": [
       "   purchase_month  loyalty_program  total_revenue\n",
       "0               1                0      259443.16\n",
       "1               1                1       62110.30\n",
       "2               2                0      200135.32\n",
       "3               2                1       92429.57\n",
       "4              12                0      254341.97\n",
       "5              12                1      106985.74"
      ]
     },
     "execution_count": 184,
     "metadata": {},
     "output_type": "execute_result"
    }
   ],
   "source": [
    "non_member_revenue = df_revenue.groupby(['purchase_month','loyalty_program'])['total_revenue'].sum().reset_index()\n",
    "non_member_revenue"
   ]
  },
  {
   "cell_type": "code",
   "execution_count": 185,
   "id": "4cae9dde-1775-43d7-9324-b0530ce176c2",
   "metadata": {},
   "outputs": [
    {
     "data": {
      "text/html": [
       "<div>\n",
       "<style scoped>\n",
       "    .dataframe tbody tr th:only-of-type {\n",
       "        vertical-align: middle;\n",
       "    }\n",
       "\n",
       "    .dataframe tbody tr th {\n",
       "        vertical-align: top;\n",
       "    }\n",
       "\n",
       "    .dataframe thead th {\n",
       "        text-align: right;\n",
       "    }\n",
       "</style>\n",
       "<table border=\"1\" class=\"dataframe\">\n",
       "  <thead>\n",
       "    <tr style=\"text-align: right;\">\n",
       "      <th></th>\n",
       "      <th>purchase_month</th>\n",
       "      <th>loyalty_program</th>\n",
       "      <th>total_revenue</th>\n",
       "    </tr>\n",
       "  </thead>\n",
       "  <tbody>\n",
       "    <tr>\n",
       "      <th>0</th>\n",
       "      <td>1</td>\n",
       "      <td>0</td>\n",
       "      <td>259443.16</td>\n",
       "    </tr>\n",
       "    <tr>\n",
       "      <th>1</th>\n",
       "      <td>1</td>\n",
       "      <td>1</td>\n",
       "      <td>62110.30</td>\n",
       "    </tr>\n",
       "    <tr>\n",
       "      <th>2</th>\n",
       "      <td>2</td>\n",
       "      <td>0</td>\n",
       "      <td>200135.32</td>\n",
       "    </tr>\n",
       "    <tr>\n",
       "      <th>3</th>\n",
       "      <td>2</td>\n",
       "      <td>1</td>\n",
       "      <td>92429.57</td>\n",
       "    </tr>\n",
       "    <tr>\n",
       "      <th>4</th>\n",
       "      <td>12</td>\n",
       "      <td>0</td>\n",
       "      <td>254341.97</td>\n",
       "    </tr>\n",
       "    <tr>\n",
       "      <th>5</th>\n",
       "      <td>12</td>\n",
       "      <td>1</td>\n",
       "      <td>106985.74</td>\n",
       "    </tr>\n",
       "    <tr>\n",
       "      <th>6</th>\n",
       "      <td>1</td>\n",
       "      <td>0</td>\n",
       "      <td>259443.16</td>\n",
       "    </tr>\n",
       "    <tr>\n",
       "      <th>7</th>\n",
       "      <td>1</td>\n",
       "      <td>1</td>\n",
       "      <td>62110.30</td>\n",
       "    </tr>\n",
       "    <tr>\n",
       "      <th>8</th>\n",
       "      <td>2</td>\n",
       "      <td>0</td>\n",
       "      <td>200135.32</td>\n",
       "    </tr>\n",
       "    <tr>\n",
       "      <th>9</th>\n",
       "      <td>2</td>\n",
       "      <td>1</td>\n",
       "      <td>92429.57</td>\n",
       "    </tr>\n",
       "    <tr>\n",
       "      <th>10</th>\n",
       "      <td>12</td>\n",
       "      <td>0</td>\n",
       "      <td>254341.97</td>\n",
       "    </tr>\n",
       "    <tr>\n",
       "      <th>11</th>\n",
       "      <td>12</td>\n",
       "      <td>1</td>\n",
       "      <td>106985.74</td>\n",
       "    </tr>\n",
       "  </tbody>\n",
       "</table>\n",
       "</div>"
      ],
      "text/plain": [
       "    purchase_month  loyalty_program  total_revenue\n",
       "0                1                0      259443.16\n",
       "1                1                1       62110.30\n",
       "2                2                0      200135.32\n",
       "3                2                1       92429.57\n",
       "4               12                0      254341.97\n",
       "5               12                1      106985.74\n",
       "6                1                0      259443.16\n",
       "7                1                1       62110.30\n",
       "8                2                0      200135.32\n",
       "9                2                1       92429.57\n",
       "10              12                0      254341.97\n",
       "11              12                1      106985.74"
      ]
     },
     "execution_count": 185,
     "metadata": {},
     "output_type": "execute_result"
    }
   ],
   "source": [
    "#gabungkan data \n",
    "cust_program_revenue = pd.concat([member_revenue,non_member_revenue], ignore_index=True)\n",
    "cust_program_revenue"
   ]
  },
  {
   "cell_type": "code",
   "execution_count": 186,
   "id": "0e956530-31c1-49c5-86a0-7082ace13eec",
   "metadata": {},
   "outputs": [],
   "source": [
    "cust_program_revenue['loyalty_program']= cust_program_revenue['loyalty_program'].map({1:'Member' , 0:'Non-Member'})"
   ]
  },
  {
   "cell_type": "code",
   "execution_count": 187,
   "id": "3e1458f2-bf64-496a-8fb1-91c4b99567a8",
   "metadata": {},
   "outputs": [
    {
     "data": {
      "text/html": [
       "<div>\n",
       "<style scoped>\n",
       "    .dataframe tbody tr th:only-of-type {\n",
       "        vertical-align: middle;\n",
       "    }\n",
       "\n",
       "    .dataframe tbody tr th {\n",
       "        vertical-align: top;\n",
       "    }\n",
       "\n",
       "    .dataframe thead th {\n",
       "        text-align: right;\n",
       "    }\n",
       "</style>\n",
       "<table border=\"1\" class=\"dataframe\">\n",
       "  <thead>\n",
       "    <tr style=\"text-align: right;\">\n",
       "      <th></th>\n",
       "      <th>purchase_month</th>\n",
       "      <th>loyalty_program</th>\n",
       "      <th>total_revenue</th>\n",
       "    </tr>\n",
       "  </thead>\n",
       "  <tbody>\n",
       "    <tr>\n",
       "      <th>0</th>\n",
       "      <td>1</td>\n",
       "      <td>Non-Member</td>\n",
       "      <td>259443.16</td>\n",
       "    </tr>\n",
       "    <tr>\n",
       "      <th>1</th>\n",
       "      <td>1</td>\n",
       "      <td>Member</td>\n",
       "      <td>62110.30</td>\n",
       "    </tr>\n",
       "    <tr>\n",
       "      <th>2</th>\n",
       "      <td>2</td>\n",
       "      <td>Non-Member</td>\n",
       "      <td>200135.32</td>\n",
       "    </tr>\n",
       "    <tr>\n",
       "      <th>3</th>\n",
       "      <td>2</td>\n",
       "      <td>Member</td>\n",
       "      <td>92429.57</td>\n",
       "    </tr>\n",
       "    <tr>\n",
       "      <th>4</th>\n",
       "      <td>12</td>\n",
       "      <td>Non-Member</td>\n",
       "      <td>254341.97</td>\n",
       "    </tr>\n",
       "    <tr>\n",
       "      <th>5</th>\n",
       "      <td>12</td>\n",
       "      <td>Member</td>\n",
       "      <td>106985.74</td>\n",
       "    </tr>\n",
       "    <tr>\n",
       "      <th>6</th>\n",
       "      <td>1</td>\n",
       "      <td>Non-Member</td>\n",
       "      <td>259443.16</td>\n",
       "    </tr>\n",
       "    <tr>\n",
       "      <th>7</th>\n",
       "      <td>1</td>\n",
       "      <td>Member</td>\n",
       "      <td>62110.30</td>\n",
       "    </tr>\n",
       "    <tr>\n",
       "      <th>8</th>\n",
       "      <td>2</td>\n",
       "      <td>Non-Member</td>\n",
       "      <td>200135.32</td>\n",
       "    </tr>\n",
       "    <tr>\n",
       "      <th>9</th>\n",
       "      <td>2</td>\n",
       "      <td>Member</td>\n",
       "      <td>92429.57</td>\n",
       "    </tr>\n",
       "    <tr>\n",
       "      <th>10</th>\n",
       "      <td>12</td>\n",
       "      <td>Non-Member</td>\n",
       "      <td>254341.97</td>\n",
       "    </tr>\n",
       "    <tr>\n",
       "      <th>11</th>\n",
       "      <td>12</td>\n",
       "      <td>Member</td>\n",
       "      <td>106985.74</td>\n",
       "    </tr>\n",
       "  </tbody>\n",
       "</table>\n",
       "</div>"
      ],
      "text/plain": [
       "    purchase_month loyalty_program  total_revenue\n",
       "0                1      Non-Member      259443.16\n",
       "1                1          Member       62110.30\n",
       "2                2      Non-Member      200135.32\n",
       "3                2          Member       92429.57\n",
       "4               12      Non-Member      254341.97\n",
       "5               12          Member      106985.74\n",
       "6                1      Non-Member      259443.16\n",
       "7                1          Member       62110.30\n",
       "8                2      Non-Member      200135.32\n",
       "9                2          Member       92429.57\n",
       "10              12      Non-Member      254341.97\n",
       "11              12          Member      106985.74"
      ]
     },
     "execution_count": 187,
     "metadata": {},
     "output_type": "execute_result"
    }
   ],
   "source": [
    "cust_program_revenue"
   ]
  },
  {
   "cell_type": "code",
   "execution_count": 188,
   "id": "8bfdb277-1591-4057-80f4-d57e11f95a21",
   "metadata": {},
   "outputs": [
    {
     "data": {
      "application/vnd.plotly.v1+json": {
       "config": {
        "plotlyServerURL": "https://plot.ly"
       },
       "data": [
        {
         "alignmentgroup": "True",
         "hovertemplate": "loyalty_program=Non-Member<br>Month=%{x}<br>Total Revenue=%{y}<extra></extra>",
         "legendgroup": "Non-Member",
         "marker": {
          "color": "#636efa",
          "pattern": {
           "shape": ""
          }
         },
         "name": "Non-Member",
         "offsetgroup": "Non-Member",
         "orientation": "v",
         "showlegend": true,
         "textposition": "auto",
         "type": "bar",
         "x": [
          1,
          2,
          12,
          1,
          2,
          12
         ],
         "xaxis": "x",
         "y": [
          259443.16,
          200135.32,
          254341.97,
          259443.16,
          200135.32,
          254341.97
         ],
         "yaxis": "y"
        },
        {
         "alignmentgroup": "True",
         "hovertemplate": "loyalty_program=Member<br>Month=%{x}<br>Total Revenue=%{y}<extra></extra>",
         "legendgroup": "Member",
         "marker": {
          "color": "#EF553B",
          "pattern": {
           "shape": ""
          }
         },
         "name": "Member",
         "offsetgroup": "Member",
         "orientation": "v",
         "showlegend": true,
         "textposition": "auto",
         "type": "bar",
         "x": [
          1,
          2,
          12,
          1,
          2,
          12
         ],
         "xaxis": "x",
         "y": [
          62110.3,
          92429.56999999999,
          106985.74,
          62110.3,
          92429.56999999999,
          106985.74
         ],
         "yaxis": "y"
        }
       ],
       "layout": {
        "autosize": true,
        "barmode": "group",
        "legend": {
         "title": {
          "text": "loyalty_program"
         },
         "tracegroupgap": 0
        },
        "template": {
         "data": {
          "bar": [
           {
            "error_x": {
             "color": "#2a3f5f"
            },
            "error_y": {
             "color": "#2a3f5f"
            },
            "marker": {
             "line": {
              "color": "#E5ECF6",
              "width": 0.5
             },
             "pattern": {
              "fillmode": "overlay",
              "size": 10,
              "solidity": 0.2
             }
            },
            "type": "bar"
           }
          ],
          "barpolar": [
           {
            "marker": {
             "line": {
              "color": "#E5ECF6",
              "width": 0.5
             },
             "pattern": {
              "fillmode": "overlay",
              "size": 10,
              "solidity": 0.2
             }
            },
            "type": "barpolar"
           }
          ],
          "carpet": [
           {
            "aaxis": {
             "endlinecolor": "#2a3f5f",
             "gridcolor": "white",
             "linecolor": "white",
             "minorgridcolor": "white",
             "startlinecolor": "#2a3f5f"
            },
            "baxis": {
             "endlinecolor": "#2a3f5f",
             "gridcolor": "white",
             "linecolor": "white",
             "minorgridcolor": "white",
             "startlinecolor": "#2a3f5f"
            },
            "type": "carpet"
           }
          ],
          "choropleth": [
           {
            "colorbar": {
             "outlinewidth": 0,
             "ticks": ""
            },
            "type": "choropleth"
           }
          ],
          "contour": [
           {
            "colorbar": {
             "outlinewidth": 0,
             "ticks": ""
            },
            "colorscale": [
             [
              0,
              "#0d0887"
             ],
             [
              0.1111111111111111,
              "#46039f"
             ],
             [
              0.2222222222222222,
              "#7201a8"
             ],
             [
              0.3333333333333333,
              "#9c179e"
             ],
             [
              0.4444444444444444,
              "#bd3786"
             ],
             [
              0.5555555555555556,
              "#d8576b"
             ],
             [
              0.6666666666666666,
              "#ed7953"
             ],
             [
              0.7777777777777778,
              "#fb9f3a"
             ],
             [
              0.8888888888888888,
              "#fdca26"
             ],
             [
              1,
              "#f0f921"
             ]
            ],
            "type": "contour"
           }
          ],
          "contourcarpet": [
           {
            "colorbar": {
             "outlinewidth": 0,
             "ticks": ""
            },
            "type": "contourcarpet"
           }
          ],
          "heatmap": [
           {
            "colorbar": {
             "outlinewidth": 0,
             "ticks": ""
            },
            "colorscale": [
             [
              0,
              "#0d0887"
             ],
             [
              0.1111111111111111,
              "#46039f"
             ],
             [
              0.2222222222222222,
              "#7201a8"
             ],
             [
              0.3333333333333333,
              "#9c179e"
             ],
             [
              0.4444444444444444,
              "#bd3786"
             ],
             [
              0.5555555555555556,
              "#d8576b"
             ],
             [
              0.6666666666666666,
              "#ed7953"
             ],
             [
              0.7777777777777778,
              "#fb9f3a"
             ],
             [
              0.8888888888888888,
              "#fdca26"
             ],
             [
              1,
              "#f0f921"
             ]
            ],
            "type": "heatmap"
           }
          ],
          "heatmapgl": [
           {
            "colorbar": {
             "outlinewidth": 0,
             "ticks": ""
            },
            "colorscale": [
             [
              0,
              "#0d0887"
             ],
             [
              0.1111111111111111,
              "#46039f"
             ],
             [
              0.2222222222222222,
              "#7201a8"
             ],
             [
              0.3333333333333333,
              "#9c179e"
             ],
             [
              0.4444444444444444,
              "#bd3786"
             ],
             [
              0.5555555555555556,
              "#d8576b"
             ],
             [
              0.6666666666666666,
              "#ed7953"
             ],
             [
              0.7777777777777778,
              "#fb9f3a"
             ],
             [
              0.8888888888888888,
              "#fdca26"
             ],
             [
              1,
              "#f0f921"
             ]
            ],
            "type": "heatmapgl"
           }
          ],
          "histogram": [
           {
            "marker": {
             "pattern": {
              "fillmode": "overlay",
              "size": 10,
              "solidity": 0.2
             }
            },
            "type": "histogram"
           }
          ],
          "histogram2d": [
           {
            "colorbar": {
             "outlinewidth": 0,
             "ticks": ""
            },
            "colorscale": [
             [
              0,
              "#0d0887"
             ],
             [
              0.1111111111111111,
              "#46039f"
             ],
             [
              0.2222222222222222,
              "#7201a8"
             ],
             [
              0.3333333333333333,
              "#9c179e"
             ],
             [
              0.4444444444444444,
              "#bd3786"
             ],
             [
              0.5555555555555556,
              "#d8576b"
             ],
             [
              0.6666666666666666,
              "#ed7953"
             ],
             [
              0.7777777777777778,
              "#fb9f3a"
             ],
             [
              0.8888888888888888,
              "#fdca26"
             ],
             [
              1,
              "#f0f921"
             ]
            ],
            "type": "histogram2d"
           }
          ],
          "histogram2dcontour": [
           {
            "colorbar": {
             "outlinewidth": 0,
             "ticks": ""
            },
            "colorscale": [
             [
              0,
              "#0d0887"
             ],
             [
              0.1111111111111111,
              "#46039f"
             ],
             [
              0.2222222222222222,
              "#7201a8"
             ],
             [
              0.3333333333333333,
              "#9c179e"
             ],
             [
              0.4444444444444444,
              "#bd3786"
             ],
             [
              0.5555555555555556,
              "#d8576b"
             ],
             [
              0.6666666666666666,
              "#ed7953"
             ],
             [
              0.7777777777777778,
              "#fb9f3a"
             ],
             [
              0.8888888888888888,
              "#fdca26"
             ],
             [
              1,
              "#f0f921"
             ]
            ],
            "type": "histogram2dcontour"
           }
          ],
          "mesh3d": [
           {
            "colorbar": {
             "outlinewidth": 0,
             "ticks": ""
            },
            "type": "mesh3d"
           }
          ],
          "parcoords": [
           {
            "line": {
             "colorbar": {
              "outlinewidth": 0,
              "ticks": ""
             }
            },
            "type": "parcoords"
           }
          ],
          "pie": [
           {
            "automargin": true,
            "type": "pie"
           }
          ],
          "scatter": [
           {
            "fillpattern": {
             "fillmode": "overlay",
             "size": 10,
             "solidity": 0.2
            },
            "type": "scatter"
           }
          ],
          "scatter3d": [
           {
            "line": {
             "colorbar": {
              "outlinewidth": 0,
              "ticks": ""
             }
            },
            "marker": {
             "colorbar": {
              "outlinewidth": 0,
              "ticks": ""
             }
            },
            "type": "scatter3d"
           }
          ],
          "scattercarpet": [
           {
            "marker": {
             "colorbar": {
              "outlinewidth": 0,
              "ticks": ""
             }
            },
            "type": "scattercarpet"
           }
          ],
          "scattergeo": [
           {
            "marker": {
             "colorbar": {
              "outlinewidth": 0,
              "ticks": ""
             }
            },
            "type": "scattergeo"
           }
          ],
          "scattergl": [
           {
            "marker": {
             "colorbar": {
              "outlinewidth": 0,
              "ticks": ""
             }
            },
            "type": "scattergl"
           }
          ],
          "scattermapbox": [
           {
            "marker": {
             "colorbar": {
              "outlinewidth": 0,
              "ticks": ""
             }
            },
            "type": "scattermapbox"
           }
          ],
          "scatterpolar": [
           {
            "marker": {
             "colorbar": {
              "outlinewidth": 0,
              "ticks": ""
             }
            },
            "type": "scatterpolar"
           }
          ],
          "scatterpolargl": [
           {
            "marker": {
             "colorbar": {
              "outlinewidth": 0,
              "ticks": ""
             }
            },
            "type": "scatterpolargl"
           }
          ],
          "scatterternary": [
           {
            "marker": {
             "colorbar": {
              "outlinewidth": 0,
              "ticks": ""
             }
            },
            "type": "scatterternary"
           }
          ],
          "surface": [
           {
            "colorbar": {
             "outlinewidth": 0,
             "ticks": ""
            },
            "colorscale": [
             [
              0,
              "#0d0887"
             ],
             [
              0.1111111111111111,
              "#46039f"
             ],
             [
              0.2222222222222222,
              "#7201a8"
             ],
             [
              0.3333333333333333,
              "#9c179e"
             ],
             [
              0.4444444444444444,
              "#bd3786"
             ],
             [
              0.5555555555555556,
              "#d8576b"
             ],
             [
              0.6666666666666666,
              "#ed7953"
             ],
             [
              0.7777777777777778,
              "#fb9f3a"
             ],
             [
              0.8888888888888888,
              "#fdca26"
             ],
             [
              1,
              "#f0f921"
             ]
            ],
            "type": "surface"
           }
          ],
          "table": [
           {
            "cells": {
             "fill": {
              "color": "#EBF0F8"
             },
             "line": {
              "color": "white"
             }
            },
            "header": {
             "fill": {
              "color": "#C8D4E3"
             },
             "line": {
              "color": "white"
             }
            },
            "type": "table"
           }
          ]
         },
         "layout": {
          "annotationdefaults": {
           "arrowcolor": "#2a3f5f",
           "arrowhead": 0,
           "arrowwidth": 1
          },
          "autotypenumbers": "strict",
          "coloraxis": {
           "colorbar": {
            "outlinewidth": 0,
            "ticks": ""
           }
          },
          "colorscale": {
           "diverging": [
            [
             0,
             "#8e0152"
            ],
            [
             0.1,
             "#c51b7d"
            ],
            [
             0.2,
             "#de77ae"
            ],
            [
             0.3,
             "#f1b6da"
            ],
            [
             0.4,
             "#fde0ef"
            ],
            [
             0.5,
             "#f7f7f7"
            ],
            [
             0.6,
             "#e6f5d0"
            ],
            [
             0.7,
             "#b8e186"
            ],
            [
             0.8,
             "#7fbc41"
            ],
            [
             0.9,
             "#4d9221"
            ],
            [
             1,
             "#276419"
            ]
           ],
           "sequential": [
            [
             0,
             "#0d0887"
            ],
            [
             0.1111111111111111,
             "#46039f"
            ],
            [
             0.2222222222222222,
             "#7201a8"
            ],
            [
             0.3333333333333333,
             "#9c179e"
            ],
            [
             0.4444444444444444,
             "#bd3786"
            ],
            [
             0.5555555555555556,
             "#d8576b"
            ],
            [
             0.6666666666666666,
             "#ed7953"
            ],
            [
             0.7777777777777778,
             "#fb9f3a"
            ],
            [
             0.8888888888888888,
             "#fdca26"
            ],
            [
             1,
             "#f0f921"
            ]
           ],
           "sequentialminus": [
            [
             0,
             "#0d0887"
            ],
            [
             0.1111111111111111,
             "#46039f"
            ],
            [
             0.2222222222222222,
             "#7201a8"
            ],
            [
             0.3333333333333333,
             "#9c179e"
            ],
            [
             0.4444444444444444,
             "#bd3786"
            ],
            [
             0.5555555555555556,
             "#d8576b"
            ],
            [
             0.6666666666666666,
             "#ed7953"
            ],
            [
             0.7777777777777778,
             "#fb9f3a"
            ],
            [
             0.8888888888888888,
             "#fdca26"
            ],
            [
             1,
             "#f0f921"
            ]
           ]
          },
          "colorway": [
           "#636efa",
           "#EF553B",
           "#00cc96",
           "#ab63fa",
           "#FFA15A",
           "#19d3f3",
           "#FF6692",
           "#B6E880",
           "#FF97FF",
           "#FECB52"
          ],
          "font": {
           "color": "#2a3f5f"
          },
          "geo": {
           "bgcolor": "white",
           "lakecolor": "white",
           "landcolor": "#E5ECF6",
           "showlakes": true,
           "showland": true,
           "subunitcolor": "white"
          },
          "hoverlabel": {
           "align": "left"
          },
          "hovermode": "closest",
          "mapbox": {
           "style": "light"
          },
          "paper_bgcolor": "white",
          "plot_bgcolor": "#E5ECF6",
          "polar": {
           "angularaxis": {
            "gridcolor": "white",
            "linecolor": "white",
            "ticks": ""
           },
           "bgcolor": "#E5ECF6",
           "radialaxis": {
            "gridcolor": "white",
            "linecolor": "white",
            "ticks": ""
           }
          },
          "scene": {
           "xaxis": {
            "backgroundcolor": "#E5ECF6",
            "gridcolor": "white",
            "gridwidth": 2,
            "linecolor": "white",
            "showbackground": true,
            "ticks": "",
            "zerolinecolor": "white"
           },
           "yaxis": {
            "backgroundcolor": "#E5ECF6",
            "gridcolor": "white",
            "gridwidth": 2,
            "linecolor": "white",
            "showbackground": true,
            "ticks": "",
            "zerolinecolor": "white"
           },
           "zaxis": {
            "backgroundcolor": "#E5ECF6",
            "gridcolor": "white",
            "gridwidth": 2,
            "linecolor": "white",
            "showbackground": true,
            "ticks": "",
            "zerolinecolor": "white"
           }
          },
          "shapedefaults": {
           "line": {
            "color": "#2a3f5f"
           }
          },
          "ternary": {
           "aaxis": {
            "gridcolor": "white",
            "linecolor": "white",
            "ticks": ""
           },
           "baxis": {
            "gridcolor": "white",
            "linecolor": "white",
            "ticks": ""
           },
           "bgcolor": "#E5ECF6",
           "caxis": {
            "gridcolor": "white",
            "linecolor": "white",
            "ticks": ""
           }
          },
          "title": {
           "x": 0.05
          },
          "xaxis": {
           "automargin": true,
           "gridcolor": "white",
           "linecolor": "white",
           "ticks": "",
           "title": {
            "standoff": 15
           },
           "zerolinecolor": "white",
           "zerolinewidth": 2
          },
          "yaxis": {
           "automargin": true,
           "gridcolor": "white",
           "linecolor": "white",
           "ticks": "",
           "title": {
            "standoff": 15
           },
           "zerolinecolor": "white",
           "zerolinewidth": 2
          }
         }
        },
        "title": {
         "text": "Comparison of Total Revenue Member vs Non-Member by Month"
        },
        "xaxis": {
         "anchor": "y",
         "autorange": true,
         "domain": [
          0,
          1
         ],
         "range": [
          -0.5,
          2.5
         ],
         "title": {
          "text": "Month"
         },
         "type": "category"
        },
        "yaxis": {
         "anchor": "x",
         "autorange": true,
         "domain": [
          0,
          1
         ],
         "range": [
          0,
          546196.1263157895
         ],
         "title": {
          "text": "Total Revenue"
         },
         "type": "linear"
        }
       }
      },
      "image/png": "[encoded data removed]",
      "text/html": [
       "<div>                            <div id=\"1aefe04c-fdde-41ec-8c36-6de0c536b7d6\" class=\"plotly-graph-div\" style=\"height:525px; width:100%;\"></div>            <script type=\"text/javascript\">                require([\"plotly\"], function(Plotly) {                    window.PLOTLYENV=window.PLOTLYENV || {};                                    if (document.getElementById(\"1aefe04c-fdde-41ec-8c36-6de0c536b7d6\")) {                    Plotly.newPlot(                        \"1aefe04c-fdde-41ec-8c36-6de0c536b7d6\",                        [{\"alignmentgroup\":\"True\",\"hovertemplate\":\"loyalty_program=Non-Member<br>Month=%{x}<br>Total Revenue=%{y}<extra></extra>\",\"legendgroup\":\"Non-Member\",\"marker\":{\"color\":\"#636efa\",\"pattern\":{\"shape\":\"\"}},\"name\":\"Non-Member\",\"offsetgroup\":\"Non-Member\",\"orientation\":\"v\",\"showlegend\":true,\"textposition\":\"auto\",\"x\":[1,2,12,1,2,12],\"xaxis\":\"x\",\"y\":[259443.16,200135.32,254341.97,259443.16,200135.32,254341.97],\"yaxis\":\"y\",\"type\":\"bar\"},{\"alignmentgroup\":\"True\",\"hovertemplate\":\"loyalty_program=Member<br>Month=%{x}<br>Total Revenue=%{y}<extra></extra>\",\"legendgroup\":\"Member\",\"marker\":{\"color\":\"#EF553B\",\"pattern\":{\"shape\":\"\"}},\"name\":\"Member\",\"offsetgroup\":\"Member\",\"orientation\":\"v\",\"showlegend\":true,\"textposition\":\"auto\",\"x\":[1,2,12,1,2,12],\"xaxis\":\"x\",\"y\":[62110.3,92429.56999999999,106985.74,62110.3,92429.56999999999,106985.74],\"yaxis\":\"y\",\"type\":\"bar\"}],                        {\"template\":{\"data\":{\"histogram2dcontour\":[{\"type\":\"histogram2dcontour\",\"colorbar\":{\"outlinewidth\":0,\"ticks\":\"\"},\"colorscale\":[[0.0,\"#0d0887\"],[0.1111111111111111,\"#46039f\"],[0.2222222222222222,\"#7201a8\"],[0.3333333333333333,\"#9c179e\"],[0.4444444444444444,\"#bd3786\"],[0.5555555555555556,\"#d8576b\"],[0.6666666666666666,\"#ed7953\"],[0.7777777777777778,\"#fb9f3a\"],[0.8888888888888888,\"#fdca26\"],[1.0,\"#f0f921\"]]}],\"choropleth\":[{\"type\":\"choropleth\",\"colorbar\":{\"outlinewidth\":0,\"ticks\":\"\"}}],\"histogram2d\":[{\"type\":\"histogram2d\",\"colorbar\":{\"outlinewidth\":0,\"ticks\":\"\"},\"colorscale\":[[0.0,\"#0d0887\"],[0.1111111111111111,\"#46039f\"],[0.2222222222222222,\"#7201a8\"],[0.3333333333333333,\"#9c179e\"],[0.4444444444444444,\"#bd3786\"],[0.5555555555555556,\"#d8576b\"],[0.6666666666666666,\"#ed7953\"],[0.7777777777777778,\"#fb9f3a\"],[0.8888888888888888,\"#fdca26\"],[1.0,\"#f0f921\"]]}],\"heatmap\":[{\"type\":\"heatmap\",\"colorbar\":{\"outlinewidth\":0,\"ticks\":\"\"},\"colorscale\":[[0.0,\"#0d0887\"],[0.1111111111111111,\"#46039f\"],[0.2222222222222222,\"#7201a8\"],[0.3333333333333333,\"#9c179e\"],[0.4444444444444444,\"#bd3786\"],[0.5555555555555556,\"#d8576b\"],[0.6666666666666666,\"#ed7953\"],[0.7777777777777778,\"#fb9f3a\"],[0.8888888888888888,\"#fdca26\"],[1.0,\"#f0f921\"]]}],\"heatmapgl\":[{\"type\":\"heatmapgl\",\"colorbar\":{\"outlinewidth\":0,\"ticks\":\"\"},\"colorscale\":[[0.0,\"#0d0887\"],[0.1111111111111111,\"#46039f\"],[0.2222222222222222,\"#7201a8\"],[0.3333333333333333,\"#9c179e\"],[0.4444444444444444,\"#bd3786\"],[0.5555555555555556,\"#d8576b\"],[0.6666666666666666,\"#ed7953\"],[0.7777777777777778,\"#fb9f3a\"],[0.8888888888888888,\"#fdca26\"],[1.0,\"#f0f921\"]]}],\"contourcarpet\":[{\"type\":\"contourcarpet\",\"colorbar\":{\"outlinewidth\":0,\"ticks\":\"\"}}],\"contour\":[{\"type\":\"contour\",\"colorbar\":{\"outlinewidth\":0,\"ticks\":\"\"},\"colorscale\":[[0.0,\"#0d0887\"],[0.1111111111111111,\"#46039f\"],[0.2222222222222222,\"#7201a8\"],[0.3333333333333333,\"#9c179e\"],[0.4444444444444444,\"#bd3786\"],[0.5555555555555556,\"#d8576b\"],[0.6666666666666666,\"#ed7953\"],[0.7777777777777778,\"#fb9f3a\"],[0.8888888888888888,\"#fdca26\"],[1.0,\"#f0f921\"]]}],\"surface\":[{\"type\":\"surface\",\"colorbar\":{\"outlinewidth\":0,\"ticks\":\"\"},\"colorscale\":[[0.0,\"#0d0887\"],[0.1111111111111111,\"#46039f\"],[0.2222222222222222,\"#7201a8\"],[0.3333333333333333,\"#9c179e\"],[0.4444444444444444,\"#bd3786\"],[0.5555555555555556,\"#d8576b\"],[0.6666666666666666,\"#ed7953\"],[0.7777777777777778,\"#fb9f3a\"],[0.8888888888888888,\"#fdca26\"],[1.0,\"#f0f921\"]]}],\"mesh3d\":[{\"type\":\"mesh3d\",\"colorbar\":{\"outlinewidth\":0,\"ticks\":\"\"}}],\"scatter\":[{\"fillpattern\":{\"fillmode\":\"overlay\",\"size\":10,\"solidity\":0.2},\"type\":\"scatter\"}],\"parcoords\":[{\"type\":\"parcoords\",\"line\":{\"colorbar\":{\"outlinewidth\":0,\"ticks\":\"\"}}}],\"scatterpolargl\":[{\"type\":\"scatterpolargl\",\"marker\":{\"colorbar\":{\"outlinewidth\":0,\"ticks\":\"\"}}}],\"bar\":[{\"error_x\":{\"color\":\"#2a3f5f\"},\"error_y\":{\"color\":\"#2a3f5f\"},\"marker\":{\"line\":{\"color\":\"#E5ECF6\",\"width\":0.5},\"pattern\":{\"fillmode\":\"overlay\",\"size\":10,\"solidity\":0.2}},\"type\":\"bar\"}],\"scattergeo\":[{\"type\":\"scattergeo\",\"marker\":{\"colorbar\":{\"outlinewidth\":0,\"ticks\":\"\"}}}],\"scatterpolar\":[{\"type\":\"scatterpolar\",\"marker\":{\"colorbar\":{\"outlinewidth\":0,\"ticks\":\"\"}}}],\"histogram\":[{\"marker\":{\"pattern\":{\"fillmode\":\"overlay\",\"size\":10,\"solidity\":0.2}},\"type\":\"histogram\"}],\"scattergl\":[{\"type\":\"scattergl\",\"marker\":{\"colorbar\":{\"outlinewidth\":0,\"ticks\":\"\"}}}],\"scatter3d\":[{\"type\":\"scatter3d\",\"line\":{\"colorbar\":{\"outlinewidth\":0,\"ticks\":\"\"}},\"marker\":{\"colorbar\":{\"outlinewidth\":0,\"ticks\":\"\"}}}],\"scattermapbox\":[{\"type\":\"scattermapbox\",\"marker\":{\"colorbar\":{\"outlinewidth\":0,\"ticks\":\"\"}}}],\"scatterternary\":[{\"type\":\"scatterternary\",\"marker\":{\"colorbar\":{\"outlinewidth\":0,\"ticks\":\"\"}}}],\"scattercarpet\":[{\"type\":\"scattercarpet\",\"marker\":{\"colorbar\":{\"outlinewidth\":0,\"ticks\":\"\"}}}],\"carpet\":[{\"aaxis\":{\"endlinecolor\":\"#2a3f5f\",\"gridcolor\":\"white\",\"linecolor\":\"white\",\"minorgridcolor\":\"white\",\"startlinecolor\":\"#2a3f5f\"},\"baxis\":{\"endlinecolor\":\"#2a3f5f\",\"gridcolor\":\"white\",\"linecolor\":\"white\",\"minorgridcolor\":\"white\",\"startlinecolor\":\"#2a3f5f\"},\"type\":\"carpet\"}],\"table\":[{\"cells\":{\"fill\":{\"color\":\"#EBF0F8\"},\"line\":{\"color\":\"white\"}},\"header\":{\"fill\":{\"color\":\"#C8D4E3\"},\"line\":{\"color\":\"white\"}},\"type\":\"table\"}],\"barpolar\":[{\"marker\":{\"line\":{\"color\":\"#E5ECF6\",\"width\":0.5},\"pattern\":{\"fillmode\":\"overlay\",\"size\":10,\"solidity\":0.2}},\"type\":\"barpolar\"}],\"pie\":[{\"automargin\":true,\"type\":\"pie\"}]},\"layout\":{\"autotypenumbers\":\"strict\",\"colorway\":[\"#636efa\",\"#EF553B\",\"#00cc96\",\"#ab63fa\",\"#FFA15A\",\"#19d3f3\",\"#FF6692\",\"#B6E880\",\"#FF97FF\",\"#FECB52\"],\"font\":{\"color\":\"#2a3f5f\"},\"hovermode\":\"closest\",\"hoverlabel\":{\"align\":\"left\"},\"paper_bgcolor\":\"white\",\"plot_bgcolor\":\"#E5ECF6\",\"polar\":{\"bgcolor\":\"#E5ECF6\",\"angularaxis\":{\"gridcolor\":\"white\",\"linecolor\":\"white\",\"ticks\":\"\"},\"radialaxis\":{\"gridcolor\":\"white\",\"linecolor\":\"white\",\"ticks\":\"\"}},\"ternary\":{\"bgcolor\":\"#E5ECF6\",\"aaxis\":{\"gridcolor\":\"white\",\"linecolor\":\"white\",\"ticks\":\"\"},\"baxis\":{\"gridcolor\":\"white\",\"linecolor\":\"white\",\"ticks\":\"\"},\"caxis\":{\"gridcolor\":\"white\",\"linecolor\":\"white\",\"ticks\":\"\"}},\"coloraxis\":{\"colorbar\":{\"outlinewidth\":0,\"ticks\":\"\"}},\"colorscale\":{\"sequential\":[[0.0,\"#0d0887\"],[0.1111111111111111,\"#46039f\"],[0.2222222222222222,\"#7201a8\"],[0.3333333333333333,\"#9c179e\"],[0.4444444444444444,\"#bd3786\"],[0.5555555555555556,\"#d8576b\"],[0.6666666666666666,\"#ed7953\"],[0.7777777777777778,\"#fb9f3a\"],[0.8888888888888888,\"#fdca26\"],[1.0,\"#f0f921\"]],\"sequentialminus\":[[0.0,\"#0d0887\"],[0.1111111111111111,\"#46039f\"],[0.2222222222222222,\"#7201a8\"],[0.3333333333333333,\"#9c179e\"],[0.4444444444444444,\"#bd3786\"],[0.5555555555555556,\"#d8576b\"],[0.6666666666666666,\"#ed7953\"],[0.7777777777777778,\"#fb9f3a\"],[0.8888888888888888,\"#fdca26\"],[1.0,\"#f0f921\"]],\"diverging\":[[0,\"#8e0152\"],[0.1,\"#c51b7d\"],[0.2,\"#de77ae\"],[0.3,\"#f1b6da\"],[0.4,\"#fde0ef\"],[0.5,\"#f7f7f7\"],[0.6,\"#e6f5d0\"],[0.7,\"#b8e186\"],[0.8,\"#7fbc41\"],[0.9,\"#4d9221\"],[1,\"#276419\"]]},\"xaxis\":{\"gridcolor\":\"white\",\"linecolor\":\"white\",\"ticks\":\"\",\"title\":{\"standoff\":15},\"zerolinecolor\":\"white\",\"automargin\":true,\"zerolinewidth\":2},\"yaxis\":{\"gridcolor\":\"white\",\"linecolor\":\"white\",\"ticks\":\"\",\"title\":{\"standoff\":15},\"zerolinecolor\":\"white\",\"automargin\":true,\"zerolinewidth\":2},\"scene\":{\"xaxis\":{\"backgroundcolor\":\"#E5ECF6\",\"gridcolor\":\"white\",\"linecolor\":\"white\",\"showbackground\":true,\"ticks\":\"\",\"zerolinecolor\":\"white\",\"gridwidth\":2},\"yaxis\":{\"backgroundcolor\":\"#E5ECF6\",\"gridcolor\":\"white\",\"linecolor\":\"white\",\"showbackground\":true,\"ticks\":\"\",\"zerolinecolor\":\"white\",\"gridwidth\":2},\"zaxis\":{\"backgroundcolor\":\"#E5ECF6\",\"gridcolor\":\"white\",\"linecolor\":\"white\",\"showbackground\":true,\"ticks\":\"\",\"zerolinecolor\":\"white\",\"gridwidth\":2}},\"shapedefaults\":{\"line\":{\"color\":\"#2a3f5f\"}},\"annotationdefaults\":{\"arrowcolor\":\"#2a3f5f\",\"arrowhead\":0,\"arrowwidth\":1},\"geo\":{\"bgcolor\":\"white\",\"landcolor\":\"#E5ECF6\",\"subunitcolor\":\"white\",\"showland\":true,\"showlakes\":true,\"lakecolor\":\"white\"},\"title\":{\"x\":0.05},\"mapbox\":{\"style\":\"light\"}}},\"xaxis\":{\"anchor\":\"y\",\"domain\":[0.0,1.0],\"title\":{\"text\":\"Month\"},\"type\":\"category\"},\"yaxis\":{\"anchor\":\"x\",\"domain\":[0.0,1.0],\"title\":{\"text\":\"Total Revenue\"}},\"legend\":{\"title\":{\"text\":\"loyalty_program\"},\"tracegroupgap\":0},\"title\":{\"text\":\"Comparison of Total Revenue Member vs Non-Member by Month\"},\"barmode\":\"group\"},                        {\"responsive\": true}                    ).then(function(){\n",
       "                            \n",
       "var gd = document.getElementById('1aefe04c-fdde-41ec-8c36-6de0c536b7d6');\n",
       "var x = new MutationObserver(function (mutations, observer) {{\n",
       "        var display = window.getComputedStyle(gd).display;\n",
       "        if (!display || display === 'none') {{\n",
       "            console.log([gd, 'removed!']);\n",
       "            Plotly.purge(gd);\n",
       "            observer.disconnect();\n",
       "        }}\n",
       "}});\n",
       "\n",
       "// Listen for the removal of the full notebook cells\n",
       "var notebookContainer = gd.closest('#notebook-container');\n",
       "if (notebookContainer) {{\n",
       "    x.observe(notebookContainer, {childList: true});\n",
       "}}\n",
       "\n",
       "// Listen for the clearing of the current output cell\n",
       "var outputEl = gd.closest('.output');\n",
       "if (outputEl) {{\n",
       "    x.observe(outputEl, {childList: true});\n",
       "}}\n",
       "\n",
       "                        })                };                });            </script>        </div>"
      ]
     },
     "metadata": {},
     "output_type": "display_data"
    }
   ],
   "source": [
    "#plot\n",
    "cust_fig = px.bar(cust_program_revenue, x='purchase_month', y='total_revenue', color='loyalty_program', barmode='group', \n",
    "                  labels = {'total_revenue': 'Total Revenue', 'purchase_month':'Month'},\n",
    "                  title = 'Comparison of Total Revenue Member vs Non-Member by Month')\n",
    "cust_fig.update_layout(xaxis={'type' : 'category'})\n",
    "\n",
    "cust_fig.show()"
   ]
  },
  {
   "cell_type": "markdown",
   "id": "12b0437d-d44e-4170-9523-697fa3d08101",
   "metadata": {},
   "source": [
    "- pendapatan dari konsumen yang bukan member lebih besar dibandingkan dengan pendapatan dari konsumen member \n",
    "- pendapatan dari member mempunyai tren segita terbalik dimana pendapatan bulan 12 dan 2 lebih tinggi dibandingkan dengan pendapatan pada bulan 1 \n",
    "- pendapatan dari non member mempunyai tren menurun dimana pendapatan bulan 12 dan 1 relatif sama tetapi pada bulan ke 2 menurun 100K dolar"
   ]
  },
  {
   "cell_type": "code",
   "execution_count": 189,
   "id": "1289dee0-d951-4187-9b38-bcfd52cf573f",
   "metadata": {},
   "outputs": [
    {
     "data": {
      "text/plain": [
       "('Total pendapatan bisnis dari member dan non member secara berurutan',\n",
       " (261525.61, 713920.45))"
      ]
     },
     "execution_count": 189,
     "metadata": {},
     "output_type": "execute_result"
    }
   ],
   "source": [
    "#total revenue member non member \n",
    "tot_rev_member = member['total_revenue'].sum()\n",
    "tot_rev_non = non_member['total_revenue'].sum()\n",
    "\n",
    "'Total pendapatan bisnis dari member dan non member secara berurutan',(tot_rev_member,tot_rev_non)"
   ]
  },
  {
   "cell_type": "code",
   "execution_count": 190,
   "id": "59a27a67-924c-4cfe-9955-b185b63f8607",
   "metadata": {
    "scrolled": true
   },
   "outputs": [
    {
     "data": {
      "text/html": [
       "<div>\n",
       "<style scoped>\n",
       "    .dataframe tbody tr th:only-of-type {\n",
       "        vertical-align: middle;\n",
       "    }\n",
       "\n",
       "    .dataframe tbody tr th {\n",
       "        vertical-align: top;\n",
       "    }\n",
       "\n",
       "    .dataframe thead th {\n",
       "        text-align: right;\n",
       "    }\n",
       "</style>\n",
       "<table border=\"1\" class=\"dataframe\">\n",
       "  <thead>\n",
       "    <tr style=\"text-align: right;\">\n",
       "      <th></th>\n",
       "      <th>purchase_day</th>\n",
       "      <th>purchase_id</th>\n",
       "    </tr>\n",
       "  </thead>\n",
       "  <tbody>\n",
       "    <tr>\n",
       "      <th>0</th>\n",
       "      <td>2016-12-01</td>\n",
       "      <td>697</td>\n",
       "    </tr>\n",
       "    <tr>\n",
       "      <th>1</th>\n",
       "      <td>2016-12-02</td>\n",
       "      <td>869</td>\n",
       "    </tr>\n",
       "    <tr>\n",
       "      <th>2</th>\n",
       "      <td>2016-12-03</td>\n",
       "      <td>462</td>\n",
       "    </tr>\n",
       "    <tr>\n",
       "      <th>3</th>\n",
       "      <td>2016-12-05</td>\n",
       "      <td>756</td>\n",
       "    </tr>\n",
       "    <tr>\n",
       "      <th>4</th>\n",
       "      <td>2016-12-06</td>\n",
       "      <td>973</td>\n",
       "    </tr>\n",
       "  </tbody>\n",
       "</table>\n",
       "</div>"
      ],
      "text/plain": [
       "  purchase_day  purchase_id\n",
       "0   2016-12-01          697\n",
       "1   2016-12-02          869\n",
       "2   2016-12-03          462\n",
       "3   2016-12-05          756\n",
       "4   2016-12-06          973"
      ]
     },
     "execution_count": 190,
     "metadata": {},
     "output_type": "execute_result"
    }
   ],
   "source": [
    "#distribusi frekuensi konsumen member \n",
    "freq_member_daily = member.groupby('purchase_day')['purchase_id'].count().reset_index()\n",
    "freq_member_daily.head()"
   ]
  },
  {
   "cell_type": "code",
   "execution_count": 191,
   "id": "a5e5921f-6a44-4bb5-a789-67c0c2314c48",
   "metadata": {},
   "outputs": [
    {
     "data": {
      "image/png": "[encoded data removed]",
      "text/plain": [
       "<Figure size 1000x600 with 1 Axes>"
      ]
     },
     "metadata": {},
     "output_type": "display_data"
    }
   ],
   "source": [
    "plt.figure(figsize=(10,6))\n",
    "sns.barplot(data=freq_member_daily, x='purchase_day', y='purchase_id', palette='bright')\n",
    "plt.title('Distribution of Member Purchase Frequency')\n",
    "plt.xlabel('Date')\n",
    "plt.ylabel('Count')\n",
    "plt.grid(False)\n",
    "plt.xticks(rotation=90)\n",
    "plt.tight_layout()\n",
    "plt.show()"
   ]
  },
  {
   "cell_type": "markdown",
   "id": "667c7f4c-ff5d-423f-818a-ce4c0dd9a06a",
   "metadata": {},
   "source": [
    "berdasarkan hasil distribusi grafik khusus untuk member, pola yang dihasilkan serupa dengan distribusi pembelian total dimana tanggal 6 Des 2016 tetap menjadi yang tertinggi"
   ]
  },
  {
   "cell_type": "code",
   "execution_count": 192,
   "id": "b700c6fb-f8b1-471a-87f7-1a7678c42794",
   "metadata": {},
   "outputs": [
    {
     "data": {
      "text/html": [
       "<div>\n",
       "<style scoped>\n",
       "    .dataframe tbody tr th:only-of-type {\n",
       "        vertical-align: middle;\n",
       "    }\n",
       "\n",
       "    .dataframe tbody tr th {\n",
       "        vertical-align: top;\n",
       "    }\n",
       "\n",
       "    .dataframe thead th {\n",
       "        text-align: right;\n",
       "    }\n",
       "</style>\n",
       "<table border=\"1\" class=\"dataframe\">\n",
       "  <thead>\n",
       "    <tr style=\"text-align: right;\">\n",
       "      <th></th>\n",
       "      <th>purchase_day</th>\n",
       "      <th>purchase_id</th>\n",
       "    </tr>\n",
       "  </thead>\n",
       "  <tbody>\n",
       "    <tr>\n",
       "      <th>0</th>\n",
       "      <td>2016-12-01</td>\n",
       "      <td>2366</td>\n",
       "    </tr>\n",
       "    <tr>\n",
       "      <th>1</th>\n",
       "      <td>2016-12-02</td>\n",
       "      <td>1199</td>\n",
       "    </tr>\n",
       "    <tr>\n",
       "      <th>2</th>\n",
       "      <td>2016-12-03</td>\n",
       "      <td>1722</td>\n",
       "    </tr>\n",
       "    <tr>\n",
       "      <th>3</th>\n",
       "      <td>2016-12-05</td>\n",
       "      <td>1863</td>\n",
       "    </tr>\n",
       "    <tr>\n",
       "      <th>4</th>\n",
       "      <td>2016-12-06</td>\n",
       "      <td>2857</td>\n",
       "    </tr>\n",
       "  </tbody>\n",
       "</table>\n",
       "</div>"
      ],
      "text/plain": [
       "  purchase_day  purchase_id\n",
       "0   2016-12-01         2366\n",
       "1   2016-12-02         1199\n",
       "2   2016-12-03         1722\n",
       "3   2016-12-05         1863\n",
       "4   2016-12-06         2857"
      ]
     },
     "execution_count": 192,
     "metadata": {},
     "output_type": "execute_result"
    }
   ],
   "source": [
    "#distribusi frekuensi konsumen member \n",
    "freq_non_member_daily = non_member.groupby('purchase_day')['purchase_id'].count().reset_index()\n",
    "freq_non_member_daily.head()"
   ]
  },
  {
   "cell_type": "code",
   "execution_count": 193,
   "id": "43d0345a-29ed-445b-8ee7-48cd9138ac4c",
   "metadata": {},
   "outputs": [
    {
     "data": {
      "image/png": "[encoded data removed]",
      "text/plain": [
       "<Figure size 1000x600 with 1 Axes>"
      ]
     },
     "metadata": {},
     "output_type": "display_data"
    }
   ],
   "source": [
    "plt.figure(figsize=(10,6))\n",
    "sns.barplot(data=freq_non_member_daily, x='purchase_day', y='purchase_id')\n",
    "plt.title('Distribution of Non-Member Purchase Frequency')\n",
    "plt.xlabel('Date')\n",
    "plt.ylabel('Count')\n",
    "plt.grid(False)\n",
    "plt.xticks(rotation=90)\n",
    "plt.tight_layout()\n",
    "plt.show()"
   ]
  },
  {
   "cell_type": "markdown",
   "id": "f04f5d32-31a0-491d-9c94-3ba48bceca10",
   "metadata": {},
   "source": [
    "berbeda dengan distribusi frekuensi untuk kategori member, hasil sebaran data untuk kategori non member justru mempunyai peek di tanggal 17 Desember 2016. lebih lanjut, pola sebaran data untuk kategori non member berbeda dengan frekuensi pembelian secara keseluruhan"
   ]
  },
  {
   "cell_type": "code",
   "execution_count": 194,
   "id": "d2deee45-c4b9-4105-99f8-62a00a06c465",
   "metadata": {},
   "outputs": [
    {
     "data": {
      "text/html": [
       "<div>\n",
       "<style scoped>\n",
       "    .dataframe tbody tr th:only-of-type {\n",
       "        vertical-align: middle;\n",
       "    }\n",
       "\n",
       "    .dataframe tbody tr th {\n",
       "        vertical-align: top;\n",
       "    }\n",
       "\n",
       "    .dataframe thead th {\n",
       "        text-align: right;\n",
       "    }\n",
       "</style>\n",
       "<table border=\"1\" class=\"dataframe\">\n",
       "  <thead>\n",
       "    <tr style=\"text-align: right;\">\n",
       "      <th></th>\n",
       "      <th>purchase_day</th>\n",
       "      <th>quantity</th>\n",
       "    </tr>\n",
       "  </thead>\n",
       "  <tbody>\n",
       "    <tr>\n",
       "      <th>0</th>\n",
       "      <td>2016-12-01</td>\n",
       "      <td>5022</td>\n",
       "    </tr>\n",
       "    <tr>\n",
       "      <th>1</th>\n",
       "      <td>2016-12-02</td>\n",
       "      <td>10066</td>\n",
       "    </tr>\n",
       "    <tr>\n",
       "      <th>2</th>\n",
       "      <td>2016-12-03</td>\n",
       "      <td>2319</td>\n",
       "    </tr>\n",
       "    <tr>\n",
       "      <th>3</th>\n",
       "      <td>2016-12-05</td>\n",
       "      <td>4819</td>\n",
       "    </tr>\n",
       "    <tr>\n",
       "      <th>4</th>\n",
       "      <td>2016-12-06</td>\n",
       "      <td>6263</td>\n",
       "    </tr>\n",
       "  </tbody>\n",
       "</table>\n",
       "</div>"
      ],
      "text/plain": [
       "  purchase_day  quantity\n",
       "0   2016-12-01      5022\n",
       "1   2016-12-02     10066\n",
       "2   2016-12-03      2319\n",
       "3   2016-12-05      4819\n",
       "4   2016-12-06      6263"
      ]
     },
     "execution_count": 194,
     "metadata": {},
     "output_type": "execute_result"
    }
   ],
   "source": [
    "#distribusi volume member, non member\n",
    "vol_member = member.groupby('purchase_day')['quantity'].sum().reset_index()\n",
    "vol_member.head()"
   ]
  },
  {
   "cell_type": "code",
   "execution_count": 195,
   "id": "2bbeb9e7-dc69-480c-99f4-b2884afb05cf",
   "metadata": {},
   "outputs": [
    {
     "data": {
      "image/png": "[encoded data removed]",
      "text/plain": [
       "<Figure size 1000x600 with 1 Axes>"
      ]
     },
     "metadata": {},
     "output_type": "display_data"
    }
   ],
   "source": [
    "plt.figure(figsize=(10,6))\n",
    "sns.barplot(data=vol_member, x='purchase_day', y='quantity')\n",
    "plt.title('Distribution of Member Purchase Volume')\n",
    "plt.xlabel('Date')\n",
    "plt.ylabel('Count')\n",
    "plt.grid(False)\n",
    "plt.xticks(rotation=90)\n",
    "plt.tight_layout()\n",
    "plt.show()"
   ]
  },
  {
   "cell_type": "markdown",
   "id": "d6d6d720-ef30-4d83-8b82-5b7ed777ddab",
   "metadata": {},
   "source": [
    "- berdasarkan hasil grafik diketahui pola data volume dari pelanggan member berbeda dengan pola volume total\n",
    "- terdapat 7 kali dalam 3 bulan tersebut yang konsmen member membeli dengan jumlah yang besar \n",
    "- tanggal 15 desember 2016 diketahui waktu dimana jumlah kuantitas barang yang dibeli oleh member tertinggi yaitu lebih dari 10K unit"
   ]
  },
  {
   "cell_type": "code",
   "execution_count": 196,
   "id": "4fbf47d4-8196-4351-8ea1-43cc217b3bd2",
   "metadata": {},
   "outputs": [
    {
     "data": {
      "text/html": [
       "<div>\n",
       "<style scoped>\n",
       "    .dataframe tbody tr th:only-of-type {\n",
       "        vertical-align: middle;\n",
       "    }\n",
       "\n",
       "    .dataframe tbody tr th {\n",
       "        vertical-align: top;\n",
       "    }\n",
       "\n",
       "    .dataframe thead th {\n",
       "        text-align: right;\n",
       "    }\n",
       "</style>\n",
       "<table border=\"1\" class=\"dataframe\">\n",
       "  <thead>\n",
       "    <tr style=\"text-align: right;\">\n",
       "      <th></th>\n",
       "      <th>purchase_day</th>\n",
       "      <th>quantity</th>\n",
       "    </tr>\n",
       "  </thead>\n",
       "  <tbody>\n",
       "    <tr>\n",
       "      <th>0</th>\n",
       "      <td>2016-12-01</td>\n",
       "      <td>18627</td>\n",
       "    </tr>\n",
       "    <tr>\n",
       "      <th>1</th>\n",
       "      <td>2016-12-02</td>\n",
       "      <td>8824</td>\n",
       "    </tr>\n",
       "    <tr>\n",
       "      <th>2</th>\n",
       "      <td>2016-12-03</td>\n",
       "      <td>10278</td>\n",
       "    </tr>\n",
       "    <tr>\n",
       "      <th>3</th>\n",
       "      <td>2016-12-05</td>\n",
       "      <td>8748</td>\n",
       "    </tr>\n",
       "    <tr>\n",
       "      <th>4</th>\n",
       "      <td>2016-12-06</td>\n",
       "      <td>11150</td>\n",
       "    </tr>\n",
       "  </tbody>\n",
       "</table>\n",
       "</div>"
      ],
      "text/plain": [
       "  purchase_day  quantity\n",
       "0   2016-12-01     18627\n",
       "1   2016-12-02      8824\n",
       "2   2016-12-03     10278\n",
       "3   2016-12-05      8748\n",
       "4   2016-12-06     11150"
      ]
     },
     "execution_count": 196,
     "metadata": {},
     "output_type": "execute_result"
    }
   ],
   "source": [
    "vol_non_member = non_member.groupby('purchase_day')['quantity'].sum().reset_index()\n",
    "vol_non_member.head()"
   ]
  },
  {
   "cell_type": "code",
   "execution_count": 197,
   "id": "65ceeb7a-5ae3-49ee-80d6-ace7e028fb22",
   "metadata": {},
   "outputs": [
    {
     "data": {
      "image/png": "[encoded data removed]",
      "text/plain": [
       "<Figure size 1000x600 with 1 Axes>"
      ]
     },
     "metadata": {},
     "output_type": "display_data"
    }
   ],
   "source": [
    "plt.figure(figsize=(10,6))\n",
    "sns.barplot(data=vol_non_member, x='purchase_day', y='quantity')\n",
    "plt.title('Distribution of Non-Member Purchase Volume')\n",
    "plt.xlabel('Date')\n",
    "plt.ylabel('Count')\n",
    "plt.grid(False)\n",
    "plt.xticks(rotation=90)\n",
    "plt.tight_layout()\n",
    "plt.show()"
   ]
  },
  {
   "cell_type": "markdown",
   "id": "c990ab37-f5a5-4ca3-a7f7-cf1233e22504",
   "metadata": {},
   "source": [
    "- pola yang dihasilkan dari sebaran data volume pemeblian oleh konsumen non member berbeda dengan pola volume total \n",
    "- terdapat 7 tanggal yang memiliki penjualan volume signifikan dibandingkan dengan yang lainnya\n",
    "- 16 desember 2016 merupakan waktu dimana volume penjualan bisnis mencapai lebih dari 20K unit"
   ]
  },
  {
   "cell_type": "markdown",
   "id": "1e0042e0-f5a3-4181-a8ca-843f76a66344",
   "metadata": {},
   "source": [
    "# Data Analisa : Shop"
   ]
  },
  {
   "cell_type": "markdown",
   "id": "beabde73-eef4-458e-ba72-f9dd26e16e61",
   "metadata": {},
   "source": [
    "1. perbandingan total pendapatan antar toko\n",
    "2. rata rata pendapatan per transaksi\n",
    "3. perbandingan frekuensi aktivitas membeli antar toko\n",
    "4. analisa efektivitas program loyalitas mempertahankan konsumen\n",
    "5. rata rata jumlah pembelian per transaksi "
   ]
  },
  {
   "cell_type": "code",
   "execution_count": 198,
   "id": "6d0aa9fd-164f-41f4-aac7-29f3eff53d8a",
   "metadata": {},
   "outputs": [
    {
     "data": {
      "text/plain": [
       "shop_id\n",
       "Shop 0     38303\n",
       "Shop 1      2689\n",
       "Shop 15     2679\n",
       "Shop 24     2624\n",
       "Shop 22     2538\n",
       "Shop 5      2469\n",
       "Shop 9      2447\n",
       "Shop 13     2411\n",
       "Shop 20     2402\n",
       "Shop 14     2366\n",
       "Shop 30     2359\n",
       "Shop 7      2311\n",
       "Shop 28     2306\n",
       "Shop 26     2299\n",
       "Shop 27     2296\n",
       "Shop 11     2274\n",
       "Shop 2      2224\n",
       "Shop 19     2209\n",
       "Shop 29     2181\n",
       "Shop 10     2181\n",
       "Shop 17     2164\n",
       "Shop 23     2041\n",
       "Shop 18     1995\n",
       "Shop 4      1964\n",
       "Shop 8      1963\n",
       "Shop 16     1920\n",
       "Shop 25     1902\n",
       "Shop 12     1758\n",
       "Shop 3      1703\n",
       "Shop 6      1673\n",
       "Shop 21     1651\n",
       "Name: count, dtype: int64"
      ]
     },
     "execution_count": 198,
     "metadata": {},
     "output_type": "execute_result"
    }
   ],
   "source": [
    "df_revenue['shop_id'].value_counts()"
   ]
  },
  {
   "cell_type": "code",
   "execution_count": 199,
   "id": "bab4c294-5732-4e11-bfb6-c797ea245320",
   "metadata": {},
   "outputs": [
    {
     "data": {
      "text/html": [
       "<div>\n",
       "<style scoped>\n",
       "    .dataframe tbody tr th:only-of-type {\n",
       "        vertical-align: middle;\n",
       "    }\n",
       "\n",
       "    .dataframe tbody tr th {\n",
       "        vertical-align: top;\n",
       "    }\n",
       "\n",
       "    .dataframe thead th {\n",
       "        text-align: right;\n",
       "    }\n",
       "</style>\n",
       "<table border=\"1\" class=\"dataframe\">\n",
       "  <thead>\n",
       "    <tr style=\"text-align: right;\">\n",
       "      <th></th>\n",
       "      <th>shop_id</th>\n",
       "      <th>total_revenue</th>\n",
       "    </tr>\n",
       "  </thead>\n",
       "  <tbody>\n",
       "    <tr>\n",
       "      <th>7</th>\n",
       "      <td>Shop 15</td>\n",
       "      <td>111537.83</td>\n",
       "    </tr>\n",
       "    <tr>\n",
       "      <th>0</th>\n",
       "      <td>Shop 0</td>\n",
       "      <td>105171.58</td>\n",
       "    </tr>\n",
       "    <tr>\n",
       "      <th>26</th>\n",
       "      <td>Shop 5</td>\n",
       "      <td>63046.14</td>\n",
       "    </tr>\n",
       "    <tr>\n",
       "      <th>25</th>\n",
       "      <td>Shop 4</td>\n",
       "      <td>39778.52</td>\n",
       "    </tr>\n",
       "    <tr>\n",
       "      <th>13</th>\n",
       "      <td>Shop 20</td>\n",
       "      <td>39468.26</td>\n",
       "    </tr>\n",
       "  </tbody>\n",
       "</table>\n",
       "</div>"
      ],
      "text/plain": [
       "    shop_id  total_revenue\n",
       "7   Shop 15      111537.83\n",
       "0    Shop 0      105171.58\n",
       "26   Shop 5       63046.14\n",
       "25   Shop 4       39778.52\n",
       "13  Shop 20       39468.26"
      ]
     },
     "execution_count": 199,
     "metadata": {},
     "output_type": "execute_result"
    }
   ],
   "source": [
    "# total pendapatan antar toko\n",
    "total_revenue_per_shop = df_revenue.groupby('shop_id')['total_revenue'].sum().reset_index()\n",
    "total_revenue_per_shop = total_revenue_per_shop.sort_values(by='total_revenue', ascending=False)\n",
    "total_revenue_per_shop.head()"
   ]
  },
  {
   "cell_type": "code",
   "execution_count": 200,
   "id": "00a8acc7-af42-4b09-8c90-319f6fca044d",
   "metadata": {},
   "outputs": [
    {
     "data": {
      "image/png": "[encoded data removed]",
      "text/plain": [
       "<Figure size 1000x600 with 1 Axes>"
      ]
     },
     "metadata": {},
     "output_type": "display_data"
    }
   ],
   "source": [
    "# plot top 5 toko \n",
    "plt.figure(figsize=(10, 6))\n",
    "plt.bar(total_revenue_per_shop['shop_id'][:5], total_revenue_per_shop['total_revenue'][:5], color='skyblue')\n",
    "plt.xlabel('Shop ID')\n",
    "plt.ylabel('Total Revenue')\n",
    "plt.title('Top 5 Shops by Total Revenue')\n",
    "plt.xticks(rotation=45)\n",
    "plt.tight_layout()\n",
    "plt.show()"
   ]
  },
  {
   "cell_type": "markdown",
   "id": "abb71c84-8144-4e70-bd35-c019b52cf23c",
   "metadata": {},
   "source": [
    "- 5 toko dengan pendapatan tertinggi ialah \n",
    "    - high revenue : pendapatan > 100K : shop 15 dan shop 0 \n",
    "    - mid revenue : pendapatan 40K - 99K : shop 5 \n",
    "    - low revenue : pendapatan <40K : shop 4 dan shop 20 "
   ]
  },
  {
   "cell_type": "code",
   "execution_count": 201,
   "id": "e9aca3af-43eb-4fb8-ba74-4826afe7a2a2",
   "metadata": {},
   "outputs": [
    {
     "data": {
      "text/html": [
       "<div>\n",
       "<style scoped>\n",
       "    .dataframe tbody tr th:only-of-type {\n",
       "        vertical-align: middle;\n",
       "    }\n",
       "\n",
       "    .dataframe tbody tr th {\n",
       "        vertical-align: top;\n",
       "    }\n",
       "\n",
       "    .dataframe thead th {\n",
       "        text-align: right;\n",
       "    }\n",
       "</style>\n",
       "<table border=\"1\" class=\"dataframe\">\n",
       "  <thead>\n",
       "    <tr style=\"text-align: right;\">\n",
       "      <th></th>\n",
       "      <th>shop_id</th>\n",
       "      <th>total_revenue</th>\n",
       "    </tr>\n",
       "  </thead>\n",
       "  <tbody>\n",
       "    <tr>\n",
       "      <th>7</th>\n",
       "      <td>Shop 15</td>\n",
       "      <td>41.634128</td>\n",
       "    </tr>\n",
       "    <tr>\n",
       "      <th>26</th>\n",
       "      <td>Shop 5</td>\n",
       "      <td>25.535091</td>\n",
       "    </tr>\n",
       "    <tr>\n",
       "      <th>25</th>\n",
       "      <td>Shop 4</td>\n",
       "      <td>20.253829</td>\n",
       "    </tr>\n",
       "    <tr>\n",
       "      <th>18</th>\n",
       "      <td>Shop 25</td>\n",
       "      <td>18.137182</td>\n",
       "    </tr>\n",
       "    <tr>\n",
       "      <th>23</th>\n",
       "      <td>Shop 3</td>\n",
       "      <td>16.618696</td>\n",
       "    </tr>\n",
       "  </tbody>\n",
       "</table>\n",
       "</div>"
      ],
      "text/plain": [
       "    shop_id  total_revenue\n",
       "7   Shop 15      41.634128\n",
       "26   Shop 5      25.535091\n",
       "25   Shop 4      20.253829\n",
       "18  Shop 25      18.137182\n",
       "23   Shop 3      16.618696"
      ]
     },
     "execution_count": 201,
     "metadata": {},
     "output_type": "execute_result"
    }
   ],
   "source": [
    "# total pendapatan per transaksi per toko\n",
    "avg_revenue_per_transaction = df_revenue.groupby('shop_id')['total_revenue'].mean().reset_index()\n",
    "avg_revenue_per_transaction = avg_revenue_per_transaction.sort_values(by='total_revenue', ascending=False)\n",
    "avg_revenue_per_transaction.head()"
   ]
  },
  {
   "cell_type": "code",
   "execution_count": 202,
   "id": "50b2528b-5732-4443-9491-a3bf7076abe9",
   "metadata": {},
   "outputs": [
    {
     "data": {
      "image/png": "[encoded data removed]",
      "text/plain": [
       "<Figure size 1000x600 with 1 Axes>"
      ]
     },
     "metadata": {},
     "output_type": "display_data"
    }
   ],
   "source": [
    "# plot top 5 toko\n",
    "plt.figure(figsize=(10, 6))\n",
    "plt.bar(avg_revenue_per_transaction['shop_id'][:5], avg_revenue_per_transaction['total_revenue'][:5], color='lightgreen')\n",
    "plt.xlabel('Shop ID')\n",
    "plt.ylabel('Average Revenue per Transaction')\n",
    "plt.title('Top 5 Shops by Average Revenue per Transaction')\n",
    "plt.xticks(rotation=45)\n",
    "plt.tight_layout()\n",
    "plt.show()"
   ]
  },
  {
   "cell_type": "markdown",
   "id": "b43ce956-2017-4c2d-8632-019a03e13f0b",
   "metadata": {},
   "source": [
    "- tidak hanya dalam total revenue, ternyata jumlah pendapatan per transaksi, shop 15 masih menjadi peringkat pertama dengan rata rata 40 dolar per transaksi\n",
    "- shop 5 dan shop 4 memiliki total revenue dibawah dari 40K dolar, walaupun demikian kedua shop ini menempati posisi ke 2 dan 3 untuk besar pendapatann yang diperoleh per transaksi yakni rata rata 25 & 20 dolar\n",
    "- shop 0 dan shop 20 ternyata tidak memiliki rata rata pendapatan per transaksi yang tinggi, melainkan shop 25 dan shop 3 dengan rata rata pendapatan dibawah 20 dolar"
   ]
  },
  {
   "cell_type": "code",
   "execution_count": 203,
   "id": "42ea51cd-57ea-404a-a3f5-bdfaee8ee9d5",
   "metadata": {},
   "outputs": [
    {
     "data": {
      "text/html": [
       "<div>\n",
       "<style scoped>\n",
       "    .dataframe tbody tr th:only-of-type {\n",
       "        vertical-align: middle;\n",
       "    }\n",
       "\n",
       "    .dataframe tbody tr th {\n",
       "        vertical-align: top;\n",
       "    }\n",
       "\n",
       "    .dataframe thead th {\n",
       "        text-align: right;\n",
       "    }\n",
       "</style>\n",
       "<table border=\"1\" class=\"dataframe\">\n",
       "  <thead>\n",
       "    <tr style=\"text-align: right;\">\n",
       "      <th></th>\n",
       "      <th>shop_id</th>\n",
       "      <th>purchase_id</th>\n",
       "    </tr>\n",
       "  </thead>\n",
       "  <tbody>\n",
       "    <tr>\n",
       "      <th>0</th>\n",
       "      <td>Shop 0</td>\n",
       "      <td>38303</td>\n",
       "    </tr>\n",
       "    <tr>\n",
       "      <th>1</th>\n",
       "      <td>Shop 1</td>\n",
       "      <td>2689</td>\n",
       "    </tr>\n",
       "    <tr>\n",
       "      <th>7</th>\n",
       "      <td>Shop 15</td>\n",
       "      <td>2679</td>\n",
       "    </tr>\n",
       "    <tr>\n",
       "      <th>17</th>\n",
       "      <td>Shop 24</td>\n",
       "      <td>2624</td>\n",
       "    </tr>\n",
       "    <tr>\n",
       "      <th>15</th>\n",
       "      <td>Shop 22</td>\n",
       "      <td>2538</td>\n",
       "    </tr>\n",
       "  </tbody>\n",
       "</table>\n",
       "</div>"
      ],
      "text/plain": [
       "    shop_id  purchase_id\n",
       "0    Shop 0        38303\n",
       "1    Shop 1         2689\n",
       "7   Shop 15         2679\n",
       "17  Shop 24         2624\n",
       "15  Shop 22         2538"
      ]
     },
     "execution_count": 203,
     "metadata": {},
     "output_type": "execute_result"
    }
   ],
   "source": [
    "# volume penjualan per toko\n",
    "sales_volume_per_shop = df_revenue.groupby('shop_id')['purchase_id'].count().reset_index()\n",
    "sales_volume_per_shop = sales_volume_per_shop.sort_values(by='purchase_id', ascending=False)\n",
    "sales_volume_per_shop.head()"
   ]
  },
  {
   "cell_type": "code",
   "execution_count": 204,
   "id": "86e8e38a-ee92-490f-b7f3-acdd4a4e5051",
   "metadata": {},
   "outputs": [
    {
     "data": {
      "image/png": "[encoded data removed]",
      "text/plain": [
       "<Figure size 1000x600 with 1 Axes>"
      ]
     },
     "metadata": {},
     "output_type": "display_data"
    }
   ],
   "source": [
    "# plot\n",
    "plt.figure(figsize=(10, 6))\n",
    "plt.bar(sales_volume_per_shop['shop_id'][:5], sales_volume_per_shop['purchase_id'][:5], color='salmon')\n",
    "plt.xlabel('Shop ID')\n",
    "plt.ylabel('Sales Volume')\n",
    "plt.title('Top 5 Shops by Sales Volume')\n",
    "plt.xticks(rotation=45)\n",
    "plt.tight_layout()\n",
    "plt.show()"
   ]
  },
  {
   "cell_type": "markdown",
   "id": "8740b48b-f2f1-4962-ba8d-39905d4f8029",
   "metadata": {},
   "source": [
    "- hanya shop 0 yang mampu menjual dengan total volume lebih dari 37000 unit "
   ]
  },
  {
   "cell_type": "code",
   "execution_count": 205,
   "id": "7556dad2-755e-4174-985c-7bc4480b832c",
   "metadata": {},
   "outputs": [
    {
     "data": {
      "text/html": [
       "<div>\n",
       "<style scoped>\n",
       "    .dataframe tbody tr th:only-of-type {\n",
       "        vertical-align: middle;\n",
       "    }\n",
       "\n",
       "    .dataframe tbody tr th {\n",
       "        vertical-align: top;\n",
       "    }\n",
       "\n",
       "    .dataframe thead th {\n",
       "        text-align: right;\n",
       "    }\n",
       "</style>\n",
       "<table border=\"1\" class=\"dataframe\">\n",
       "  <thead>\n",
       "    <tr style=\"text-align: right;\">\n",
       "      <th></th>\n",
       "      <th>shop_id</th>\n",
       "      <th>retention_rate</th>\n",
       "    </tr>\n",
       "  </thead>\n",
       "  <tbody>\n",
       "    <tr>\n",
       "      <th>28</th>\n",
       "      <td>Shop 7</td>\n",
       "      <td>3.601969</td>\n",
       "    </tr>\n",
       "    <tr>\n",
       "      <th>26</th>\n",
       "      <td>Shop 5</td>\n",
       "      <td>3.576056</td>\n",
       "    </tr>\n",
       "    <tr>\n",
       "      <th>11</th>\n",
       "      <td>Shop 19</td>\n",
       "      <td>3.576056</td>\n",
       "    </tr>\n",
       "    <tr>\n",
       "      <th>0</th>\n",
       "      <td>Shop 0</td>\n",
       "      <td>3.550143</td>\n",
       "    </tr>\n",
       "    <tr>\n",
       "      <th>19</th>\n",
       "      <td>Shop 26</td>\n",
       "      <td>3.498316</td>\n",
       "    </tr>\n",
       "  </tbody>\n",
       "</table>\n",
       "</div>"
      ],
      "text/plain": [
       "    shop_id  retention_rate\n",
       "28   Shop 7        3.601969\n",
       "26   Shop 5        3.576056\n",
       "11  Shop 19        3.576056\n",
       "0    Shop 0        3.550143\n",
       "19  Shop 26        3.498316"
      ]
     },
     "execution_count": 205,
     "metadata": {},
     "output_type": "execute_result"
    }
   ],
   "source": [
    "# mencari jumlah pelanggan yang masih lanjut menjadi member \n",
    "customer_retention_rate = df_revenue.groupby('shop_id')['customer_id'].nunique() / df_revenue.groupby('shop_id')['customer_id'].nunique().sum() * 100\n",
    "customer_retention_rate = customer_retention_rate.reset_index().rename(columns={'customer_id': 'retention_rate'})\n",
    "customer_retention_rate = customer_retention_rate.sort_values(by='retention_rate', ascending=False)\n",
    "customer_retention_rate.head()"
   ]
  },
  {
   "cell_type": "code",
   "execution_count": 206,
   "id": "57a0d86c-b8d8-4616-819e-004860de365e",
   "metadata": {},
   "outputs": [
    {
     "data": {
      "image/png": "[encoded data removed]",
      "text/plain": [
       "<Figure size 1000x600 with 1 Axes>"
      ]
     },
     "metadata": {},
     "output_type": "display_data"
    }
   ],
   "source": [
    "plt.figure(figsize=(10, 6))\n",
    "plt.bar(customer_retention_rate['shop_id'][:10], customer_retention_rate['retention_rate'][:10], color='gold')\n",
    "plt.xlabel('Shop ID')\n",
    "plt.ylabel('Customer Retention Rate (%)')\n",
    "plt.title('Top 10 Shops by Customer Retention Rate')\n",
    "plt.xticks(rotation=45)\n",
    "plt.tight_layout()\n",
    "plt.show()"
   ]
  },
  {
   "cell_type": "markdown",
   "id": "51a912e4-5831-40c9-aaed-4a14acf4fdbe",
   "metadata": {},
   "source": [
    "- berdasarkan gambar diatas dapat dilihat bahwa lebih dari 3% dari member tetap melanjtukan menjadi member dari bisis"
   ]
  },
  {
   "cell_type": "code",
   "execution_count": 207,
   "id": "3ea2d2dd-c283-408d-99f8-2a2fd1310df6",
   "metadata": {},
   "outputs": [
    {
     "data": {
      "text/html": [
       "<div>\n",
       "<style scoped>\n",
       "    .dataframe tbody tr th:only-of-type {\n",
       "        vertical-align: middle;\n",
       "    }\n",
       "\n",
       "    .dataframe tbody tr th {\n",
       "        vertical-align: top;\n",
       "    }\n",
       "\n",
       "    .dataframe thead th {\n",
       "        text-align: right;\n",
       "    }\n",
       "</style>\n",
       "<table border=\"1\" class=\"dataframe\">\n",
       "  <thead>\n",
       "    <tr style=\"text-align: right;\">\n",
       "      <th></th>\n",
       "      <th>shop_id</th>\n",
       "      <th>quantity</th>\n",
       "    </tr>\n",
       "  </thead>\n",
       "  <tbody>\n",
       "    <tr>\n",
       "      <th>7</th>\n",
       "      <td>Shop 15</td>\n",
       "      <td>40.283315</td>\n",
       "    </tr>\n",
       "    <tr>\n",
       "      <th>25</th>\n",
       "      <td>Shop 4</td>\n",
       "      <td>17.630855</td>\n",
       "    </tr>\n",
       "    <tr>\n",
       "      <th>23</th>\n",
       "      <td>Shop 3</td>\n",
       "      <td>17.075749</td>\n",
       "    </tr>\n",
       "    <tr>\n",
       "      <th>26</th>\n",
       "      <td>Shop 5</td>\n",
       "      <td>16.554070</td>\n",
       "    </tr>\n",
       "    <tr>\n",
       "      <th>18</th>\n",
       "      <td>Shop 25</td>\n",
       "      <td>15.330179</td>\n",
       "    </tr>\n",
       "  </tbody>\n",
       "</table>\n",
       "</div>"
      ],
      "text/plain": [
       "    shop_id   quantity\n",
       "7   Shop 15  40.283315\n",
       "25   Shop 4  17.630855\n",
       "23   Shop 3  17.075749\n",
       "26   Shop 5  16.554070\n",
       "18  Shop 25  15.330179"
      ]
     },
     "execution_count": 207,
     "metadata": {},
     "output_type": "execute_result"
    }
   ],
   "source": [
    "# rata rata jumlah item yang dibeli per transaksi\n",
    "avg_item_count = df_revenue.groupby('shop_id')['quantity'].mean().reset_index()\n",
    "avg_item_count = avg_item_count.sort_values(by='quantity', ascending=False)\n",
    "avg_item_count.head()"
   ]
  },
  {
   "cell_type": "code",
   "execution_count": 208,
   "id": "e8e156ec-e170-4cfb-a444-73286f944441",
   "metadata": {},
   "outputs": [
    {
     "data": {
      "image/png": "[encoded data removed]",
      "text/plain": [
       "<Figure size 1000x600 with 1 Axes>"
      ]
     },
     "metadata": {},
     "output_type": "display_data"
    }
   ],
   "source": [
    "plt.figure(figsize=(10, 6))\n",
    "plt.bar(avg_item_count['shop_id'][:5], avg_item_count['quantity'][:5], color='purple')\n",
    "plt.xlabel('Shop ID')\n",
    "plt.ylabel('Average Item Purchase')\n",
    "plt.title('Top 5 Shops by Average Item Purchase')\n",
    "plt.xticks(rotation=45)\n",
    "plt.tight_layout()\n",
    "plt.show()"
   ]
  },
  {
   "cell_type": "markdown",
   "id": "24abcb2a-d96e-4043-9bbc-63a42702fefe",
   "metadata": {},
   "source": [
    "- hanya shop 15 yang dimana rata-rata jumlah item yang dibeli konsumen mencapai 40 item \n",
    "- shop lainnya memiliki rata ratat jumlah item yang dibeli dibawah 20 item"
   ]
  },
  {
   "cell_type": "markdown",
   "id": "ff65199c-5977-435d-b5cb-b8dedf1db950",
   "metadata": {},
   "source": [
    "# Data Analisa : Item"
   ]
  },
  {
   "cell_type": "markdown",
   "id": "23b6269d-e896-45dd-af58-1932fdbd40be",
   "metadata": {},
   "source": [
    "1. Rata rata jumlah item yang dibeli berdasarkan loyalty program\n",
    "2. Item yang paling banyak terjual\n",
    "3. Rata-rata harga per item untuk setiap toko"
   ]
  },
  {
   "cell_type": "code",
   "execution_count": 209,
   "id": "66f00ceb-4d1c-4f03-87f6-17220120d0f2",
   "metadata": {},
   "outputs": [
    {
     "data": {
      "text/plain": [
       "loyalty_program\n",
       "0    7.337372\n",
       "1    9.768196\n",
       "Name: quantity, dtype: float64"
      ]
     },
     "execution_count": 209,
     "metadata": {},
     "output_type": "execute_result"
    }
   ],
   "source": [
    "#jumlah item per program \n",
    "avg_quantity_by_program = df_revenue.groupby('loyalty_program')['quantity'].mean()\n",
    "avg_quantity_by_program"
   ]
  },
  {
   "cell_type": "markdown",
   "id": "ffdecdea-1f3e-4ebc-9df2-e3cd677db92e",
   "metadata": {},
   "source": [
    "berdasarkan pengolahan data diatas dapat dilihat bahwa rata-rata jumlah item yang dibeli oleh konsumen member lebih banyak dibandingkan dengan non member. Besar item yang dibeli adalah 7 item untuk non member dan 10 untuk member"
   ]
  },
  {
   "cell_type": "code",
   "execution_count": 210,
   "id": "af2f615a-c351-4bcb-9d61-86a3648afa7e",
   "metadata": {},
   "outputs": [
    {
     "data": {
      "text/html": [
       "<div>\n",
       "<style scoped>\n",
       "    .dataframe tbody tr th:only-of-type {\n",
       "        vertical-align: middle;\n",
       "    }\n",
       "\n",
       "    .dataframe tbody tr th {\n",
       "        vertical-align: top;\n",
       "    }\n",
       "\n",
       "    .dataframe thead th {\n",
       "        text-align: right;\n",
       "    }\n",
       "</style>\n",
       "<table border=\"1\" class=\"dataframe\">\n",
       "  <thead>\n",
       "    <tr style=\"text-align: right;\">\n",
       "      <th></th>\n",
       "      <th>item_id</th>\n",
       "      <th>quantity</th>\n",
       "    </tr>\n",
       "  </thead>\n",
       "  <tbody>\n",
       "    <tr>\n",
       "      <th>0</th>\n",
       "      <td>84077</td>\n",
       "      <td>10126</td>\n",
       "    </tr>\n",
       "    <tr>\n",
       "      <th>1</th>\n",
       "      <td>85123A</td>\n",
       "      <td>10051</td>\n",
       "    </tr>\n",
       "    <tr>\n",
       "      <th>2</th>\n",
       "      <td>21212</td>\n",
       "      <td>9291</td>\n",
       "    </tr>\n",
       "    <tr>\n",
       "      <th>3</th>\n",
       "      <td>85099B</td>\n",
       "      <td>7471</td>\n",
       "    </tr>\n",
       "    <tr>\n",
       "      <th>4</th>\n",
       "      <td>22197</td>\n",
       "      <td>6918</td>\n",
       "    </tr>\n",
       "  </tbody>\n",
       "</table>\n",
       "</div>"
      ],
      "text/plain": [
       "  item_id  quantity\n",
       "0   84077     10126\n",
       "1  85123A     10051\n",
       "2   21212      9291\n",
       "3  85099B      7471\n",
       "4   22197      6918"
      ]
     },
     "execution_count": 210,
     "metadata": {},
     "output_type": "execute_result"
    }
   ],
   "source": [
    "#produk yang paling populer \n",
    "top_items = df_revenue.groupby('item_id')['quantity'].sum().sort_values(ascending=False).head(5)\n",
    "top_items.reset_index()"
   ]
  },
  {
   "cell_type": "markdown",
   "id": "109a3cca-e19b-4ef3-a398-3aafe2fe76aa",
   "metadata": {},
   "source": [
    "berdasarkan tabel diatas dapat diketahui produk dengan item id 84077 dan 85123A merupakan 2 item yang paling populer dalam 3 bulan rekapan data yang dimiliki. Jumlah produk yang terjual mencapai lebih dari 10K unit"
   ]
  },
  {
   "cell_type": "code",
   "execution_count": 211,
   "id": "98f0fd7e-b9b1-4d3b-b369-bd7f1fa82ce8",
   "metadata": {},
   "outputs": [
    {
     "data": {
      "text/html": [
       "<div>\n",
       "<style scoped>\n",
       "    .dataframe tbody tr th:only-of-type {\n",
       "        vertical-align: middle;\n",
       "    }\n",
       "\n",
       "    .dataframe tbody tr th {\n",
       "        vertical-align: top;\n",
       "    }\n",
       "\n",
       "    .dataframe thead th {\n",
       "        text-align: right;\n",
       "    }\n",
       "</style>\n",
       "<table border=\"1\" class=\"dataframe\">\n",
       "  <thead>\n",
       "    <tr style=\"text-align: right;\">\n",
       "      <th></th>\n",
       "      <th>shop_id</th>\n",
       "      <th>price_per_one</th>\n",
       "    </tr>\n",
       "  </thead>\n",
       "  <tbody>\n",
       "    <tr>\n",
       "      <th>2</th>\n",
       "      <td>Shop 10</td>\n",
       "      <td>2.390128</td>\n",
       "    </tr>\n",
       "    <tr>\n",
       "      <th>14</th>\n",
       "      <td>Shop 21</td>\n",
       "      <td>2.340406</td>\n",
       "    </tr>\n",
       "    <tr>\n",
       "      <th>5</th>\n",
       "      <td>Shop 13</td>\n",
       "      <td>2.330693</td>\n",
       "    </tr>\n",
       "    <tr>\n",
       "      <th>22</th>\n",
       "      <td>Shop 29</td>\n",
       "      <td>2.320752</td>\n",
       "    </tr>\n",
       "    <tr>\n",
       "      <th>6</th>\n",
       "      <td>Shop 14</td>\n",
       "      <td>2.316238</td>\n",
       "    </tr>\n",
       "  </tbody>\n",
       "</table>\n",
       "</div>"
      ],
      "text/plain": [
       "    shop_id  price_per_one\n",
       "2   Shop 10       2.390128\n",
       "14  Shop 21       2.340406\n",
       "5   Shop 13       2.330693\n",
       "22  Shop 29       2.320752\n",
       "6   Shop 14       2.316238"
      ]
     },
     "execution_count": 211,
     "metadata": {},
     "output_type": "execute_result"
    }
   ],
   "source": [
    "#rata rata harga item di berbagai toko\n",
    "avg_price_shop = df_revenue.groupby('shop_id')['price_per_one'].mean().reset_index().sort_values(by='price_per_one', ascending=False)\n",
    "avg_price_shop.head()"
   ]
  },
  {
   "cell_type": "code",
   "execution_count": 212,
   "id": "f2b56c76-311d-4bb0-97ed-e058a66c9f0d",
   "metadata": {},
   "outputs": [
    {
     "data": {
      "image/png": "[encoded data removed]",
      "text/plain": [
       "<Figure size 1000x600 with 1 Axes>"
      ]
     },
     "metadata": {},
     "output_type": "display_data"
    }
   ],
   "source": [
    "plt.figure(figsize=(10, 6))\n",
    "sns.barplot(x='shop_id', y='price_per_one', data=avg_price_shop, palette='viridis')\n",
    "plt.title('Average Price per Item by Shop')\n",
    "plt.xlabel('Shop ID')\n",
    "plt.ylabel('Average Price per Item')\n",
    "plt.xticks(rotation=45)\n",
    "plt.tight_layout()\n",
    "plt.show()"
   ]
  },
  {
   "cell_type": "markdown",
   "id": "aebd2554-ae95-4715-b3f0-19a26360e737",
   "metadata": {},
   "source": [
    "- berdasarkan bar chart yang ditampilkan dapat diketahui bahwa secara keseluruhan toko menjual produknya dengan nilai diatas 2 dolar.\n",
    "- shop 10 merupakan toko dengan harga rata rata per unit yang paling tinggi yakni 2.39 dolar \n",
    "- shop 0 merupakan toko dengan harga rata rata per unit yang paling rendah yakni 2 dolar"
   ]
  },
  {
   "cell_type": "markdown",
   "id": "35358748-9217-4f92-82d3-c00adfb19eba",
   "metadata": {},
   "source": [
    "# Korelasi"
   ]
  },
  {
   "cell_type": "code",
   "execution_count": 213,
   "id": "61793726-cc02-4fb3-ad23-74935507a8d7",
   "metadata": {},
   "outputs": [
    {
     "data": {
      "text/html": [
       "<div>\n",
       "<style scoped>\n",
       "    .dataframe tbody tr th:only-of-type {\n",
       "        vertical-align: middle;\n",
       "    }\n",
       "\n",
       "    .dataframe tbody tr th {\n",
       "        vertical-align: top;\n",
       "    }\n",
       "\n",
       "    .dataframe thead th {\n",
       "        text-align: right;\n",
       "    }\n",
       "</style>\n",
       "<table border=\"1\" class=\"dataframe\">\n",
       "  <thead>\n",
       "    <tr style=\"text-align: right;\">\n",
       "      <th></th>\n",
       "      <th>quantity</th>\n",
       "      <th>customer_id</th>\n",
       "      <th>loyalty_program</th>\n",
       "      <th>purchase_date</th>\n",
       "      <th>price_per_one</th>\n",
       "      <th>total_revenue</th>\n",
       "    </tr>\n",
       "  </thead>\n",
       "  <tbody>\n",
       "    <tr>\n",
       "      <th>quantity</th>\n",
       "      <td>1.000000</td>\n",
       "      <td>0.006209</td>\n",
       "      <td>0.003077</td>\n",
       "      <td>0.002178</td>\n",
       "      <td>-0.005644</td>\n",
       "      <td>0.986725</td>\n",
       "    </tr>\n",
       "    <tr>\n",
       "      <th>customer_id</th>\n",
       "      <td>0.006209</td>\n",
       "      <td>1.000000</td>\n",
       "      <td>0.837002</td>\n",
       "      <td>0.010261</td>\n",
       "      <td>0.026754</td>\n",
       "      <td>0.007178</td>\n",
       "    </tr>\n",
       "    <tr>\n",
       "      <th>loyalty_program</th>\n",
       "      <td>0.003077</td>\n",
       "      <td>0.837002</td>\n",
       "      <td>1.000000</td>\n",
       "      <td>0.007724</td>\n",
       "      <td>0.010934</td>\n",
       "      <td>0.002860</td>\n",
       "    </tr>\n",
       "    <tr>\n",
       "      <th>purchase_date</th>\n",
       "      <td>0.002178</td>\n",
       "      <td>0.010261</td>\n",
       "      <td>0.007724</td>\n",
       "      <td>1.000000</td>\n",
       "      <td>0.007329</td>\n",
       "      <td>0.001815</td>\n",
       "    </tr>\n",
       "    <tr>\n",
       "      <th>price_per_one</th>\n",
       "      <td>-0.005644</td>\n",
       "      <td>0.026754</td>\n",
       "      <td>0.010934</td>\n",
       "      <td>0.007329</td>\n",
       "      <td>1.000000</td>\n",
       "      <td>0.007378</td>\n",
       "    </tr>\n",
       "    <tr>\n",
       "      <th>total_revenue</th>\n",
       "      <td>0.986725</td>\n",
       "      <td>0.007178</td>\n",
       "      <td>0.002860</td>\n",
       "      <td>0.001815</td>\n",
       "      <td>0.007378</td>\n",
       "      <td>1.000000</td>\n",
       "    </tr>\n",
       "  </tbody>\n",
       "</table>\n",
       "</div>"
      ],
      "text/plain": [
       "                 quantity  customer_id  loyalty_program  purchase_date  \\\n",
       "quantity         1.000000     0.006209         0.003077       0.002178   \n",
       "customer_id      0.006209     1.000000         0.837002       0.010261   \n",
       "loyalty_program  0.003077     0.837002         1.000000       0.007724   \n",
       "purchase_date    0.002178     0.010261         0.007724       1.000000   \n",
       "price_per_one   -0.005644     0.026754         0.010934       0.007329   \n",
       "total_revenue    0.986725     0.007178         0.002860       0.001815   \n",
       "\n",
       "                 price_per_one  total_revenue  \n",
       "quantity             -0.005644       0.986725  \n",
       "customer_id           0.026754       0.007178  \n",
       "loyalty_program       0.010934       0.002860  \n",
       "purchase_date         0.007329       0.001815  \n",
       "price_per_one         1.000000       0.007378  \n",
       "total_revenue         0.007378       1.000000  "
      ]
     },
     "execution_count": 213,
     "metadata": {},
     "output_type": "execute_result"
    }
   ],
   "source": [
    "#cek korelasi antar kolom df_revenue\n",
    "numeric_columns = ['quantity', 'customer_id', 'loyalty_program', 'purchase_date', 'price_per_one', 'total_revenue']\n",
    "corr_matrix = df_revenue[numeric_columns].corr()\n",
    "corr_matrix"
   ]
  },
  {
   "cell_type": "code",
   "execution_count": 214,
   "id": "a8c7ae27-3bc0-4e7b-b32e-898965409158",
   "metadata": {},
   "outputs": [
    {
     "data": {
      "image/png": "[encoded data removed]",
      "text/plain": [
       "<Figure size 1000x800 with 2 Axes>"
      ]
     },
     "metadata": {},
     "output_type": "display_data"
    }
   ],
   "source": [
    "plt.figure(figsize=(10, 8))\n",
    "sns.heatmap(corr_matrix, annot=True, cmap='coolwarm', fmt='.2f', annot_kws={'size': 10})\n",
    "plt.title('Correlation Heatmap')\n",
    "plt.show()"
   ]
  },
  {
   "cell_type": "markdown",
   "id": "7f2f5b19-ee44-442b-b1e5-53942d8b9e1f",
   "metadata": {},
   "source": [
    "berdasarkan hasil heatmap dapat diketahui terdapat 2 pasang kolom yang memiliki ikatan positif yang kuat yaitu \n",
    "- quantity dengan revenue dengan korelasi 0.99\n",
    "- cusotmer id dengan loyalty program dengan korelasi 0.84"
   ]
  },
  {
   "cell_type": "markdown",
   "id": "0f1218dd-42b3-4901-b43f-7dd2d10dad96",
   "metadata": {},
   "source": [
    "# Hypothesis Testing"
   ]
  },
  {
   "cell_type": "markdown",
   "id": "ea0e827f-d9fb-48c7-b23a-8c8ca400e6ec",
   "metadata": {},
   "source": [
    "hypothesis testing 1 : loyalty program dengan shop id \n",
    "- H0 = Tidak terdapat hubungan antar program loyalty dengan loksi gerai\n",
    "- H1 = Terdapat hubungan antar program loyalty dengan lokasi gerai \n",
    "- alpha = 0.05"
   ]
  },
  {
   "cell_type": "code",
   "execution_count": 215,
   "id": "8ae64b87-c052-4127-aca2-fa01ec7e7998",
   "metadata": {},
   "outputs": [
    {
     "name": "stdout",
     "output_type": "stream",
     "text": [
      "Chi-square value: 15043.79479687821\n",
      "P-value: 0.0\n"
     ]
    }
   ],
   "source": [
    "observe = pd.crosstab(df_revenue['loyalty_program'],df_revenue['shop_id'])\n",
    "\n",
    "chi2, p, dof, expected = chi2_contingency(observe)\n",
    "\n",
    "print(f\"Chi-square value: {chi2}\")\n",
    "print(f\"P-value: {p}\")"
   ]
  },
  {
   "cell_type": "markdown",
   "id": "7684c5d2-f67a-442f-84d7-0af067c44b1b",
   "metadata": {},
   "source": [
    "berdasarkan hasil pengolahan data dapat dilihat bahwa hasil chi square sangat besar serta p-value yang kecil dari 0.05. Hal ini berarti kita memilih untuk MENOLAK H0, dimana lokasi gerai menentukan jumlah konsumen yang akan menjadi konsumen tetap bisnis"
   ]
  },
  {
   "cell_type": "markdown",
   "id": "1e799ac2-c928-494f-8454-81607c836979",
   "metadata": {},
   "source": [
    "hipotesis testing 2: loyalty program dengan total revenue\n",
    "- H0 = Tidak ada perbedaan yang signifikan dalam rata-rata pendapatan total antara pelanggan yang terdaftar dalam program loyalitas dan yang tidak.\n",
    "- H1 =  Terdapat perbedaan yang signifikan dalam rata-rata pendapatan total antara pelanggan yang terdaftar dalam program loyalitas dan yang tidak.\n",
    "- alpha : 0.05"
   ]
  },
  {
   "cell_type": "code",
   "execution_count": 216,
   "id": "98494ce3-18db-4978-ae09-bbc6c41b7116",
   "metadata": {},
   "outputs": [
    {
     "name": "stdout",
     "output_type": "stream",
     "text": [
      "T-test statistic: 1.631148455028112\n",
      "P-value: 0.10286226001572672\n",
      "Fail to reject null hypothesis: There is no significant difference in mean total revenue between loyalty program and non-loyalty program customers.\n"
     ]
    }
   ],
   "source": [
    "loyalty_revenue = df_revenue[df_revenue['loyalty_program'] == 1]['total_revenue']\n",
    "non_loyalty_revenue = df_revenue[df_revenue['loyalty_program'] == 0]['total_revenue']\n",
    "\n",
    "t_statistic, p_value = ttest_ind(loyalty_revenue, non_loyalty_revenue, equal_var=False)\n",
    "\n",
    "print(f\"T-test statistic: {t_statistic}\")\n",
    "print(f\"P-value: {p_value}\")\n",
    "\n",
    "alpha = 0.05\n",
    "if p_value < alpha:\n",
    "    print(\"Reject null hypothesis: There is a significant difference in mean total revenue between loyalty program and non-loyalty program customers.\")\n",
    "else:\n",
    "    print(\"Fail to reject null hypothesis: There is no significant difference in mean total revenue between loyalty program and non-loyalty program customers.\")"
   ]
  },
  {
   "cell_type": "markdown",
   "id": "abcd773c-ed04-4efc-87c9-875c71766451",
   "metadata": {},
   "source": [
    "berdasarkan hasil perhitungan diatas dapat diketahui bahwa \n",
    "- dikarenakan nilai p-value yang lebih besar dibandingkan alpha maka, kita TERIMA H0. artinya tidak cukup bukti untuk menyatakan bahwa terdapat perbedaan yang signifikan antar kelompok\n",
    "- ada maupun tidak ada program loyal tidak mempengaruhi besar pendapatan bisnis yang akan diperoleh"
   ]
  },
  {
   "cell_type": "markdown",
   "id": "225f2146-1c0d-45a0-b3b3-459fdc4f8668",
   "metadata": {},
   "source": [
    "# Kesimpulan"
   ]
  },
  {
   "cell_type": "markdown",
   "id": "10f0416d-1f3b-4772-b5fc-e1c8857108f6",
   "metadata": {},
   "source": [
    "TAHAP : DATA EKSPLOR\n",
    "- proyek terdiri ari 2 dataset yaitu df_retail dan df_product \n",
    "- df_retail :\n",
    "\t- data terdiri dari 105335 baris dengan 7 kolom \n",
    "\t- penulisan nama kolom tidak sesuai \n",
    "\t- tipe kolom yang memuat tanggal tidak sesuai \n",
    "\t- terdapat missing value pada kolom customer id \n",
    "\t- terdapat 1033 baris duplikasi \n",
    "- df_product :\n",
    "\t- data terdiri dari 3159 baris dengan 2 kolom \n",
    "\t- data tidak memiliki duplikasi \n",
    "\t- data tidak memiliki missing value \n",
    "\t- penulisan nama kolom perlu diperbaiki \n",
    "\t- tipe data sudah sesuai\n",
    "\n",
    "TAHAP : DATA ANALISIS\n",
    "- purchase \n",
    "\t- data rekapan dimulai dari 1 Desember 2016 dan diakhiri pada tanggal 28 Februari 2017\n",
    "\t- frekuensi pembelian tertinggi harian tercatat pada tanggal 6 Desember 2016 dengan 3830 kali aktivitas pembelian \n",
    "\t- rata-rata dalam 1 hari terdapat 1533 aktivtas pembelian \n",
    "\t- bulan desember tercatat sebagai bulan yang memiliki rekuensi aktivitas pembelian tertinggi yakni mencapai 41955 kali \n",
    "\t- berdasarkan tahun, diketahui aktivitas pembelian pada tahun 2017 lebih tinggi dibandingkan dengan tahun 2016 (62347 > 41955)\n",
    "\t- volume pembelian tertinggi jatuh pada tanggal 16 Desember 2016 dengan menjual 27635 unit \n",
    "\t- rata-rata retial bahan bangunan mampu menjual sebanyak 12091 unit per hari\n",
    "\t- total volume penjualan bisnis dalam 3 bulan tersebut tidak terlalu jauh dimana tiap bulannya bisnis mampu menjual lebih dari 200ribu unit\n",
    "\t- total volume penjualan pada tahun 2016 mencapai 298889 sedangkan pada tahun 2017 mencapai 523324\n",
    "\t- jumlah user unik tertinggi dalam sehari mencapai 122 id \n",
    "\t- rata-rata dalam 1 hari ditemukannya 53 user id berbeda \n",
    "\t- total user id bulan desember mencapai 948, bulan januari menurun menjadi 798 dan ditutup menjadi 783 pada bulan februari\n",
    "\t- pada tahun 2017 ditemukan sebanyak 1282 user id yang tercatat melakukan transaksi , sedangkan pada tahun 2016 hanya 948 id\n",
    "\n",
    "- revenue\n",
    "    - bisnis memperoleh pendapatan yang berfluktuasi dan disertai dengan tren menurun\n",
    "    - dalam 1 hari bisnis mampu meraup total pendapatan sebesar 14.344,795 dolar\n",
    "    - pedapatan tertinggi bisnis tercatat pada tanggal 7 Desember 2016 dengan total pendapatan sebesar 41.62043 dolar\n",
    "    - pendapatan terendah bisnis tercatat pada tanggal 6 Februari 2017 dengan total pendapatan sebesar 1.888,13 dolar\n",
    "    - pendapatan bisnis pada tahun 2016 adalah 361.327,71 dolar dan pada tahun 2017 adalah 641.118,35 dolar\n",
    " \n",
    "- loyalty program\n",
    "    - 587 dari 1749 id unik yang bergabung menjadi member dari bisnis\n",
    "    - pendapatan bisnis lebih banyak dikontribusi oleh konsumen non member\n",
    "    - frekuensi kelompok member lebih kecil dari pada kelompok non member (1: 3)\n",
    "    - volume penjualan kelompok member lebih kecil dari pada kelompok non member (1:2)\n",
    "\n",
    "- shop id\n",
    "    - proyek ini melibatkan 31 gerai\n",
    "    - shop 15 dan shop 0 memiliki total pendapatan tertinggi yakni lebih dari 100K dolar\n",
    "    - shop 15 memiliki rata-rata pendapatan per transaksi tertinggi yakni mencapai lebih dari 40 dolar, 4 gerai lainnya (dari top 5) memiliki rata rata pendapatan kurang dari 25 dolar\n",
    "    - hanya shop 15 yang memiliki total volume lebih dari 37000 unit, sedangkan yang lainnya kurang dari 5000 unit\n",
    "    - rata-rata 3% dari member per masing masing toko memutuskan untuk tetap lanjut berlangganan member dengan bisnis\n",
    "    - shop 15 memiliki rata rata jumlah item yang dibeli setiap transaksi mencapai 40 unit sedangkan yang lainnya dibawah dari 20\n",
    " \n",
    "- item\n",
    "  - rata rata jumlah item yang dibeli per transkasi oleh program member lebih besar dibandingkan dengan non program (9,8 > 7,3)\n",
    "  - item yang paling populer dari toko bangunan adalah produk dengan item id item id 84077 dan 85123A, dimana penjualan kedua produk tersebut mencapai 10ribu unit lebih dalam 3 bulan\n",
    "  - rata-rata harga per unit dari seluruh toko retail bangunan adalah 2 dolar\n",
    " \n",
    "TAHAP : KORELASI \n",
    "  - total revenue dipengaruhi kuat dengan jumlah quantity yang dibeli (korelasi 0.99)\n",
    "  - jumlah customer id cukup kuat memperanguhi jumalah customer yang terbagi dalam loyalty program (0.84)\n",
    "\n",
    "TAHAP : HYPOTHESIS TESTING\n",
    " - terdapat 2 uji hipotesis yang dilakukan\n",
    " - lokasi toko dengan program loyalitas : hasil yang diperoleh adalah lokasi toko mempengaruhi jumlah konsumen yang bergabung menjadi anggota loyal bisnis\n",
    " - rata rata pendapatan antara member dengan non member : hasil yang diperoleh adalah tidak terdapat perbedaan yang signifikan rata rata pendapatan antara anggota member bisnis dengan yang tidak"
   ]
  },
  {
   "cell_type": "markdown",
   "id": "b7bb59c7-a4ed-4f9a-83a5-e0b69f981282",
   "metadata": {},
   "source": [
    "# Rekomendasi"
   ]
  },
  {
   "cell_type": "markdown",
   "id": "f3e109a2-67cb-4110-a635-cf85137e28ef",
   "metadata": {},
   "source": [
    "1. **Meningkatkan Strategi Keterlibatan dan Retensi Pelanggan:**\n",
    " - Mengingat tren pendapatan yang berfluktuasi dan kontribusi anggota program loyalitas yang lebih rendah, fokuslah pada peningkatan proposisi nilai bagi anggota program loyalitas. Hal ini dapat mencakup penawaran diskon eksklusif, penawaran yang dipersonalisasi, atau hadiah untuk meningkatkan keterlibatan anggota.\n",
    "\n",
    "2. **Optimalkan Kinerja Toko:**\n",
    " - Identifikasi toko seperti Toko 15 dan Toko 0 yang menghasilkan pendapatan besar dan memiliki nilai transaksi per pelanggan yang tinggi. Mengalokasikan sumber daya dan upaya pemasaran untuk lebih memanfaatkan keberhasilan mereka dan meniru strategi efektif di lokasi lain.\n",
    "\n",
    "3. **Meningkatkan Manajemen Inventaris:**\n",
    " - Popularitas item seperti item id 84077 dan 85123A menunjukkan permintaan yang kuat. Pastikan tingkat stok yang memadai untuk barang-barang populer ini untuk mencegah kehabisan stok dan memanfaatkan permintaan pelanggan.\n",
    "\n",
    "4. **Pemasaran dan Promosi:**\n",
    " - Memanfaatkan wawasan tentang periode puncak pembelian (misalnya, aktivitas harian tinggi pada tanggal 6 Desember 2016) untuk merencanakan promosi dan kampanye pemasaran secara strategis. Selaraskan promosi dengan periode penjualan bervolume tinggi untuk memaksimalkan pendapatan.\n",
    "\n",
    "5. **Segmentasi dan Personalisasi Pelanggan:**\n",
    " - Memanfaatkan wawasan segmentasi pelanggan untuk menyesuaikan pesan pemasaran dan penawaran produk. Fokus untuk mengubah non-anggota menjadi peserta program loyalitas dengan menyoroti manfaat dan imbalan yang sesuai dengan perilaku pembelian mereka.\n",
    "\n",
    "6. **Efisiensi Operasional:**\n",
    " - Merampingkan operasi berdasarkan pemahaman bahwa total pendapatan berkorelasi kuat dengan kuantitas pembelian. Menerapkan langkah-langkah efisiensi untuk menangani periode permintaan puncak secara efektif dan mengoptimalkan sumber daya.\n",
    "\n",
    "7. **Strategi Program Loyalitas Jangka Panjang:**\n",
    " - Mengatasi kesenjangan frekuensi anggota dan volume penjualan dibandingkan non-anggota. Pertimbangkan untuk merevisi struktur program loyalitas atau insentif untuk menarik dan mempertahankan lebih banyak anggota, memastikan hal tersebut sejalan dengan preferensi dan perilaku pelanggan.\n",
    "\n",
    "8. **Pemantauan dan Adaptasi Berkelanjutan:**\n",
    " - Mengingat beragamnya tren dan perilaku pelanggan yang diamati selama beberapa bulan dan tahun berbeda, buatlah sistem pemantauan yang kuat. Analisis data secara terus-menerus untuk segera mengadaptasi strategi sebagai respons terhadap perubahan dinamika pasar dan preferensi pelanggan."
   ]
  }
 ],
 "metadata": {
  "kernelspec": {
   "display_name": "Python 3 (ipykernel)",
   "language": "python",
   "name": "python3"
  },
  "language_info": {
   "codemirror_mode": {
    "name": "ipython",
    "version": 3
   },
   "file_extension": ".py",
   "mimetype": "text/x-python",
   "name": "python",
   "nbconvert_exporter": "python",
   "pygments_lexer": "ipython3",
   "version": "3.11.7"
  }
 },
 "nbformat": 4,
 "nbformat_minor": 5
}
