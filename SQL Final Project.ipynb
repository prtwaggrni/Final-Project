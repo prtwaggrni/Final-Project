{
 "cells": [
  {
   "cell_type": "markdown",
   "metadata": {},
   "source": [
    "# Konten\n",
    "1. Overview Proyek\n",
    "2. Objektif Proyek\n",
    "3. Deskripsi Data\n",
    "4. Import library & Eksplorasi Data\n",
    "5. Pengolahan Data\n",
    "6. Kesimpulan "
   ]
  },
  {
   "cell_type": "markdown",
   "metadata": {},
   "source": [
    "# Overview Proyek\n",
    "󠀰Virus corona yang kehadirannya mengejutkan seluruh dunia telah mengubah rutinitas harian semua orang.󠀲󠀡󠀠󠀦󠀥󠀨󠀧󠀢󠀳󠀰 Kini, warga kota tidak lagi menghabiskan waktu luangnya di luar rumah seperti pergi ke kafe dan mal. Mereka lebih sering berada di rumah, menghabiskan waktunya dengan membaca buku.󠀲󠀡󠀠󠀦󠀥󠀨󠀧󠀣󠀳󠀰 Hal ini pun mendorong perusahaan startup untuk mengembangkan aplikasi baru bagi para pecinta buku.󠀲󠀡󠀠󠀦󠀥󠀨󠀧󠀤󠀳\n",
    "\n",
    "󠀰Kamu telah diberi sebuah database dari salah satu perusahaan yang bersaing dalam industri ini.󠀲󠀡󠀠󠀦󠀥󠀨󠀧󠀥󠀳󠀰 Database tersebut berisi data tentang buku, penerbit, penulis, serta rating dan ulasan pelanggan atas buku terkait.󠀲󠀡󠀠󠀦󠀥󠀨󠀧󠀦󠀳󠀰 Informasi ini akan digunakan dalam membuat penawaran harga untuk sebuah produk baru."
   ]
  },
  {
   "cell_type": "markdown",
   "metadata": {},
   "source": [
    "# Objektif Proyek\n",
    "1. Hitung jumlah buku yang dirilis setelah tanggal 1 Januari 2000.󠀲󠀡󠀠󠀦󠀥󠀩󠀠󠀩󠀳\n",
    "2. Hitung jumlah ulasan pengguna dan rating rata-rata untuk setiap buku.󠀲󠀡󠀠󠀦󠀥󠀩󠀡󠀠󠀳\n",
    "3. Identifikasi penerbit yang telah menerbitkan jumlah buku terbanyak dengan jumlah halaman lebih dari 50 (hal ini akan membantumu dalam mengecualikan brosur dan publikasi serupa dari analisismu).󠀲󠀡󠀠󠀦󠀥󠀩󠀡󠀡󠀳\n",
    "4. Identifikasi penulis dengan rating rata-rata buku tertinggi: temukan buku dengan rating minimal 50.󠀲󠀡󠀠󠀦󠀥󠀩󠀡󠀢󠀳\n",
    "5. Hitung jumlah rata-rata teks ulasan di antara pengguna yang memberi rating terhadap lebih dari 50 buku."
   ]
  },
  {
   "cell_type": "markdown",
   "metadata": {},
   "source": [
    "# Deskripsi data\n",
    "\n",
    "books:Berisi data tentang buku:\n",
    "\n",
    "- book_id — ID buku\n",
    "- author_id — ID penulis\n",
    "- title — judul buku\n",
    "- num_pages — jumlah halaman\n",
    "- publication_date — tanggal penerbitan\n",
    "- publisher_id — ID penerbit\n",
    "\n",
    "authors:Berisi data tentang penulis:\n",
    "\n",
    "- author_id — ID penulis\n",
    "- author — nama penulis\n",
    "- publishers:\n",
    "\n",
    "Berisi data tentang penerbit:\n",
    "\n",
    "- publisher_id — ID penerbit\n",
    "- publisher — nama penerbit\n",
    "- ratings:\n",
    "\n",
    "󠀰Berisi data tentang rating pengguna:\n",
    "\n",
    "- rating_id — ID rating\n",
    "- book_id — ID buku\n",
    "- username — nama pengguna yang memberi rating buku\n",
    "- rating\n",
    "- reviews:\n",
    "\n",
    "Berisi data tentang ulasan pelanggan:\n",
    "\n",
    "- review_id — ID ulasan\n",
    "- book_id — ID buku\n",
    "- username — nama pengguna yang mengulas buku\n",
    "- text — teks ulasan"
   ]
  },
  {
   "cell_type": "markdown",
   "metadata": {},
   "source": [
    "# Import Library"
   ]
  },
  {
   "cell_type": "code",
   "execution_count": 1,
   "metadata": {},
   "outputs": [],
   "source": [
    "# impor library yang diperlukan\n",
    "import pandas as pd\n",
    "from sqlalchemy import create_engine\n",
    "from IPython.display import Markdown, display\n",
    "\n",
    "db_config = {'user': 'practicum_student',         # nama pengguna\n",
    "             'pwd': 's65BlTKV3faNIGhmvJVzOqhs', # kata sandi\n",
    "             'host': 'rc1b-wcoijxj3yxfsf3fs.mdb.yandexcloud.net',\n",
    "             'port': 6432,              # port koneksi\n",
    "             'db': 'data-analyst-final-project-db'}          # nama database\n",
    "\n",
    "connection_string = 'postgresql://{}:{}@{}:{}/{}'.format(db_config['user'],\n",
    "                                                                     db_config['pwd'],\n",
    "                                                                       db_config['host'],\n",
    "                                                                       db_config['port'],\n",
    "                                                                       db_config['db'])\n",
    "\n",
    "engine = create_engine(connection_string, connect_args={'sslmode':'require'})"
   ]
  },
  {
   "cell_type": "markdown",
   "metadata": {},
   "source": [
    "# Eksplorasi Data"
   ]
  },
  {
   "cell_type": "code",
   "execution_count": 2,
   "metadata": {},
   "outputs": [],
   "source": [
    "def query(query_string):\n",
    "    return pd.io.sql.read_sql(query_string, con = engine)"
   ]
  },
  {
   "cell_type": "code",
   "execution_count": 3,
   "metadata": {
    "scrolled": false
   },
   "outputs": [
    {
     "name": "stdout",
     "output_type": "stream",
     "text": [
      "Table: books\n",
      "<class 'pandas.core.frame.DataFrame'>\n",
      "RangeIndex: 1000 entries, 0 to 999\n",
      "Data columns (total 6 columns):\n",
      " #   Column            Non-Null Count  Dtype \n",
      "---  ------            --------------  ----- \n",
      " 0   book_id           1000 non-null   int64 \n",
      " 1   author_id         1000 non-null   int64 \n",
      " 2   title             1000 non-null   object\n",
      " 3   num_pages         1000 non-null   int64 \n",
      " 4   publication_date  1000 non-null   object\n",
      " 5   publisher_id      1000 non-null   int64 \n",
      "dtypes: int64(4), object(2)\n",
      "memory usage: 47.0+ KB\n"
     ]
    },
    {
     "data": {
      "text/plain": [
       "None"
      ]
     },
     "metadata": {},
     "output_type": "display_data"
    },
    {
     "data": {
      "text/html": [
       "<div>\n",
       "<style scoped>\n",
       "    .dataframe tbody tr th:only-of-type {\n",
       "        vertical-align: middle;\n",
       "    }\n",
       "\n",
       "    .dataframe tbody tr th {\n",
       "        vertical-align: top;\n",
       "    }\n",
       "\n",
       "    .dataframe thead th {\n",
       "        text-align: right;\n",
       "    }\n",
       "</style>\n",
       "<table border=\"1\" class=\"dataframe\">\n",
       "  <thead>\n",
       "    <tr style=\"text-align: right;\">\n",
       "      <th></th>\n",
       "      <th>book_id</th>\n",
       "      <th>author_id</th>\n",
       "      <th>title</th>\n",
       "      <th>num_pages</th>\n",
       "      <th>publication_date</th>\n",
       "      <th>publisher_id</th>\n",
       "    </tr>\n",
       "  </thead>\n",
       "  <tbody>\n",
       "    <tr>\n",
       "      <th>0</th>\n",
       "      <td>1</td>\n",
       "      <td>546</td>\n",
       "      <td>'Salem's Lot</td>\n",
       "      <td>594</td>\n",
       "      <td>2005-11-01</td>\n",
       "      <td>93</td>\n",
       "    </tr>\n",
       "    <tr>\n",
       "      <th>1</th>\n",
       "      <td>2</td>\n",
       "      <td>465</td>\n",
       "      <td>1 000 Places to See Before You Die</td>\n",
       "      <td>992</td>\n",
       "      <td>2003-05-22</td>\n",
       "      <td>336</td>\n",
       "    </tr>\n",
       "    <tr>\n",
       "      <th>2</th>\n",
       "      <td>3</td>\n",
       "      <td>407</td>\n",
       "      <td>13 Little Blue Envelopes (Little Blue Envelope...</td>\n",
       "      <td>322</td>\n",
       "      <td>2010-12-21</td>\n",
       "      <td>135</td>\n",
       "    </tr>\n",
       "    <tr>\n",
       "      <th>3</th>\n",
       "      <td>4</td>\n",
       "      <td>82</td>\n",
       "      <td>1491: New Revelations of the Americas Before C...</td>\n",
       "      <td>541</td>\n",
       "      <td>2006-10-10</td>\n",
       "      <td>309</td>\n",
       "    </tr>\n",
       "    <tr>\n",
       "      <th>4</th>\n",
       "      <td>5</td>\n",
       "      <td>125</td>\n",
       "      <td>1776</td>\n",
       "      <td>386</td>\n",
       "      <td>2006-07-04</td>\n",
       "      <td>268</td>\n",
       "    </tr>\n",
       "  </tbody>\n",
       "</table>\n",
       "</div>"
      ],
      "text/plain": [
       "   book_id  author_id                                              title  \\\n",
       "0        1        546                                       'Salem's Lot   \n",
       "1        2        465                 1 000 Places to See Before You Die   \n",
       "2        3        407  13 Little Blue Envelopes (Little Blue Envelope...   \n",
       "3        4         82  1491: New Revelations of the Americas Before C...   \n",
       "4        5        125                                               1776   \n",
       "\n",
       "   num_pages publication_date  publisher_id  \n",
       "0        594       2005-11-01            93  \n",
       "1        992       2003-05-22           336  \n",
       "2        322       2010-12-21           135  \n",
       "3        541       2006-10-10           309  \n",
       "4        386       2006-07-04           268  "
      ]
     },
     "metadata": {},
     "output_type": "display_data"
    },
    {
     "name": "stdout",
     "output_type": "stream",
     "text": [
      "\n",
      "\n",
      "Table: authors\n",
      "<class 'pandas.core.frame.DataFrame'>\n",
      "RangeIndex: 636 entries, 0 to 635\n",
      "Data columns (total 2 columns):\n",
      " #   Column     Non-Null Count  Dtype \n",
      "---  ------     --------------  ----- \n",
      " 0   author_id  636 non-null    int64 \n",
      " 1   author     636 non-null    object\n",
      "dtypes: int64(1), object(1)\n",
      "memory usage: 10.1+ KB\n"
     ]
    },
    {
     "data": {
      "text/plain": [
       "None"
      ]
     },
     "metadata": {},
     "output_type": "display_data"
    },
    {
     "data": {
      "text/html": [
       "<div>\n",
       "<style scoped>\n",
       "    .dataframe tbody tr th:only-of-type {\n",
       "        vertical-align: middle;\n",
       "    }\n",
       "\n",
       "    .dataframe tbody tr th {\n",
       "        vertical-align: top;\n",
       "    }\n",
       "\n",
       "    .dataframe thead th {\n",
       "        text-align: right;\n",
       "    }\n",
       "</style>\n",
       "<table border=\"1\" class=\"dataframe\">\n",
       "  <thead>\n",
       "    <tr style=\"text-align: right;\">\n",
       "      <th></th>\n",
       "      <th>author_id</th>\n",
       "      <th>author</th>\n",
       "    </tr>\n",
       "  </thead>\n",
       "  <tbody>\n",
       "    <tr>\n",
       "      <th>0</th>\n",
       "      <td>1</td>\n",
       "      <td>A.S. Byatt</td>\n",
       "    </tr>\n",
       "    <tr>\n",
       "      <th>1</th>\n",
       "      <td>2</td>\n",
       "      <td>Aesop/Laura Harris/Laura Gibbs</td>\n",
       "    </tr>\n",
       "    <tr>\n",
       "      <th>2</th>\n",
       "      <td>3</td>\n",
       "      <td>Agatha Christie</td>\n",
       "    </tr>\n",
       "    <tr>\n",
       "      <th>3</th>\n",
       "      <td>4</td>\n",
       "      <td>Alan Brennert</td>\n",
       "    </tr>\n",
       "    <tr>\n",
       "      <th>4</th>\n",
       "      <td>5</td>\n",
       "      <td>Alan Moore/David   Lloyd</td>\n",
       "    </tr>\n",
       "  </tbody>\n",
       "</table>\n",
       "</div>"
      ],
      "text/plain": [
       "   author_id                          author\n",
       "0          1                      A.S. Byatt\n",
       "1          2  Aesop/Laura Harris/Laura Gibbs\n",
       "2          3                 Agatha Christie\n",
       "3          4                   Alan Brennert\n",
       "4          5        Alan Moore/David   Lloyd"
      ]
     },
     "metadata": {},
     "output_type": "display_data"
    },
    {
     "name": "stdout",
     "output_type": "stream",
     "text": [
      "\n",
      "\n",
      "Table: publishers\n",
      "<class 'pandas.core.frame.DataFrame'>\n",
      "RangeIndex: 340 entries, 0 to 339\n",
      "Data columns (total 2 columns):\n",
      " #   Column        Non-Null Count  Dtype \n",
      "---  ------        --------------  ----- \n",
      " 0   publisher_id  340 non-null    int64 \n",
      " 1   publisher     340 non-null    object\n",
      "dtypes: int64(1), object(1)\n",
      "memory usage: 5.4+ KB\n"
     ]
    },
    {
     "data": {
      "text/plain": [
       "None"
      ]
     },
     "metadata": {},
     "output_type": "display_data"
    },
    {
     "data": {
      "text/html": [
       "<div>\n",
       "<style scoped>\n",
       "    .dataframe tbody tr th:only-of-type {\n",
       "        vertical-align: middle;\n",
       "    }\n",
       "\n",
       "    .dataframe tbody tr th {\n",
       "        vertical-align: top;\n",
       "    }\n",
       "\n",
       "    .dataframe thead th {\n",
       "        text-align: right;\n",
       "    }\n",
       "</style>\n",
       "<table border=\"1\" class=\"dataframe\">\n",
       "  <thead>\n",
       "    <tr style=\"text-align: right;\">\n",
       "      <th></th>\n",
       "      <th>publisher_id</th>\n",
       "      <th>publisher</th>\n",
       "    </tr>\n",
       "  </thead>\n",
       "  <tbody>\n",
       "    <tr>\n",
       "      <th>0</th>\n",
       "      <td>1</td>\n",
       "      <td>Ace</td>\n",
       "    </tr>\n",
       "    <tr>\n",
       "      <th>1</th>\n",
       "      <td>2</td>\n",
       "      <td>Ace Book</td>\n",
       "    </tr>\n",
       "    <tr>\n",
       "      <th>2</th>\n",
       "      <td>3</td>\n",
       "      <td>Ace Books</td>\n",
       "    </tr>\n",
       "    <tr>\n",
       "      <th>3</th>\n",
       "      <td>4</td>\n",
       "      <td>Ace Hardcover</td>\n",
       "    </tr>\n",
       "    <tr>\n",
       "      <th>4</th>\n",
       "      <td>5</td>\n",
       "      <td>Addison Wesley Publishing Company</td>\n",
       "    </tr>\n",
       "  </tbody>\n",
       "</table>\n",
       "</div>"
      ],
      "text/plain": [
       "   publisher_id                          publisher\n",
       "0             1                                Ace\n",
       "1             2                           Ace Book\n",
       "2             3                          Ace Books\n",
       "3             4                      Ace Hardcover\n",
       "4             5  Addison Wesley Publishing Company"
      ]
     },
     "metadata": {},
     "output_type": "display_data"
    },
    {
     "name": "stdout",
     "output_type": "stream",
     "text": [
      "\n",
      "\n",
      "Table: ratings\n",
      "<class 'pandas.core.frame.DataFrame'>\n",
      "RangeIndex: 6456 entries, 0 to 6455\n",
      "Data columns (total 4 columns):\n",
      " #   Column     Non-Null Count  Dtype \n",
      "---  ------     --------------  ----- \n",
      " 0   rating_id  6456 non-null   int64 \n",
      " 1   book_id    6456 non-null   int64 \n",
      " 2   username   6456 non-null   object\n",
      " 3   rating     6456 non-null   int64 \n",
      "dtypes: int64(3), object(1)\n",
      "memory usage: 201.9+ KB\n"
     ]
    },
    {
     "data": {
      "text/plain": [
       "None"
      ]
     },
     "metadata": {},
     "output_type": "display_data"
    },
    {
     "data": {
      "text/html": [
       "<div>\n",
       "<style scoped>\n",
       "    .dataframe tbody tr th:only-of-type {\n",
       "        vertical-align: middle;\n",
       "    }\n",
       "\n",
       "    .dataframe tbody tr th {\n",
       "        vertical-align: top;\n",
       "    }\n",
       "\n",
       "    .dataframe thead th {\n",
       "        text-align: right;\n",
       "    }\n",
       "</style>\n",
       "<table border=\"1\" class=\"dataframe\">\n",
       "  <thead>\n",
       "    <tr style=\"text-align: right;\">\n",
       "      <th></th>\n",
       "      <th>rating_id</th>\n",
       "      <th>book_id</th>\n",
       "      <th>username</th>\n",
       "      <th>rating</th>\n",
       "    </tr>\n",
       "  </thead>\n",
       "  <tbody>\n",
       "    <tr>\n",
       "      <th>0</th>\n",
       "      <td>1</td>\n",
       "      <td>1</td>\n",
       "      <td>ryanfranco</td>\n",
       "      <td>4</td>\n",
       "    </tr>\n",
       "    <tr>\n",
       "      <th>1</th>\n",
       "      <td>2</td>\n",
       "      <td>1</td>\n",
       "      <td>grantpatricia</td>\n",
       "      <td>2</td>\n",
       "    </tr>\n",
       "    <tr>\n",
       "      <th>2</th>\n",
       "      <td>3</td>\n",
       "      <td>1</td>\n",
       "      <td>brandtandrea</td>\n",
       "      <td>5</td>\n",
       "    </tr>\n",
       "    <tr>\n",
       "      <th>3</th>\n",
       "      <td>4</td>\n",
       "      <td>2</td>\n",
       "      <td>lorichen</td>\n",
       "      <td>3</td>\n",
       "    </tr>\n",
       "    <tr>\n",
       "      <th>4</th>\n",
       "      <td>5</td>\n",
       "      <td>2</td>\n",
       "      <td>mariokeller</td>\n",
       "      <td>2</td>\n",
       "    </tr>\n",
       "  </tbody>\n",
       "</table>\n",
       "</div>"
      ],
      "text/plain": [
       "   rating_id  book_id       username  rating\n",
       "0          1        1     ryanfranco       4\n",
       "1          2        1  grantpatricia       2\n",
       "2          3        1   brandtandrea       5\n",
       "3          4        2       lorichen       3\n",
       "4          5        2    mariokeller       2"
      ]
     },
     "metadata": {},
     "output_type": "display_data"
    },
    {
     "name": "stdout",
     "output_type": "stream",
     "text": [
      "\n",
      "\n",
      "Table: reviews\n",
      "<class 'pandas.core.frame.DataFrame'>\n",
      "RangeIndex: 2793 entries, 0 to 2792\n",
      "Data columns (total 4 columns):\n",
      " #   Column     Non-Null Count  Dtype \n",
      "---  ------     --------------  ----- \n",
      " 0   review_id  2793 non-null   int64 \n",
      " 1   book_id    2793 non-null   int64 \n",
      " 2   username   2793 non-null   object\n",
      " 3   text       2793 non-null   object\n",
      "dtypes: int64(2), object(2)\n",
      "memory usage: 87.4+ KB\n"
     ]
    },
    {
     "data": {
      "text/plain": [
       "None"
      ]
     },
     "metadata": {},
     "output_type": "display_data"
    },
    {
     "data": {
      "text/html": [
       "<div>\n",
       "<style scoped>\n",
       "    .dataframe tbody tr th:only-of-type {\n",
       "        vertical-align: middle;\n",
       "    }\n",
       "\n",
       "    .dataframe tbody tr th {\n",
       "        vertical-align: top;\n",
       "    }\n",
       "\n",
       "    .dataframe thead th {\n",
       "        text-align: right;\n",
       "    }\n",
       "</style>\n",
       "<table border=\"1\" class=\"dataframe\">\n",
       "  <thead>\n",
       "    <tr style=\"text-align: right;\">\n",
       "      <th></th>\n",
       "      <th>review_id</th>\n",
       "      <th>book_id</th>\n",
       "      <th>username</th>\n",
       "      <th>text</th>\n",
       "    </tr>\n",
       "  </thead>\n",
       "  <tbody>\n",
       "    <tr>\n",
       "      <th>0</th>\n",
       "      <td>1</td>\n",
       "      <td>1</td>\n",
       "      <td>brandtandrea</td>\n",
       "      <td>Mention society tell send professor analysis. ...</td>\n",
       "    </tr>\n",
       "    <tr>\n",
       "      <th>1</th>\n",
       "      <td>2</td>\n",
       "      <td>1</td>\n",
       "      <td>ryanfranco</td>\n",
       "      <td>Foot glass pretty audience hit themselves. Amo...</td>\n",
       "    </tr>\n",
       "    <tr>\n",
       "      <th>2</th>\n",
       "      <td>3</td>\n",
       "      <td>2</td>\n",
       "      <td>lorichen</td>\n",
       "      <td>Listen treat keep worry. Miss husband tax but ...</td>\n",
       "    </tr>\n",
       "    <tr>\n",
       "      <th>3</th>\n",
       "      <td>4</td>\n",
       "      <td>3</td>\n",
       "      <td>johnsonamanda</td>\n",
       "      <td>Finally month interesting blue could nature cu...</td>\n",
       "    </tr>\n",
       "    <tr>\n",
       "      <th>4</th>\n",
       "      <td>5</td>\n",
       "      <td>3</td>\n",
       "      <td>scotttamara</td>\n",
       "      <td>Nation purpose heavy give wait song will. List...</td>\n",
       "    </tr>\n",
       "  </tbody>\n",
       "</table>\n",
       "</div>"
      ],
      "text/plain": [
       "   review_id  book_id       username  \\\n",
       "0          1        1   brandtandrea   \n",
       "1          2        1     ryanfranco   \n",
       "2          3        2       lorichen   \n",
       "3          4        3  johnsonamanda   \n",
       "4          5        3    scotttamara   \n",
       "\n",
       "                                                text  \n",
       "0  Mention society tell send professor analysis. ...  \n",
       "1  Foot glass pretty audience hit themselves. Amo...  \n",
       "2  Listen treat keep worry. Miss husband tax but ...  \n",
       "3  Finally month interesting blue could nature cu...  \n",
       "4  Nation purpose heavy give wait song will. List...  "
      ]
     },
     "metadata": {},
     "output_type": "display_data"
    },
    {
     "name": "stdout",
     "output_type": "stream",
     "text": [
      "\n",
      "\n"
     ]
    }
   ],
   "source": [
    "# Daftar tabel dari database\n",
    "tables = ['books', 'authors', 'publishers', 'ratings', 'reviews']\n",
    "\n",
    "# Loop untuk membaca data dan menampilkan informasi lima baris pertama\n",
    "for table in tables:\n",
    "    print(f\"Table: {table}\")\n",
    "    \n",
    "    query_string = f\"SELECT * FROM {table}\"\n",
    "    data = query(query_string)\n",
    "    display(data.info())\n",
    "    display(data.head())\n",
    "    \n",
    "    print(\"\\n\")"
   ]
  },
  {
   "cell_type": "markdown",
   "metadata": {},
   "source": [
    "- books : terdiri dari 1000 baris \n",
    "- authors : terdiri dari 636 baris\n",
    "- publishers :terdiri dari 340 baris\n",
    "- ratings : terdiri dari 6456 baris \n",
    "- reviews : terdiri dari 2793 baris"
   ]
  },
  {
   "cell_type": "markdown",
   "metadata": {},
   "source": [
    "# Pengolahan Data"
   ]
  },
  {
   "cell_type": "code",
   "execution_count": 4,
   "metadata": {},
   "outputs": [
    {
     "data": {
      "text/html": [
       "<div>\n",
       "<style scoped>\n",
       "    .dataframe tbody tr th:only-of-type {\n",
       "        vertical-align: middle;\n",
       "    }\n",
       "\n",
       "    .dataframe tbody tr th {\n",
       "        vertical-align: top;\n",
       "    }\n",
       "\n",
       "    .dataframe thead th {\n",
       "        text-align: right;\n",
       "    }\n",
       "</style>\n",
       "<table border=\"1\" class=\"dataframe\">\n",
       "  <thead>\n",
       "    <tr style=\"text-align: right;\">\n",
       "      <th></th>\n",
       "      <th>count</th>\n",
       "    </tr>\n",
       "  </thead>\n",
       "  <tbody>\n",
       "    <tr>\n",
       "      <th>0</th>\n",
       "      <td>819</td>\n",
       "    </tr>\n",
       "  </tbody>\n",
       "</table>\n",
       "</div>"
      ],
      "text/plain": [
       "   count\n",
       "0    819"
      ]
     },
     "metadata": {},
     "output_type": "display_data"
    }
   ],
   "source": [
    "#tugas 1 : Hitung jumlah buku yang dirilis setelah tanggal 1 Januari 2000.󠀲󠀡󠀠󠀦󠀥󠀩󠀠󠀩󠀳\n",
    "query_books_after_2000 = pd.io.sql.read_sql('''\n",
    "SELECT COUNT (DISTINCT book_id)\n",
    "FROM books\n",
    "WHERE publication_date > '2000-01-01'\n",
    "''', con = engine)\n",
    "\n",
    "display(query_books_after_2000)"
   ]
  },
  {
   "cell_type": "markdown",
   "metadata": {},
   "source": [
    "Berdasarkan pengolahan, ditemukan bahwasanya terdapat 819 buku yang dirilis setelah tanggal 1 Januari 2000"
   ]
  },
  {
   "cell_type": "code",
   "execution_count": 5,
   "metadata": {
    "scrolled": true
   },
   "outputs": [
    {
     "data": {
      "text/html": [
       "<div>\n",
       "<style scoped>\n",
       "    .dataframe tbody tr th:only-of-type {\n",
       "        vertical-align: middle;\n",
       "    }\n",
       "\n",
       "    .dataframe tbody tr th {\n",
       "        vertical-align: top;\n",
       "    }\n",
       "\n",
       "    .dataframe thead th {\n",
       "        text-align: right;\n",
       "    }\n",
       "</style>\n",
       "<table border=\"1\" class=\"dataframe\">\n",
       "  <thead>\n",
       "    <tr style=\"text-align: right;\">\n",
       "      <th></th>\n",
       "      <th>book_id</th>\n",
       "      <th>book_title</th>\n",
       "      <th>avg_rating</th>\n",
       "      <th>number_of_reviews</th>\n",
       "    </tr>\n",
       "  </thead>\n",
       "  <tbody>\n",
       "    <tr>\n",
       "      <th>0</th>\n",
       "      <td>948</td>\n",
       "      <td>Twilight (Twilight  #1)</td>\n",
       "      <td>3.662500</td>\n",
       "      <td>7</td>\n",
       "    </tr>\n",
       "    <tr>\n",
       "      <th>1</th>\n",
       "      <td>302</td>\n",
       "      <td>Harry Potter and the Prisoner of Azkaban (Harr...</td>\n",
       "      <td>4.414634</td>\n",
       "      <td>6</td>\n",
       "    </tr>\n",
       "    <tr>\n",
       "      <th>2</th>\n",
       "      <td>299</td>\n",
       "      <td>Harry Potter and the Chamber of Secrets (Harry...</td>\n",
       "      <td>4.287500</td>\n",
       "      <td>6</td>\n",
       "    </tr>\n",
       "    <tr>\n",
       "      <th>3</th>\n",
       "      <td>656</td>\n",
       "      <td>The Book Thief</td>\n",
       "      <td>4.264151</td>\n",
       "      <td>6</td>\n",
       "    </tr>\n",
       "    <tr>\n",
       "      <th>4</th>\n",
       "      <td>734</td>\n",
       "      <td>The Glass Castle</td>\n",
       "      <td>4.206897</td>\n",
       "      <td>6</td>\n",
       "    </tr>\n",
       "    <tr>\n",
       "      <th>5</th>\n",
       "      <td>497</td>\n",
       "      <td>Outlander (Outlander  #1)</td>\n",
       "      <td>4.125000</td>\n",
       "      <td>6</td>\n",
       "    </tr>\n",
       "    <tr>\n",
       "      <th>6</th>\n",
       "      <td>750</td>\n",
       "      <td>The Hobbit  or There and Back Again</td>\n",
       "      <td>4.125000</td>\n",
       "      <td>6</td>\n",
       "    </tr>\n",
       "    <tr>\n",
       "      <th>7</th>\n",
       "      <td>695</td>\n",
       "      <td>The Curious Incident of the Dog in the Night-Time</td>\n",
       "      <td>4.081081</td>\n",
       "      <td>6</td>\n",
       "    </tr>\n",
       "    <tr>\n",
       "      <th>8</th>\n",
       "      <td>779</td>\n",
       "      <td>The Lightning Thief (Percy Jackson and the Oly...</td>\n",
       "      <td>4.080645</td>\n",
       "      <td>6</td>\n",
       "    </tr>\n",
       "    <tr>\n",
       "      <th>9</th>\n",
       "      <td>963</td>\n",
       "      <td>Water for Elephants</td>\n",
       "      <td>3.977273</td>\n",
       "      <td>6</td>\n",
       "    </tr>\n",
       "  </tbody>\n",
       "</table>\n",
       "</div>"
      ],
      "text/plain": [
       "   book_id                                         book_title  avg_rating  \\\n",
       "0      948                            Twilight (Twilight  #1)    3.662500   \n",
       "1      302  Harry Potter and the Prisoner of Azkaban (Harr...    4.414634   \n",
       "2      299  Harry Potter and the Chamber of Secrets (Harry...    4.287500   \n",
       "3      656                                     The Book Thief    4.264151   \n",
       "4      734                                   The Glass Castle    4.206897   \n",
       "5      497                          Outlander (Outlander  #1)    4.125000   \n",
       "6      750                The Hobbit  or There and Back Again    4.125000   \n",
       "7      695  The Curious Incident of the Dog in the Night-Time    4.081081   \n",
       "8      779  The Lightning Thief (Percy Jackson and the Oly...    4.080645   \n",
       "9      963                                Water for Elephants    3.977273   \n",
       "\n",
       "   number_of_reviews  \n",
       "0                  7  \n",
       "1                  6  \n",
       "2                  6  \n",
       "3                  6  \n",
       "4                  6  \n",
       "5                  6  \n",
       "6                  6  \n",
       "7                  6  \n",
       "8                  6  \n",
       "9                  6  "
      ]
     },
     "metadata": {},
     "output_type": "display_data"
    }
   ],
   "source": [
    "#tugas 2 : Hitung jumlah ulasan pengguna dan rating rata-rata untuk setiap buku.󠀲󠀡󠀠󠀦󠀥󠀩󠀡󠀠󠀳\n",
    "query_mean_reviews = pd.io.sql.read_sql('''\n",
    "SELECT \n",
    "    books.book_id AS book_id,\n",
    "    books.title AS book_title,\n",
    "    COALESCE(avg_rating, 0) AS avg_rating,\n",
    "    COALESCE(number_of_reviews, 0) AS number_of_reviews\n",
    "FROM \n",
    "    books\n",
    "LEFT JOIN (\n",
    "    SELECT \n",
    "        book_id, \n",
    "        AVG(rating) AS avg_rating\n",
    "    FROM \n",
    "        ratings\n",
    "    GROUP BY \n",
    "        book_id\n",
    ") AS ratings_avg ON books.book_id = ratings_avg.book_id\n",
    "LEFT JOIN (\n",
    "    SELECT \n",
    "        book_id, \n",
    "        COUNT(review_id) AS number_of_reviews\n",
    "    FROM \n",
    "        reviews\n",
    "    GROUP BY \n",
    "        book_id\n",
    ") AS reviews_count ON books.book_id = reviews_count.book_id\n",
    "ORDER BY \n",
    "    number_of_reviews DESC,\n",
    "    avg_rating DESC\n",
    "''', con=engine)\n",
    "display(query_mean_reviews.head(10))"
   ]
  },
  {
   "cell_type": "markdown",
   "metadata": {},
   "source": [
    "- Left join digunakan untuk mempertahankan jumlah buku yang direkap pada tabel books\n",
    "- buku dengan number of reviews tertinggi (7) ialah buku Twilight dengan rata-rata rating 3.6 "
   ]
  },
  {
   "cell_type": "code",
   "execution_count": 6,
   "metadata": {},
   "outputs": [
    {
     "data": {
      "text/html": [
       "<div>\n",
       "<style scoped>\n",
       "    .dataframe tbody tr th:only-of-type {\n",
       "        vertical-align: middle;\n",
       "    }\n",
       "\n",
       "    .dataframe tbody tr th {\n",
       "        vertical-align: top;\n",
       "    }\n",
       "\n",
       "    .dataframe thead th {\n",
       "        text-align: right;\n",
       "    }\n",
       "</style>\n",
       "<table border=\"1\" class=\"dataframe\">\n",
       "  <thead>\n",
       "    <tr style=\"text-align: right;\">\n",
       "      <th></th>\n",
       "      <th>publisher_name</th>\n",
       "      <th>total_books_published</th>\n",
       "    </tr>\n",
       "  </thead>\n",
       "  <tbody>\n",
       "    <tr>\n",
       "      <th>0</th>\n",
       "      <td>Penguin Books</td>\n",
       "      <td>42</td>\n",
       "    </tr>\n",
       "    <tr>\n",
       "      <th>1</th>\n",
       "      <td>Vintage</td>\n",
       "      <td>31</td>\n",
       "    </tr>\n",
       "    <tr>\n",
       "      <th>2</th>\n",
       "      <td>Grand Central Publishing</td>\n",
       "      <td>25</td>\n",
       "    </tr>\n",
       "    <tr>\n",
       "      <th>3</th>\n",
       "      <td>Penguin Classics</td>\n",
       "      <td>24</td>\n",
       "    </tr>\n",
       "    <tr>\n",
       "      <th>4</th>\n",
       "      <td>Ballantine Books</td>\n",
       "      <td>19</td>\n",
       "    </tr>\n",
       "    <tr>\n",
       "      <th>5</th>\n",
       "      <td>Bantam</td>\n",
       "      <td>19</td>\n",
       "    </tr>\n",
       "    <tr>\n",
       "      <th>6</th>\n",
       "      <td>Berkley</td>\n",
       "      <td>17</td>\n",
       "    </tr>\n",
       "    <tr>\n",
       "      <th>7</th>\n",
       "      <td>St. Martin's Press</td>\n",
       "      <td>14</td>\n",
       "    </tr>\n",
       "    <tr>\n",
       "      <th>8</th>\n",
       "      <td>Berkley Books</td>\n",
       "      <td>14</td>\n",
       "    </tr>\n",
       "    <tr>\n",
       "      <th>9</th>\n",
       "      <td>Delta</td>\n",
       "      <td>13</td>\n",
       "    </tr>\n",
       "  </tbody>\n",
       "</table>\n",
       "</div>"
      ],
      "text/plain": [
       "             publisher_name  total_books_published\n",
       "0             Penguin Books                     42\n",
       "1                   Vintage                     31\n",
       "2  Grand Central Publishing                     25\n",
       "3          Penguin Classics                     24\n",
       "4          Ballantine Books                     19\n",
       "5                    Bantam                     19\n",
       "6                   Berkley                     17\n",
       "7        St. Martin's Press                     14\n",
       "8             Berkley Books                     14\n",
       "9                     Delta                     13"
      ]
     },
     "metadata": {},
     "output_type": "display_data"
    }
   ],
   "source": [
    "#tugas 3 : Identifikasi penerbit yang telah menerbitkan jumlah buku terbanyak dengan jumlah halaman lebih dari 50 (hal ini akan membantumu dalam mengecualikan brosur dan publikasi serupa dari analisismu).󠀲󠀡󠀠󠀦󠀥󠀩󠀡󠀡󠀳\n",
    "query_page_above50 = pd.io.sql.read_sql('''\n",
    "SELECT \n",
    "    publishers.publisher AS publisher_name,\n",
    "    COUNT(books.book_id) AS total_books_published\n",
    "FROM \n",
    "    books\n",
    "JOIN \n",
    "    publishers ON books.publisher_id = publishers.publisher_id\n",
    "WHERE \n",
    "    books.num_pages > 50\n",
    "GROUP BY \n",
    "    publishers.publisher_id\n",
    "ORDER BY \n",
    "    total_books_published DESC\n",
    "LIMIT 10\n",
    "''', con = engine)\n",
    "\n",
    "display(query_page_above50)"
   ]
  },
  {
   "cell_type": "markdown",
   "metadata": {},
   "source": [
    "Penguin books merupakan publikasi yang memiliki jumlah buku yang telah diterbitkan terbanyak yakni mencapai 42 buku. Tabel diatas merupakan 5 nama publikasi yang memiliki jumlah terbitan buku tertinggi"
   ]
  },
  {
   "cell_type": "code",
   "execution_count": 7,
   "metadata": {
    "scrolled": true
   },
   "outputs": [
    {
     "data": {
      "text/html": [
       "<div>\n",
       "<style scoped>\n",
       "    .dataframe tbody tr th:only-of-type {\n",
       "        vertical-align: middle;\n",
       "    }\n",
       "\n",
       "    .dataframe tbody tr th {\n",
       "        vertical-align: top;\n",
       "    }\n",
       "\n",
       "    .dataframe thead th {\n",
       "        text-align: right;\n",
       "    }\n",
       "</style>\n",
       "<table border=\"1\" class=\"dataframe\">\n",
       "  <thead>\n",
       "    <tr style=\"text-align: right;\">\n",
       "      <th></th>\n",
       "      <th>author</th>\n",
       "      <th>final_avg</th>\n",
       "    </tr>\n",
       "  </thead>\n",
       "  <tbody>\n",
       "    <tr>\n",
       "      <th>0</th>\n",
       "      <td>J.K. Rowling/Mary GrandPré</td>\n",
       "      <td>4.283844</td>\n",
       "    </tr>\n",
       "    <tr>\n",
       "      <th>1</th>\n",
       "      <td>Markus Zusak/Cao Xuân Việt Khương</td>\n",
       "      <td>4.264151</td>\n",
       "    </tr>\n",
       "    <tr>\n",
       "      <th>2</th>\n",
       "      <td>J.R.R. Tolkien</td>\n",
       "      <td>4.258446</td>\n",
       "    </tr>\n",
       "    <tr>\n",
       "      <th>3</th>\n",
       "      <td>Louisa May Alcott</td>\n",
       "      <td>4.192308</td>\n",
       "    </tr>\n",
       "    <tr>\n",
       "      <th>4</th>\n",
       "      <td>Rick Riordan</td>\n",
       "      <td>4.080645</td>\n",
       "    </tr>\n",
       "    <tr>\n",
       "      <th>5</th>\n",
       "      <td>William Golding</td>\n",
       "      <td>3.901408</td>\n",
       "    </tr>\n",
       "    <tr>\n",
       "      <th>6</th>\n",
       "      <td>J.D. Salinger</td>\n",
       "      <td>3.825581</td>\n",
       "    </tr>\n",
       "    <tr>\n",
       "      <th>7</th>\n",
       "      <td>Paulo Coelho/Alan R. Clarke/Özdemir İnce</td>\n",
       "      <td>3.789474</td>\n",
       "    </tr>\n",
       "    <tr>\n",
       "      <th>8</th>\n",
       "      <td>William Shakespeare/Paul Werstine/Barbara A. M...</td>\n",
       "      <td>3.787879</td>\n",
       "    </tr>\n",
       "    <tr>\n",
       "      <th>9</th>\n",
       "      <td>Dan Brown</td>\n",
       "      <td>3.754540</td>\n",
       "    </tr>\n",
       "  </tbody>\n",
       "</table>\n",
       "</div>"
      ],
      "text/plain": [
       "                                              author  final_avg\n",
       "0                         J.K. Rowling/Mary GrandPré   4.283844\n",
       "1                  Markus Zusak/Cao Xuân Việt Khương   4.264151\n",
       "2                                     J.R.R. Tolkien   4.258446\n",
       "3                                  Louisa May Alcott   4.192308\n",
       "4                                       Rick Riordan   4.080645\n",
       "5                                    William Golding   3.901408\n",
       "6                                      J.D. Salinger   3.825581\n",
       "7           Paulo Coelho/Alan R. Clarke/Özdemir İnce   3.789474\n",
       "8  William Shakespeare/Paul Werstine/Barbara A. M...   3.787879\n",
       "9                                          Dan Brown   3.754540"
      ]
     },
     "metadata": {},
     "output_type": "display_data"
    }
   ],
   "source": [
    "#tugas 4: Identifikasi penulis dengan rating rata-rata buku tertinggi: temukan buku dengan rating minimal 50.󠀲󠀡󠀠󠀦󠀥󠀩󠀡󠀢󠀳\n",
    "query_author_rating = pd.io.sql.read_sql('''\n",
    "SELECT \n",
    "    authors.author,\n",
    "    AVG(subquery2.avg_rating) AS final_avg\n",
    "FROM (\n",
    "    SELECT \n",
    "        books.title,\n",
    "        books.author_id,\n",
    "        subquery1.avg_rating\n",
    "    FROM (\n",
    "        SELECT \n",
    "            book_id, \n",
    "            COUNT(rating_id) AS rating_cnt,\n",
    "            AVG(rating) AS avg_rating\n",
    "        FROM \n",
    "            ratings\n",
    "        GROUP BY \n",
    "            book_id\n",
    "        HAVING \n",
    "            COUNT(rating_id) > 50) AS subquery1\n",
    "        INNER JOIN \n",
    "            books on books.book_id = subquery1.book_id) AS subquery2\n",
    "    INNER JOIN authors ON authors.author_id = subquery2.author_id\n",
    "GROUP BY\n",
    "    author\n",
    "ORDER BY \n",
    "    final_avg DESC\n",
    "LIMIT 10\n",
    "''', con=engine)\n",
    "\n",
    "display(query_author_rating)"
   ]
  },
  {
   "cell_type": "markdown",
   "metadata": {},
   "source": [
    "tabel berikut menampilkan 10 penulis dengan rata-rata rating buku minimal 50. lebih lanjut dari tabel dapat dilihat bahwa penulis buku dengan nama J.K.Rowling memiliki rata-rata rating buku tertinggi yakni 4.28. Markus Zusak berada pada posisi kedua dengan rata-rata rating 4.26. Hanya selisih kurang lebi 0.02 poin"
   ]
  },
  {
   "cell_type": "code",
   "execution_count": 8,
   "metadata": {},
   "outputs": [
    {
     "data": {
      "text/html": [
       "<div>\n",
       "<style scoped>\n",
       "    .dataframe tbody tr th:only-of-type {\n",
       "        vertical-align: middle;\n",
       "    }\n",
       "\n",
       "    .dataframe tbody tr th {\n",
       "        vertical-align: top;\n",
       "    }\n",
       "\n",
       "    .dataframe thead th {\n",
       "        text-align: right;\n",
       "    }\n",
       "</style>\n",
       "<table border=\"1\" class=\"dataframe\">\n",
       "  <thead>\n",
       "    <tr style=\"text-align: right;\">\n",
       "      <th></th>\n",
       "      <th>avg_text_review_count</th>\n",
       "    </tr>\n",
       "  </thead>\n",
       "  <tbody>\n",
       "    <tr>\n",
       "      <th>0</th>\n",
       "      <td>24.33</td>\n",
       "    </tr>\n",
       "  </tbody>\n",
       "</table>\n",
       "</div>"
      ],
      "text/plain": [
       "   avg_text_review_count\n",
       "0                  24.33"
      ]
     },
     "metadata": {},
     "output_type": "display_data"
    }
   ],
   "source": [
    "#tugas 5: Hitung jumlah rata-rata teks ulasan di antara pengguna yang memberi rating terhadap lebih dari 50 buku.\n",
    "query_text_rating= pd.io.sql.read_sql('''\n",
    "SELECT \n",
    "    ROUND(AVG(subquery.text_reviews_count), 2) as avg_text_review_count\n",
    "FROM(\n",
    "    SELECT \n",
    "        COUNT(DISTINCT reviews.review_id) AS text_reviews_count\n",
    "    FROM \n",
    "        reviews\n",
    "    INNER JOIN \n",
    "        ratings\n",
    "    ON \n",
    "        reviews.username = ratings.username\n",
    "    GROUP BY \n",
    "        ratings.username\n",
    "    HAVING \n",
    "        COUNT(DISTINCT ratings.rating_id) > 50) as subquery\n",
    "LIMIT 10\n",
    "''', con=engine) \n",
    "\n",
    "display(query_text_rating)"
   ]
  },
  {
   "cell_type": "markdown",
   "metadata": {},
   "source": [
    "berdasarkan hasil pengolahan dapat diketahui bahwasanya rata-rata teks ulasan yang diberikan oleh pembaca adalah 24.33 "
   ]
  },
  {
   "cell_type": "markdown",
   "metadata": {},
   "source": [
    "# Kesimpulan \n",
    "\n",
    "Tahapan: Eksplorasi Data\n",
    "- data SQL terdiri dari 5 tabel yaitu books, authors, publishers, ratings dan review. \n",
    "- rekapan data dikethaui menyimpan 1000 judul buku dengan 636 penulis, 340 instansi publikasi. \n",
    "- buku-buku tersebut telah diberi nilai oleh 6456 orang dengan 29793 diantaranya meninggalkan kesan pesan pengalaman membaca buku tersebut\n",
    "\n",
    "Tahapan: Pengolahan Data \n",
    "- terdapat 819 buku yang dipublikasi setelah 1 Januari 2000\n",
    "- Twilight#1 merupakan buku dengan jumlah review terbanyak yaitu 7 orang dengan rating 3.6\n",
    "- diantara 340 instansi publikasi, hasil karya yang diterbitkan oleh Penguin books berhasil menjadi instansi dengan jumlah buku dirilis terbanyak (42 buku)\n",
    "-  J.K. Rowling (4.28) dan Markus Zusak (4.26) merupakan 2 penulis buku yang memiliki rata-rata rating buku tertingi, dimana selisih nilai antar keduanya adalah 0.02 \n",
    "- rata-rata pembaca meningkalkan komentar terhadap buku berkiras 24 kata"
   ]
  }
 ],
 "metadata": {
  "ExecuteTimeLog": [
   {
    "duration": 599,
    "start_time": "2024-06-19T01:23:24.379Z"
   },
   {
    "duration": 6,
    "start_time": "2024-06-19T01:29:44.136Z"
   },
   {
    "duration": 4190,
    "start_time": "2024-06-19T01:42:52.790Z"
   },
   {
    "duration": 3149,
    "start_time": "2024-06-19T01:43:36.967Z"
   },
   {
    "duration": 6,
    "start_time": "2024-06-19T01:44:47.303Z"
   },
   {
    "duration": 4,
    "start_time": "2024-06-19T01:48:13.107Z"
   },
   {
    "duration": 26,
    "start_time": "2024-06-19T01:53:48.516Z"
   },
   {
    "duration": 28,
    "start_time": "2024-06-19T01:54:01.653Z"
   },
   {
    "duration": 28,
    "start_time": "2024-06-19T01:54:11.136Z"
   },
   {
    "duration": 9,
    "start_time": "2024-06-19T01:55:08.928Z"
   },
   {
    "duration": 3,
    "start_time": "2024-06-19T01:55:11.577Z"
   },
   {
    "duration": 2618,
    "start_time": "2024-06-19T01:56:33.156Z"
   },
   {
    "duration": 3,
    "start_time": "2024-06-19T01:56:37.876Z"
   },
   {
    "duration": 1755,
    "start_time": "2024-06-19T01:56:39.550Z"
   },
   {
    "duration": 1025,
    "start_time": "2024-06-19T01:57:31.360Z"
   },
   {
    "duration": 4,
    "start_time": "2024-06-19T02:03:46.332Z"
   },
   {
    "duration": 1029,
    "start_time": "2024-06-19T02:03:48.616Z"
   },
   {
    "duration": 1023,
    "start_time": "2024-06-19T02:03:58.022Z"
   },
   {
    "duration": 2337,
    "start_time": "2024-06-19T02:11:45.231Z"
   },
   {
    "duration": 2441,
    "start_time": "2024-06-19T02:12:07.954Z"
   },
   {
    "duration": 413,
    "start_time": "2024-06-19T02:12:43.195Z"
   },
   {
    "duration": 4,
    "start_time": "2024-06-19T02:17:46.320Z"
   },
   {
    "duration": 28,
    "start_time": "2024-06-19T02:18:36.830Z"
   },
   {
    "duration": 26,
    "start_time": "2024-06-19T02:19:01.928Z"
   },
   {
    "duration": 34,
    "start_time": "2024-06-19T02:19:14.504Z"
   },
   {
    "duration": 4917,
    "start_time": "2024-06-19T02:19:21.752Z"
   },
   {
    "duration": 4645,
    "start_time": "2024-06-19T02:19:30.177Z"
   },
   {
    "duration": 3,
    "start_time": "2024-06-19T02:23:44.061Z"
   },
   {
    "duration": 412,
    "start_time": "2024-06-19T02:26:36.392Z"
   },
   {
    "duration": 8,
    "start_time": "2024-06-19T02:26:59.734Z"
   },
   {
    "duration": 5,
    "start_time": "2024-06-19T02:27:02.213Z"
   },
   {
    "duration": 29,
    "start_time": "2024-06-19T02:27:15.760Z"
   },
   {
    "duration": 27,
    "start_time": "2024-06-19T02:27:33.087Z"
   },
   {
    "duration": 5,
    "start_time": "2024-06-19T02:27:37.801Z"
   },
   {
    "duration": 4,
    "start_time": "2024-06-19T02:27:40.159Z"
   },
   {
    "duration": 25,
    "start_time": "2024-06-19T02:27:41.802Z"
   },
   {
    "duration": 30,
    "start_time": "2024-06-19T02:27:53.720Z"
   },
   {
    "duration": 6411,
    "start_time": "2024-06-19T02:27:58.969Z"
   },
   {
    "duration": 4419,
    "start_time": "2024-06-19T02:29:11.795Z"
   },
   {
    "duration": 23,
    "start_time": "2024-06-19T02:38:29.263Z"
   },
   {
    "duration": 949,
    "start_time": "2024-06-19T02:38:41.716Z"
   },
   {
    "duration": 746,
    "start_time": "2024-06-19T02:39:52.865Z"
   },
   {
    "duration": 966,
    "start_time": "2024-06-19T03:01:13.348Z"
   },
   {
    "duration": 1004,
    "start_time": "2024-06-19T03:07:16.051Z"
   },
   {
    "duration": 1008,
    "start_time": "2024-06-19T03:07:23.792Z"
   },
   {
    "duration": 1004,
    "start_time": "2024-06-19T03:13:39.717Z"
   },
   {
    "duration": 1005,
    "start_time": "2024-06-19T03:13:43.825Z"
   },
   {
    "duration": 949,
    "start_time": "2024-06-19T03:31:39.885Z"
   },
   {
    "duration": 959,
    "start_time": "2024-06-19T03:31:52.190Z"
   },
   {
    "duration": 947,
    "start_time": "2024-06-19T03:32:39.769Z"
   },
   {
    "duration": 1129,
    "start_time": "2024-06-19T03:33:03.284Z"
   },
   {
    "duration": 1015,
    "start_time": "2024-06-19T03:33:29.529Z"
   },
   {
    "duration": 955,
    "start_time": "2024-06-19T03:33:48.247Z"
   },
   {
    "duration": 946,
    "start_time": "2024-06-19T03:33:56.372Z"
   },
   {
    "duration": 948,
    "start_time": "2024-06-19T03:34:04.723Z"
   },
   {
    "duration": 1135,
    "start_time": "2024-06-19T03:34:13.405Z"
   },
   {
    "duration": 596,
    "start_time": "2024-06-19T06:46:30.037Z"
   },
   {
    "duration": 4,
    "start_time": "2024-06-19T06:46:30.636Z"
   },
   {
    "duration": 6279,
    "start_time": "2024-06-19T06:46:30.643Z"
   },
   {
    "duration": 746,
    "start_time": "2024-06-19T06:46:36.925Z"
   },
   {
    "duration": 759,
    "start_time": "2024-06-19T06:46:37.677Z"
   },
   {
    "duration": 759,
    "start_time": "2024-06-19T06:46:38.439Z"
   },
   {
    "duration": 2011,
    "start_time": "2024-06-19T07:01:49.409Z"
   },
   {
    "duration": 949,
    "start_time": "2024-06-19T07:02:18.540Z"
   },
   {
    "duration": 945,
    "start_time": "2024-06-19T07:11:28.219Z"
   },
   {
    "duration": 994,
    "start_time": "2024-06-19T07:12:19.597Z"
   },
   {
    "duration": 24,
    "start_time": "2024-06-19T07:21:31.578Z"
   },
   {
    "duration": 944,
    "start_time": "2024-06-19T07:21:40.163Z"
   },
   {
    "duration": 945,
    "start_time": "2024-06-19T07:22:19.350Z"
   },
   {
    "duration": 951,
    "start_time": "2024-06-19T07:22:31.670Z"
   },
   {
    "duration": 949,
    "start_time": "2024-06-19T07:23:31.381Z"
   },
   {
    "duration": 748,
    "start_time": "2024-06-19T07:26:51.574Z"
   },
   {
    "duration": 1001,
    "start_time": "2024-06-19T07:34:19.113Z"
   },
   {
    "duration": 1006,
    "start_time": "2024-06-19T07:34:27.160Z"
   },
   {
    "duration": 945,
    "start_time": "2024-06-19T07:39:56.427Z"
   },
   {
    "duration": 940,
    "start_time": "2024-06-19T07:40:37.883Z"
   },
   {
    "duration": 945,
    "start_time": "2024-06-19T07:41:18.869Z"
   },
   {
    "duration": 748,
    "start_time": "2024-06-19T07:44:20.706Z"
   },
   {
    "duration": 749,
    "start_time": "2024-06-19T07:44:54.525Z"
   },
   {
    "duration": 747,
    "start_time": "2024-06-19T07:45:05.171Z"
   },
   {
    "duration": 944,
    "start_time": "2024-06-19T07:53:48.196Z"
   },
   {
    "duration": 938,
    "start_time": "2024-06-19T07:54:20.422Z"
   },
   {
    "duration": 760,
    "start_time": "2024-06-19T07:57:14.258Z"
   },
   {
    "duration": 590,
    "start_time": "2024-06-19T09:47:50.646Z"
   },
   {
    "duration": 4,
    "start_time": "2024-06-19T09:47:51.239Z"
   },
   {
    "duration": 7098,
    "start_time": "2024-06-19T09:47:51.246Z"
   },
   {
    "duration": 829,
    "start_time": "2024-06-19T09:47:58.349Z"
   },
   {
    "duration": 1112,
    "start_time": "2024-06-19T09:48:02.767Z"
   },
   {
    "duration": 1112,
    "start_time": "2024-06-19T09:48:47.165Z"
   },
   {
    "duration": 6,
    "start_time": "2024-06-19T09:49:53.989Z"
   },
   {
    "duration": 4,
    "start_time": "2024-06-19T09:49:53.999Z"
   },
   {
    "duration": 7166,
    "start_time": "2024-06-19T09:49:54.007Z"
   },
   {
    "duration": 833,
    "start_time": "2024-06-19T09:50:01.176Z"
   },
   {
    "duration": 845,
    "start_time": "2024-06-19T09:50:02.016Z"
   },
   {
    "duration": 835,
    "start_time": "2024-06-19T09:50:02.863Z"
   },
   {
    "duration": 24,
    "start_time": "2024-06-19T09:50:16.243Z"
   },
   {
    "duration": 9,
    "start_time": "2024-06-19T09:50:16.275Z"
   },
   {
    "duration": 7114,
    "start_time": "2024-06-19T09:50:16.288Z"
   },
   {
    "duration": 849,
    "start_time": "2024-06-19T09:50:23.409Z"
   },
   {
    "duration": 862,
    "start_time": "2024-06-19T09:50:24.270Z"
   },
   {
    "duration": 842,
    "start_time": "2024-06-19T09:50:25.136Z"
   },
   {
    "duration": 861,
    "start_time": "2024-06-19T09:50:25.987Z"
   },
   {
    "duration": 865,
    "start_time": "2024-06-19T09:50:26.859Z"
   },
   {
    "duration": 841,
    "start_time": "2024-06-19T09:50:48.083Z"
   },
   {
    "duration": 305,
    "start_time": "2024-06-19T11:10:40.934Z"
   },
   {
    "duration": 612,
    "start_time": "2024-06-19T11:10:56.011Z"
   },
   {
    "duration": 4,
    "start_time": "2024-06-19T11:10:56.630Z"
   },
   {
    "duration": 6691,
    "start_time": "2024-06-19T11:10:56.637Z"
   },
   {
    "duration": 774,
    "start_time": "2024-06-19T11:11:03.332Z"
   },
   {
    "duration": 789,
    "start_time": "2024-06-19T11:11:04.108Z"
   },
   {
    "duration": 778,
    "start_time": "2024-06-19T11:11:04.903Z"
   },
   {
    "duration": 1707,
    "start_time": "2024-06-19T11:11:05.685Z"
   },
   {
    "duration": 0,
    "start_time": "2024-06-19T11:11:07.395Z"
   },
   {
    "duration": 779,
    "start_time": "2024-06-19T11:11:22.696Z"
   },
   {
    "duration": 973,
    "start_time": "2024-06-19T11:14:53.584Z"
   },
   {
    "duration": 818,
    "start_time": "2024-06-19T11:17:06.206Z"
   },
   {
    "duration": 577,
    "start_time": "2024-06-19T11:28:32.080Z"
   },
   {
    "duration": 4,
    "start_time": "2024-06-19T11:28:32.661Z"
   },
   {
    "duration": 6608,
    "start_time": "2024-06-19T11:28:32.669Z"
   },
   {
    "duration": 769,
    "start_time": "2024-06-19T11:28:39.282Z"
   },
   {
    "duration": 783,
    "start_time": "2024-06-19T11:28:40.055Z"
   },
   {
    "duration": 772,
    "start_time": "2024-06-19T11:28:40.841Z"
   },
   {
    "duration": 775,
    "start_time": "2024-06-19T11:28:41.616Z"
   },
   {
    "duration": 806,
    "start_time": "2024-06-19T11:28:42.394Z"
   },
   {
    "duration": 616,
    "start_time": "2024-07-13T02:32:23.094Z"
   },
   {
    "duration": 4,
    "start_time": "2024-07-13T02:32:23.713Z"
   },
   {
    "duration": 6470,
    "start_time": "2024-07-13T02:32:23.720Z"
   },
   {
    "duration": 752,
    "start_time": "2024-07-13T02:32:30.196Z"
   },
   {
    "duration": 764,
    "start_time": "2024-07-13T02:32:30.951Z"
   },
   {
    "duration": 754,
    "start_time": "2024-07-13T02:32:31.718Z"
   },
   {
    "duration": 756,
    "start_time": "2024-07-13T02:32:32.475Z"
   },
   {
    "duration": 785,
    "start_time": "2024-07-13T02:32:33.234Z"
   }
  ],
  "kernelspec": {
   "display_name": "Python 3 (ipykernel)",
   "language": "python",
   "name": "python3"
  },
  "language_info": {
   "codemirror_mode": {
    "name": "ipython",
    "version": 3
   },
   "file_extension": ".py",
   "mimetype": "text/x-python",
   "name": "python",
   "nbconvert_exporter": "python",
   "pygments_lexer": "ipython3",
   "version": "3.9.19"
  },
  "toc": {
   "base_numbering": 1,
   "nav_menu": {},
   "number_sections": true,
   "sideBar": true,
   "skip_h1_title": true,
   "title_cell": "Table of Contents",
   "title_sidebar": "Contents",
   "toc_cell": false,
   "toc_position": {},
   "toc_section_display": true,
   "toc_window_display": false
  }
 },
 "nbformat": 4,
 "nbformat_minor": 2
}
